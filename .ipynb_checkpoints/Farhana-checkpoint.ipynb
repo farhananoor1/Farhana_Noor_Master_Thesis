{
 "cells": [
  {
   "cell_type": "markdown",
   "id": "a84953b7-2282-4dd8-8ad8-f7c51b62cd4e",
   "metadata": {},
   "source": [
    "## Data Processing"
   ]
  },
  {
   "cell_type": "code",
   "execution_count": 2,
   "id": "dac419e4-6639-4673-8320-f6e4dccca2aa",
   "metadata": {},
   "outputs": [
    {
     "name": "stdout",
     "output_type": "stream",
     "text": [
      "Collecting protobuf==3.20.3\n",
      "  Downloading protobuf-3.20.3-py2.py3-none-any.whl.metadata (720 bytes)\n",
      "Downloading protobuf-3.20.3-py2.py3-none-any.whl (162 kB)\n",
      "Installing collected packages: protobuf\n",
      "  Attempting uninstall: protobuf\n",
      "    Found existing installation: protobuf 4.25.3\n",
      "    Uninstalling protobuf-4.25.3:\n",
      "      Successfully uninstalled protobuf-4.25.3\n",
      "\u001b[31mERROR: pip's dependency resolver does not currently take into account all the packages that are installed. This behaviour is the source of the following dependency conflicts.\n",
      "wandb 0.16.6 requires appdirs>=1.4.3, which is not installed.\u001b[0m\u001b[31m\n",
      "\u001b[0mSuccessfully installed protobuf-3.20.3\n"
     ]
    }
   ],
   "source": [
    "!pip install --upgrade --force-reinstall protobuf==3.20.3"
   ]
  },
  {
   "cell_type": "code",
   "execution_count": 3,
   "id": "763c800b-a1cb-4998-aff9-5874d5d9bb89",
   "metadata": {},
   "outputs": [
    {
     "name": "stderr",
     "output_type": "stream",
     "text": [
      "2025-04-25 14:39:41.803707: I tensorflow/core/platform/cpu_feature_guard.cc:210] This TensorFlow binary is optimized to use available CPU instructions in performance-critical operations.\n",
      "To enable the following instructions: AVX2 AVX512F AVX512_VNNI FMA, in other operations, rebuild TensorFlow with the appropriate compiler flags.\n"
     ]
    },
    {
     "name": "stdout",
     "output_type": "stream",
     "text": [
      "NumPy: 1.26.4\n",
      "TensorFlow: 2.16.2\n",
      "TF-Hub: 0.16.1\n"
     ]
    }
   ],
   "source": [
    "import numpy as np\n",
    "import tensorflow as tf\n",
    "import tensorflow_hub as hub\n",
    "\n",
    "print(\"NumPy:\", np.__version__)        # should be 1.23.5\n",
    "print(\"TensorFlow:\", tf.__version__)   # should be 2.12.0\n",
    "print(\"TF-Hub:\", hub.__version__)      # should be 0.12.0"
   ]
  },
  {
   "cell_type": "code",
   "execution_count": 4,
   "id": "c908809c-8b9a-44fa-848d-6de16c50ecc0",
   "metadata": {},
   "outputs": [],
   "source": [
    "import re\n",
    "import unicodedata\n",
    "import nltk\n",
    "import random\n",
    "import numpy as np\n",
    "from sklearn.manifold import TSNE\n",
    "import matplotlib.pyplot as plt\n",
    "from collections import Counter\n",
    "import csv\n",
    "random.seed(42)"
   ]
  },
  {
   "cell_type": "code",
   "execution_count": 5,
   "id": "9c229eee",
   "metadata": {},
   "outputs": [],
   "source": [
    "# Read text files from the local \"dataset\" folder\n",
    "\n",
    "# YORUBA\n",
    "with open('dataset/bot_data_yoruba.txt', 'r', encoding='utf-8') as f:\n",
    "    bot_data_yoruba = f.read()\n",
    "with open('dataset/human_data_yoruba.txt', 'r', encoding='utf-8') as f:\n",
    "    human_data_yoruba = f.read()\n",
    "    \n",
    "# KASHMIRI    \n",
    "with open('dataset/bot_data_kashmiri.txt', 'r', encoding='utf-8') as f:\n",
    "     bot_data_kashmiri = f.read()\n",
    "with open('dataset/human_data_kashmiri.txt', 'r', encoding='utf-8') as f:\n",
    "     human_data_kashmiri = f.read()"
   ]
  },
  {
   "cell_type": "code",
   "execution_count": 29,
   "id": "bfa6c4df",
   "metadata": {
    "scrolled": true
   },
   "outputs": [],
   "source": [
    "# print(human_data_yoruba)"
   ]
  },
  {
   "cell_type": "code",
   "execution_count": 30,
   "id": "926001c8-8ce0-438e-9ef6-7179400c418f",
   "metadata": {},
   "outputs": [],
   "source": [
    "# print(bot_data_yoruba)"
   ]
  },
  {
   "cell_type": "code",
   "execution_count": 31,
   "id": "be9064f2",
   "metadata": {},
   "outputs": [],
   "source": [
    "# print(human_data_kashmiri)"
   ]
  },
  {
   "cell_type": "code",
   "execution_count": 32,
   "id": "399b1862-ab12-4e5f-ac67-0f61328dcd4e",
   "metadata": {},
   "outputs": [],
   "source": [
    "# print(bot_data_kashmiri)"
   ]
  },
  {
   "cell_type": "code",
   "execution_count": 6,
   "id": "6164ed3a",
   "metadata": {},
   "outputs": [
    {
     "name": "stdout",
     "output_type": "stream",
     "text": [
      "Number of words: 22096\n",
      "First 20 words: ['gbogbo', 'àgbègbè', 'tó', 'lórí', 'ìtàn', 'YòrùbáÓyó', 'Ìbàdàn', 'Ìjbú', 'Èkìtì', 'Ègbáàwn', 'aáájúòèlú', 'atij', 'àti', 'onímìtàn', 'ti', 'da', 'àfihàn', 'ìtàn', 'àwn', 'ìjba']\n",
      "Number of words: 949580\n",
      "First 20 words: ['Taani', 'o', 'so', 'oro', 'yii', '\"Mu', 'ohun', 'ikowe', 're,', 'beresi', 'iko', 'itan', 'ti', 'emi', 'o', 'so', 'wonyi', 'sile,', 'mase', 'fi']\n",
      "Number of words: 20146\n",
      "First 20 words: ['بابا،', 'بہن', 'تہ', 'برار،', 'اَمُن', 'یار', 'مِتر', 'تہ', 'ہمسایہ', 'چھُہ', 'گامِچ', 'دِل', 'ہند', 'شِکار', 'تہ', 'نَوکھ', 'سَلطَنَت', 'ہندس', 'رِکھیوَل۔', 'اماں']\n",
      "Number of words: 120842\n",
      "First 20 words: ['گٹہٕ', 'کٲژا', 'چھس', 'وۅہوَن', 'منہٕ', 'آنگن', 'منز', 'راتھ', 'وُچھم', 'کُن', 'زۆن', 'شُر', 'اکھ', 'زوٗنہ', 'گندن', 'گۅڈہ', 'یێتہ', 'گاہ', 'پٮ۪و', 'افتابُک']\n"
     ]
    }
   ],
   "source": [
    "def summarize_text(text):\n",
    "  \"\"\"\n",
    "  Summarizes the given text by printing the number of words and display first 20 words.\n",
    "  \"\"\"\n",
    "  # Count the number of words and characters\n",
    "  num_words = len(text.split())\n",
    "\n",
    "  # Print the summary information\n",
    "  print(f\"Number of words: {num_words}\")\n",
    "\n",
    "  # Print the first 20 words\n",
    "  print(f\"First 20 words: {text.split()[50:70]}\")\n",
    "\n",
    "# Summarize the bot-generated Yoruba text\n",
    "summarize_text(bot_data_yoruba)\n",
    "\n",
    "# Summarize the human-written Yoruba text\n",
    "summarize_text(human_data_yoruba)\n",
    "\n",
    "# Summarize the bot-generated Kashmiri text\n",
    "summarize_text(bot_data_kashmiri)\n",
    "\n",
    "# Summarize the human-written Kashmiri text\n",
    "summarize_text(human_data_kashmiri)"
   ]
  },
  {
   "cell_type": "code",
   "execution_count": 9,
   "id": "8dd9ad05-e05f-477f-884e-9e5aaae045f9",
   "metadata": {},
   "outputs": [
    {
     "name": "stdout",
     "output_type": "stream",
     "text": [
      "Top Human Yoruba words: [('si', 46870), ('o', 38146), ('ti', 35510), ('ni', 22489), ('rẹ', 21574), ('awọn', 21540), ('ati', 18684), ('ki', 15104), ('fun', 14138), ('li', 13587), ('a', 13415), ('wọn', 12262), ('nwọn', 12160), ('fi', 9947), ('mi', 9292), ('bi', 9261), ('ṣe', 8215), ('oluwa', 7966), ('ọmọ', 7388), ('ba', 7294), ('yio', 7164), ('kò', 7109), ('emi', 7018), ('pe', 6950), ('gbogbo', 6771), ('lati', 6616), ('na', 6368), ('ninu', 6240), ('iwọ', 5904), ('lọ', 5326), ('jẹ', 5174), ('wá', 4972), ('nyin', 4730), ('enia', 4513), ('le', 4488), ('ọlọrun', 4404), ('ara', 4373), ('i', 4296), ('wi', 4255), ('mu', 4211), ('nitori', 4210), ('ṣugbọn', 4084), ('ọ', 4065), ('kan', 4012), ('wa', 3955), ('ẹ', 3818), ('ẹnyin', 3571), ('yi', 3425), ('pẹlu', 3397), ('wipe', 3371)]\n",
      "Top Bot Yoruba words: [('ní', 725), ('tí', 380), ('ń', 372), ('pé', 362), ('ó', 345), ('tó', 300), ('bí', 276), ('àwn', 267), ('àti', 255), ('a', 247), ('bá', 244), ('wn', 236), ('fi', 208), ('sí', 207), ('kó', 185), ('fún', 180), ('e', 175), ('lórí', 169), ('máa', 164), ('j', 158), ('lè', 154), ('kí', 149), ('plú', 138), ('oríkì', 131), ('òwe', 130), ('àà', 128), ('í', 119), ('r', 117), ('yìí', 113), ('dá', 106), ('yóò', 105), ('kò', 102), ('ni', 100), ('náà', 99), ('yòrùbá', 98), ('k', 94), ('kì', 94), ('m', 92), ('ti', 91), ('sì', 87), ('tún', 87), ('nínú', 86), ('gbogbo', 85), ('láti', 75), ('yoruba', 73), ('hàn', 70), ('yí', 67), ('ìtàn', 66), ('gbé', 64), ('kan', 63)]\n",
      "Top Human Kashmiri words: [('تہٕ', 3208), ('،', 1925), ('چھُ', 1808), ('منز', 1411), ('تہ', 1223), ('یہ', 977), ('و', 846), ('چھِ', 766), ('زِ', 717), ('۔', 693), ('چھے', 660), ('اوس', 569), ('ہُند', 529), ('پٮ۪ٹھ', 488), ('سٍتۍ', 486), ('اکھ', 453), ('مثنوی', 426), ('چھہ', 351), ('نہٕ', 346), ('شاہ', 329), ('یا', 297), ('سُہ', 297), ('اَتھ', 297), ('پٲٹھۍ', 290), ('مگر', 288), ('حضرت', 272), ('ہٕنز', 268), ('ہٕندۍ', 261), ('از', 259), ('اَمہ', 253), ('سُند', 252), ('نہ', 241), ('ٲسۍ', 220), ('سٕنز', 220), ('نامہٕ', 216), ('الدین', 215), ('کٲشرِ', 213), ('زبٲنۍ', 207), ('خٲطرٕ', 204), ('کران', 201), ('ہٕندِس', 200), ('محمد', 196), ('تام', 196), ('یِمن', 194), ('یِم', 186), ('پتہٕ', 183), ('شعر', 179), ('کینہہ', 173), ('کٔشیرِ', 172), ('یُس', 171)]\n",
      "Top Kashmiri Bot words: [('چھُہ', 531), ('زُون', 529), ('تہ', 471), ('منز', 373), ('ہُند', 367), ('چُھہ', 314), ('ہند', 259), ('اوس', 231), ('کہ', 166), ('بیگم', 165), ('کران', 149), ('بےبی', 146), ('میں', 133), ('سِتھ', 131), ('ایک', 128), ('اَکھ', 115), ('وُننان', 115), ('صندوقچہ', 113), ('تامِچ', 112), ('نہ', 111), ('یِیہ', 108), ('میہ', 108), ('ہر', 107), ('اندر', 107), ('وُنن،', 104), ('اند', 91), ('میوہ', 90), ('مگر', 90), ('مشتاق', 82), ('پَنُن', 81), ('پنُن', 80), ('دِل', 76), ('سُہادا', 71), ('کہانی', 70), ('وُنن', 68), ('زَبان', 67), ('ژٔ', 67), ('بنگارنِک', 64), ('پر', 62), ('یوان', 61), ('کشمیری', 61), ('بھی', 61), ('پَر', 57), ('گژھ', 54), ('اکھ', 54), ('پَٹھ', 54), ('گوو', 51), ('کیا', 50), ('دل', 50), ('آسُن', 49)]\n"
     ]
    }
   ],
   "source": [
    "import re\n",
    "from collections import Counter\n",
    "\n",
    "# language → regex to strip out everything except letters + whitespace\n",
    "PATTERNS = {\n",
    "    'en':      r'[^a-z\\s]',\n",
    "    'yoruba':  r'[^a-zàáâãèéêìíîòóôõùúûẹọṣń\\s]',\n",
    "    'kashmiri':r'[^\\u0600-\\u06FF\\s]'\n",
    "}\n",
    "\n",
    "def preprocess_text(text: str, language: str = 'en') -> list[str]:\n",
    "    \"\"\"\n",
    "    1. Lowercase (no‑op for Arabic script).\n",
    "    2. Remove any char not in the target alphabet.\n",
    "    3. Split on whitespace.\n",
    "    \"\"\"\n",
    "    text = text.lower()\n",
    "    pattern = PATTERNS.get(language, PATTERNS['en'])\n",
    "    text = re.sub(pattern, '', text)\n",
    "    return text.split()\n",
    "\n",
    "def count_frequencies(tokens: list[str]) -> Counter:\n",
    "    return Counter(tokens)\n",
    "\n",
    "def get_most_common(corpus_text: str, language: str = 'en', top_n: int = 50):\n",
    "    tokens = preprocess_text(corpus_text, language)\n",
    "    freq   = count_frequencies(tokens)\n",
    "    return freq.most_common(top_n)\n",
    "\n",
    "if __name__ == '__main__':\n",
    "    \n",
    "    with open('dataset/human_data_yoruba.txt', encoding='utf-8') as f:\n",
    "        human_data_yoruba = f.read()\n",
    "    print('Top Human Yoruba words:', get_most_common(human_data_yoruba, language='yoruba'))\n",
    "\n",
    "    with open('dataset/bot_data_yoruba.txt', encoding='utf-8') as f:\n",
    "        bot_data_yoruba = f.read()\n",
    "    print('Top Bot Yoruba words:', get_most_common(bot_data_yoruba, language='yoruba'))\n",
    "\n",
    "\n",
    "\n",
    "    with open('dataset/human_data_kashmiri.txt', encoding='utf-8') as f:\n",
    "        human_data_kashmiri = f.read()\n",
    "    print('Top Human Kashmiri words:', get_most_common(human_data_kashmiri, language='kashmiri'))\n",
    "\n",
    "    with open('dataset/bot_data_kashmiri.txt', encoding='utf-8') as f:\n",
    "        bot_data_kashmiri = f.read()\n",
    "    print('Top Kashmiri Bot words:', get_most_common(bot_data_kashmiri, language='kashmiri'))"
   ]
  },
  {
   "cell_type": "code",
   "execution_count": 10,
   "id": "4227db83",
   "metadata": {},
   "outputs": [],
   "source": [
    "import re\n",
    "from collections import Counter\n",
    "def find_frequent_words(text, threshold=150):\n",
    "    words = text.split()\n",
    "    word_counts = Counter(words)\n",
    "    frequent_words = [word for word, count in word_counts.items() if count >= threshold]\n",
    "    return frequent_words"
   ]
  },
  {
   "cell_type": "code",
   "execution_count": 11,
   "id": "292c3c3c-aa83-4fe3-a6b8-40a7954e8ca2",
   "metadata": {},
   "outputs": [
    {
     "name": "stdout",
     "output_type": "stream",
     "text": [
      "['A', 'fi', 'i', 'a', 'o', 'so', 'ohun', 'ti', 'emi', 'di', 'miran', 'ki', 'ma', 'ba', 'Emi', 'wa', 'mo', 'nitori', 'mi', 'lo', 'ku', 'ni', 'na', 'si', 'mi,', 'bi', 'fun', 'ko', 'pe', 'Kini', 'nkan', 'ninu', '-', 'ati', 'pa', 'ri', 'nitoripe', 'Ohun', 'tan', 'e', 'wo', 'inu', 'nigbati', 'aiye', 'yi', '—', '.', 'gbe', ',', 'de', 'le', 'oju', 'yio', 'gba', 'lati', 'on', 'n', 'gbogbo', 'ni,', 'to', 'loju', 'iya', 'iba', 'rin', 'ilu', 'mi.', 'O', 'ju', 'tun', 'Bi', 'da', 'mi;', 'oru', 'oni', 'eniyan', 'sun', 'dide,', 'o,', 'wa,', 'wa.', 'mu', 'iru', 'Wa', 'naa', 'obinrin', 'baba', 'ara', 'Baba', 'yi,', 'owo', 'ogun', 'Tani', 'Mo', 'dabi', 'aiya', 'maa', 'nfi', 'ori', 'Nitori', 'idi', 'Gbogbo', 'meji', 'a.', 'wi', 'bayi', 'rẹ', 'ranti', 'kan', 'la', 'Bayi', 'awa', 'nipa', 'i.', 'nigba', 'tani', 'sin', 'ya', 'dide', 'ile', 'bi?', 'ran', 'ibi', 'ni.', '..', 'gbogbo,', 'enia,', 'a,', 'titi', 'wipe', 'enia', 'Ni', 'niwaju', 'nitorina', 'san', 'jade', 'na.', 'ọwọ', 'jẹ', 'ọkan', 'awọn', 'iwe', 'Yoruba', 'dá', 'lé', 'kọ', 'lẹhin', 'Ọmọ', 'ọpọlọpọ', 'iṣẹ', 'lẹ̀', 'ṣe', 'lori', 'orukọ', 'ilẹ', 'máa', 'pe,', 'ô', 'mọ', 'diẹ', 'hàn', 'kà', 'wà', 'lọwọ', 'ẹni', 'ọrọ', 'wọn', 'kò', 'ọrẹ', 'rẹ̀', 'tẹ', 'ẹ̀rọ', 'yi.', 'ní', 'pupọ', 'ọmọ', 'ọba', 'gbé', 'l', 'dé', ':', 'Ti', 'omi', 'Ẹ', 'gbà', 'wọn;', 'silẹ', 'gbọ', 'Ọlọrun', 'í', 'bá', 'gbẹ', 'Jẹ', 'fẹ', 'mba', 'wi,', 'Ô', 'eyi', 'nsọ', 'Ṣugbọn', \"l'a\", 'kì', 'wò', 'nwọn', 'sọ', 'tabi', 'jẹ,', 'bẹ̀', 'rere', 'má', 'jẹ.', 'nṣe', 'rẹ̀.', 'lara', 'dà', 'lọ', 'de,', 'pò', 'ẹnu', 'mọ.', 'ṣugbọn', 'bẹ', 'njẹ', 'wọ', 'mò', 'ọkọ', 'ọgbọn', 'ọdọ', 'idile', 'wọnyi', 'keji', 'iran', 'Ọlọrun.', 'Ki', 'mẹta', 'Ọba', 'ijoye', 'ẹgbẹ', 'Eyi', 'Awọn', 'tilẹ', 'wọn,', 'gẹgẹ', 'Nwọn', 'igbati', 'gbọdọ', 'sunmọ', 'wọn.', 'iṣe', 'nibi', 'pada', 'pẹlu,', 'ka', 'pẹlu', 'ọkàn', 'ọjọ', 'kô', 'yà', 'rẹ̀,', 'yẹ', 'ọmọbinrin', 'sori', 'wọnyi,', 'Nitoripe', 'sì', 'lárin', 'meje', 'ipò', 'ke', 'i,', 'silẹ.', 'lọwọ,', 'nmu', 'Lẹhin', 'kọja', 'labẹ', 'ké', 'kú', 'sinu', 'oun', 'ọ', '?', 'ẹ', 'onjẹ', 'ẹran', 'Yio', 'ẹrọ', 'kuro', 'bẹni', 'Kò', 'rà', 'wò,', 'wá.', 'irú', 'ẹnikẹni', 'ọdun', 'bọ', 'wá,', 'aiye,', 'jọ', 'pẹ', 'mẹ', 'ọkunrin', 'wọn:', 'kẹ', 'Si', 'Wá', 'tọ', 'bò', 'ọmọkunrin', 'nisisiyi', 'orin', 'Ati', 'ẹsẹ', 'li', 'oṣù', 'npe', 'u', 'irun', 'ọna', 'nlọ', 'ọdún', 'tan,', 'lọdọ', 'pé', 'aṣọ', 'mbẹ', 'wá', 'ẹbọ', 'ṣe.', 'mú', 'igi', 'oko', 'yọ', 'kú,', 'ikú', 'lọ.', 'ri,', 'ta', 'bà', 'ẹiyẹ', 'odò', 'Wi', 'Ẹni', 'bí', 'yàn', 'eti', 'tò', 'ibẹ̀', 'ogún', 'Nigbati', 'aya', 'Nigba', 'tún', 'dì', 'nà', 'tì', 'ọ.', 'kù', 'ẹnikan', 'kan,', 'jade,', 'mọ,', 'ará', 'olori', 'ayò', 'run', 'pẹ̀', 'si.', 'kan.', 'rìn', 'ṣi', 'Wọn', 'eyi,', 'rò', 'iná', 'Lati', 'là', 'ọrun', 'joko', 'nì', 'ngbe', 'kiyesi', 'ṣẹ', 'ha', 'enia.', 'wi;', 'Ẹnyin', 'si,', 'pẹlu.', 'nwá', 'ọba,', 'iyawo', 'sisun', 'nla', 'igba', 'lọ,', 'ẹ̀ṣẹ', 'silẹ,', 'kú.', 'tẹ̀', 'ẹnyin', 'nyin', 'nyin,', 'kini', 'ọba.', 'lù', 'Ninu', 'kàn', 'rẹ.', 'iwọ', 'ru', 'sọrọ', 'ibinu', 'duro', 'nyin.', 'ọwé', 'rán', 'pẹpẹ', 'sá', 'ṣe,', 'sa', 'mu,', 'ìwọn', 'ká', 'rù', 'ṣubu', 'ranṣẹ', 'ọ,', 'ngbé', 'ni—', 'ẹ̀jẹ', 'fà', 'máṣe', 'ẹranko', 'rẹ̀;', 'lọ;', 'odi', 'lailai.', 'jù', 'Njẹ', 'yìn', 'itẹ', 'jọba', 'kún', 'lọ:', 'ẹmi', 'ijọ', 'Ẹniti', 'Wò', 'oriṣa', 'agbara', 'ohunkohun', 'náà', 'ìmọ', 'eyiti', 'giga', 'yéò', 'yòò', 'rẹ,', 'Oluwa', 'Oluwa:', 'ọtún', 'apa', 'ìgba', 'eso', 'Li', 'ijẹ', 'ofin', 'yôò', 'kigbe', 'dara', 'sí', 'iye', 'ere', 'ani', 'òrọ', 'arin', 'kuro,', 'kalẹ', 'Ju', 'ifẹ', 'ijọba', 'dahùn', 'gbogbo.', 'aye', 'okun', 'wọnni', 'wi.', 'okuta', 'olukuluku', 'siwaju', 'ogo', 'ipa', 'On', 'paṣẹ', 'nfẹ', 'u,', 'oluwa', 'tú', 'ìwa', 'ododo', 'u.', 'òna', 'aṣẹ', 'ọjẹ', 'nisisiyi,', 'otitọ', 'rẹ;', 'Iwọ', 'wipe,', 'Ọlọrun,', 'nì,', 'oke', 'bẹ̀rẹ', 'ilẹ,', 'rẹ:', 'ọpá', 'na,', 'sìn', 'buburu', 'àmi', 'bikoṣe', 'òke', 'agutan', 'ọta', 'alagbara', 'goke', 'opin', 'sọdọ', 'Wọnyi', 'nibẹ̀', 'ẹ̀ya', 'apoti', 'ajọ', 'wura', 'idà', 'ṣí', 'Jesu', 'okú', 'ohùn', 'larin', 'wà,', 'ẹniti', 'yipada', 'alafia', 'iwọ,', 'idajọ', 'imọlẹ', 'pada,', 'soke,', 'soke', 'mejeji', 'iranṣẹ', 'Awa', 'rẹ̀:', 'agọ', 'Ẹmí', 'korira', 'ọrun,', 'òpọlọpọ', 'OLUWA', 'Wà', 'na;', 'nibiti', 'ìha', 'Wipe,', 'mi:', 'bẹli', 'nigbana', 'ẹ̀ru', 'Nitoriti', 'Wá,', 'Nitorina', 'OLUWA.', 'arakunrin', 'OLUWA,', 'nitoriti', 'majẹmu', 'Bẹni', 'orilẹ—ẹ̀de', 'àgbegbe', 'sọkalẹ', 'na:', 'Egipti', 'Egipti,', 'Kiyesi', 'Farao', 'Nigbana', 'alufa', 'sòrọ', 'nyin:', 'niti', 'wọnni,', 'bẹ̀ru', 'akokò', 'Máṣe', 'Ọlọ—', 'kili', 'Jakobu', 'Josefu', 'irekọja', 'Israeli', 'Israeli,', 'Lefi', 'Israeli.', 'Juda', 'Mose', 'Oluwa,', 'Aaroni', 'mim', 'Joṣua', 'gòke', 'igbọnwọ', 'iyokù', 'alufa,', 'Juda,', 'woli', 'Jerusalemu', 'ọmọ—ogun', 'Jerusalemu,', 'Filistini', 'Oluwa.', 'igbala', 'Saulu', 'Dafidi', 'Dafidi,', 'Solomoni', 'ọmọ-ẹhin', 'Kristi']\n"
     ]
    }
   ],
   "source": [
    "frequent_words_yoruba_human = find_frequent_words(human_data_yoruba)\n",
    "print(frequent_words_yoruba_human )"
   ]
  },
  {
   "cell_type": "code",
   "execution_count": 12,
   "id": "05c3b749",
   "metadata": {},
   "outputs": [
    {
     "name": "stdout",
     "output_type": "stream",
     "text": [
      "['Ní', 'tó', 'àti', 'tí', 'wn', 'sí', 'a', 'àwn', 'lórí', 'fún', 'ní', 'fi', 'pé', 'lè', 'e', 'j', 'ń', 'bí', 'ó', 'bá', 'máa', 'kó']\n"
     ]
    }
   ],
   "source": [
    "frequent_words_yoruba_bot = find_frequent_words(bot_data_yoruba)\n",
    "print(frequent_words_yoruba_bot)"
   ]
  },
  {
   "cell_type": "code",
   "execution_count": 13,
   "id": "acdd388e-de39-4d06-b057-05f0bc38946d",
   "metadata": {},
   "outputs": [
    {
     "name": "stdout",
     "output_type": "stream",
     "text": [
      "['اوس', 'منز', 'کُن', 'اکھ', 'غلام', 'محمد', '۔', 'کینہہ', 'تہٕ', 'تہ', '،', 'یُس', 'پٲٹھۍ', 'کٲشرِ', 'الدین', 'پٮ۪ٹھ', 'زِ', 'و', 'چھہ', 'فارسی', 'مگر', 'خٲطرٕ', 'نہ', 'یا', 'یہ', 'سٍتۍ', 'کران', 'یتھ', 'بے', 'پتہٕ', 'نہٕ', 'شعر', 'چھے', 'گو', 'سُہ', 'زبٲنۍ', 'ہے', 'یِم', 'ٲسۍ', 'ٲس', 'کرنہٕ', 'تس', 'سٕنز', 'ہٕنز', 'ہُند', 'اَمہ', 'کٔشیرِ', 'چھُنہٕ', 'چھُ', 'از', 'ہٕندِ', 'ہٕندۍ', 'تمٔۍ', 'تِمن', 'یِمن', 'مثنوی', 'ہٕندِس', 'تام', 'مے', 'چھِ', 'شاہ', 'متعلق', 'اَتھ', 'ییلہ', 'سُند', 'حضرت', 'اللہ', 'نامہٕ', 'شیخ']\n"
     ]
    }
   ],
   "source": [
    "frequent_words_kashmiri_human = find_frequent_words(human_data_kashmiri)\n",
    "print(frequent_words_kashmiri_human)"
   ]
  },
  {
   "cell_type": "code",
   "execution_count": 14,
   "id": "08df3a54-d297-455c-9523-b9ea22046909",
   "metadata": {},
   "outputs": [
    {
     "name": "stdout",
     "output_type": "stream",
     "text": [
      "['زُون', 'چُھہ', 'منز', 'تہ', 'ہند', 'چھُہ', 'اوس', 'ہُند', 'کہ', 'بیگم']\n"
     ]
    }
   ],
   "source": [
    "frequent_words_kashmiri_bot = find_frequent_words(bot_data_kashmiri)\n",
    "print(frequent_words_kashmiri_bot)"
   ]
  },
  {
   "cell_type": "markdown",
   "id": "4ee3ff2f-09dd-4657-8f99-06aa1c7e6530",
   "metadata": {},
   "source": [
    "## Yoruba Diacritic Removal"
   ]
  },
  {
   "cell_type": "code",
   "execution_count": 12,
   "id": "eae6c84b-270c-478f-beac-1ded5423150d",
   "metadata": {},
   "outputs": [
    {
     "name": "stdout",
     "output_type": "stream",
     "text": [
      "Ni agbegbe Iwrun Naijiria Yoruba ti da itan ibil kan to gbooro plu ede ie isin litires ati imo ojusin IleIf ilu ibil ti wn gba si kelda ni a ka si kanaya iran Yoruba ib ni agbelebu itanibil ti br plu Oduduwa Obatala runmila ati awn irunmole miiran Ni gbogbo agbegbe to lori itan YorubaOyo Ibadan Ijbu Ekiti Egbaawn aaajuoelu atij ati onimitan ti da afihan itan awn ijba irinajo eniyan ibaep ati igbyawo fun p grunun dun pere ugbn irinajo Yoruba o da sib nigba de akoko ijba oyinbo awn ba ati oloye ti kk koju iakoso alagbara Pnti naa wn si jiroro lati pa aa m niwaju lya amdemae dagba Amde ile Yoruba to ks ni DO Fagunwa fi itan Ogboju d ninu Igbo Irunmila han pe a le lo ede atwda ati alaye aaaju lati tsiwaju ireti ati ifkansin Amos Tutuola tun fi The PalmWine Drinkard e afihan irinajo im kan ni ayederu itanoniran Ni kanaya Yoruba ni Iwa Omoluabi ie rere iforiti ooto aitankara inure ati ibagb plu ibaep owo j koko r Owe Yoruba wi pe Iwa loogo Iwa rere san ju wura itan agbalagba n k mde bi a e le huwa niwn ilana ati itosna ikan Ninu aloapagba gg bi Ijapa ati Ikoko o han pe imleara ati imura kun igbe akunya Ede Yoruba kun fun owe oriki aloapagba itanojo ati ijala ere orin Owe kan wi Aja to ba maa sonu ki i gb fere olodo to tub k wa pe a o gbd yju si ifarapa Oriki orilede idile ati oriabi Ibadan moya Ibadan moku tabi Kawi kawi Edunjobifi iyin fun a ati itanijba is A Yoruba bi adir aso oke ankara a fi ati sanyan e afihan iiro ati inra Oni alabusn ag ati amuluo amohunmaworan kopa pata ninu itupal awn apr a wnyi lori ja igbeyawo atune ati irrun Islu Ijep oni ati olutaja eto awn ja plu alaye aa to n mu oriiiriii oju w Ni agbegbe isin p Oria yoo ti dak ugbn Sango un ya Ogun Eu Obatala i n gbyara IfaOdumerindinlogunn fun ni itosna han nigba ijaala ati ibo Ifa ibfa ipinnu a e plu ikin pl ohun elo ilana to n mu ki kan bal aaju ipinnu aeyri Awn ayy gelede egungun Ibeji ati ereOko tun i n sokan arailu plu orin ijo ati aaro Ni ipari ipin yii a ti agbeywo itsiwaju lori itanibil Yoruba ohun to da wn plitires aa isin iwa a litire idile drama ati irinajo igbeyawo Awa yoo tsiwaju ninu IpIN lati fi han bi aloapagba Owe Oriki ati literatures Yoruba e tubo k ipa ninu igbeaye ipya ati ibaep orilede Ire o Ni ipin keji yii a maa agbeyri daju lori ipa aloapagba ninu itni iwa im ati itan ibil Yoruba Aloapagba j na ti wn fi n k mde ati agba nipa gbn igbeaye imulo gbn ati iforiti lati oju awn agbalagba Nigba ti agbalagba ba da Alo gbek iwn ag itan k owe ati itupal moral yii n t ipinnu kan mu ki araawuj le e ifkansin plu itanojo to ni gbn Alo ijapa daju julIjapa ati Ikoko Ijapa ati Eku Ijapa a fi gba ensenni o fi itanoelu alaye mde han Ni Ijapa ati Ikoko Ijapa lo gbn bii aaaju irinajo o fi pakoigi loju Ikoko o si k wa pe aifarapa ki i pe lori ni ti o m sin gbn Aloapya Eranko miiran bi Ajanaku to rin si d odo tabi Ikooko to f pa igbin n k gbn iwapipya ifarabal ifojusunnipa itan alaye to n tan imole m kan O e pataki ki a esin imulo owe gg bi itanoelu ie Owe Yoruba bi Bi a ba ti ru ado a f yin re tabi Aja to ba maa sonu ki i gb fere olodo kun fun im agba ati itupal ironu to yoo t ipinnu mde mu A fi owe sinu ereitan ere darama akunya eu ati ayy Ijala o si n fi ara r han ni fiimu akop ati orin fuji apala juju Oriki j iwatata oruk ielyin idile ilu tabi Oriato n gbe itan itsiwaju ati aje p Oriki Ilu Ibadan Oyo Eko Ijea n da imil igbeaye ati ijpya awn arailu han oriki Idile bi Akinjugbe tabi Olowu n gbe itilyin ibaep idile kal Oriki Oriabi Kawi kawi Edunjobi fun ango Yeye alawo pupa fun untun n ri si iforuksil ibaep awn alagbara ayeoke Ni ka drama a ri iaj alaye awn ara ilu ie ereitan lori pp Hubert Ogunde Duro Ladip Kola Ogunmola k ere bi ba Ko So Yoruba Ronu ati Strike and Hunger wn fi owe ijala ati orinipya kun un Wle oyinka plu Death and the Kings Horseman ati A Dance of the Forests mu oria ibo Ifa itan awn obi ati ipinnu arailu ie kedere ko imil aa Yoruba gba pp agbaye Ni akoko igbeyawo ikom ie akop itanIjba Igbaelomi Isinku ati ikunya irantia e ijuwe awn sin ibil ibu awn iremeji ati oriki idile Awn ipya wn n mesin oruk omde iranti awn eniyan to ti l si orun iskuluku aje agbdrun o si fi itangbeyawo Yoruba han gg bi pp ijep ati im Ni ipari ipin yii a ti agbeyri awn aloapagba owe oriki ati drama Yoruba na wnyi ni wn n gbe itan ibil tan n k moral n mu im p si i ti wn si n t igbeaye awn arailu Yoruba mu Ni IPIN a o tsiwaju plu isda diaspora irinajo Itan Ifa ati ipa Yoruba lori itanoke ara il yika Ire o Nigba ti ijba alailoruk keyin de il Guusu Amrika p m Yoruba lo ko irinl kuro ni IleIf Ibadan Oyo lin p de Cuba Brazil Trinidad dajudaju de plu awn ibi miiran bi United States ati United Kingdom Ni Cuba isin Santeria tabi Lukumi ti gba plu Chango fun ango Ochun fun un Eleggua fun Eu Obaluaye fun BabaluAye Awon ile ij Casa de Santo maa n jo bata maa n fi owe Yoruba han ni ipe Maferefun Eleggua na ti wn fi n palm ibaep plu oria r Ni Brazil Candomble plu ka Nago Ketu Jeje ati Angola ti j afihan aa Yoruba plu oruk Oxossi fun Ode Oxum fun un Ogun fun Ogun Obaluae fun BabaluAye Awn ikanni ij wa ni Salvador de Bahia ati Rio de Janeiro nibi ti agbara orin bata ati ijo axe ti kan plu ibo Ifa Capoeiraere ija pipa ti a fi orin e alayetun da sil ni agbegbe Nago o n tan itan imulo ago apa fun ifarapa ati imura Trinidad ati Tobago tun ti gba sin Shango Baptist idasp Kristni plu ibaep ango Nibi ij Shango Baptist wn maa n pe oruk ango ni ipade wn y bata wn si ko Idanere itohun ibaep atkanwa na yii mu ki ibaep atij Yoruba ma baj sil ko si j pe o n tsiwaju lara p m iran Ni Benin Republic ati Togo awn ibil Fon ati Ewe wn lo Vodunami aje plu awn oria to wp plu Yorubabi Legba Sakpata Eu ati Oya Awn ayy Voodoo ti wn ni Dahomey Festival n kopa bata owe ati ijo ti o da lori aje plu jdun abay Ni Sierra Leone Krio to dagba duro ni Freetown fi oruk Yoruba han ninu ede ibanisr awn itan ijapa owe oriki ati itanIfa ti a wn si igbep aa ti ko da idile sil p ij Ifa diaspora lo wa wn n fi ikin pl ati ibfa runmila e ipinnu ilera kan ati ibaep Ni United States ati United Kingdom awn ile ij Yoruba ati awn gb itanibil ti da sil wn n ko ereitan iroye ajo diaspora ipade Onirunmila ikawe Yoruba Diaspora Conference ipe Dewa Day ni Philadelphia ati London Awn popura Yoruba ninu orin RB hiphop ati jazz ti n lu oriki atij sil ni idaskan plu imulo Gsi Awn pp ayelujara bi OrikiChallenge SpeakYoruba AfroYorubaCulture ati awn podkasi Yoruba diasporaYoruba in the World Ifa Online Diaspora Tales n j ko rrun fun iran tuntun lati m itan wn ki wn si mu aa Yoruba gun wn lori gbogbo agbelebu Ni ipari ipin yii a ti ri bi aa isin ede ati iroyin Yoruba e tu si gbogbo agbegbe aye plu ibaep ailera to lagbara to n gbe itan Yoruba tan ko si n fi gbn iwa rere ati itsiwaju mu igbeaye ara diaspora Ni IPIN a o tsiwaju si Idile Ibalo Idarik ati ipari irinajo Yoruba ni Ilba Ire o Ni agbegbe il Yoruba igbeyawo ki i e ie airisi o j ajy pata ti o kun fun ipe oruk ikini ati idaj ibaep Lyin irpt if to br laaarin idile meji bi akiyesi ife e gbera atune iforuksil bi ojo ti n r idile k yoo eto ipade plu idile iyawo wn yoo ko ag ere iyawo to n ko obi epo pupa irsi oti atawn bun mii Ni j igbeyawo idile mejeeji yoo jokoo lori it plu a ibil buba sokoto fila fun k buba iro gele fun iyawo wn a s oriki idile wn a ko owe wn a pe baba iyawo ati mama k ni ikini Igbeyawo awn Yoruba maa n tsiwaju si al plu ikoro ojo ijo bata ere orin atkanwa ki ibaep tuntun le dun bi ore sin ikom ipe m maa n l ni j ktadinlogun tabi ktala lyin ibi ni ile idile ikom ipinroyin fun ipe oruk m to n tju ibaep bi Idile yoo fi irsi ka omi oti ra atawn b si ori mde ki wn le s adura ibaep ilera gbn ati ibagbe yni pl tabi ibomde yoo fi ibomran iyamaaleke ati babalakaye bal wn a pe oruk to ni itum alaf Awn owe bi Ti a ko ba s a o m oruk n e atkasi pe oruk j ajmo imil m Ni idarik isinku idile maa eto isin abalaye plu ikle ajy da igbe lu wakati di bi wn e n tju ara to ku ikirin si ja ikrin owe itsiwaju fun eniyan to l si orun ati pipe egungun tabi gelede nigba ipade ibi ojo Wn maa ko ebu lori iboji wn maa fi irsi kunrin ikede Ifa ijapa akrin bata beere ileri ibaep plu da Awn owe bi Bi agba ba dagba a duro dopin n foye si iba e itan igbeaye ara to ku Aa iyawoyawo widowhood ni il Yoruba kun fun ilap kan Nigba to ba j pe iyawo tabi k ti inku iyawoyawo yoo w a dudu tabi alaw didan o ni lati fi ori ikun omi tabi adire kuku ji w ori ki o si j ni ikunj fun igba kan Wn maa agbekal ase itilyin idile ipese ewe ijrii iriri ibalewa ki wn le e imulo ibaep plu ijbaibil tabi Babalawo fun atune kan Nigba to ba pe o le tun br a aye wn a maa tanan leere fun ranyan plu imulo owe itunu bi Agba ki i binu agba ki i sun Ni ipari IPIN a ti agbeyri ie igbeyawo ikom idarik ati aa iyawoyawo Yoruba gg bi pp igbeaye ati ibaep bi Awn aa wnyi n t itan ati ieiwa Yoruba m wn n fi imulo ibaep ibil daju pe ijep araidile ko ni f Ire o Nigba ta a n wo bo e dagba litires Yoruba lonii a ri ifarapa to wuni ninu i awn onkwe tuntun bi Ymi Dada Tp Ajayi Rotimi Johnson ati Adebisi Alato Wn n k ewe itanirinajo alafroa akunya ewi lori igbeaye iranwn atij kik itan AfroFuturism Yoruba plu imulo ayelujara Awn iwe wn bi p Atal Irinajo Sango lori Mars Alaye Oria ninu Cyberpunk ti wa lori OkadaBooks Bambooks ati Amazon Kindle wn si n tun j ki aksil Yoruba han gbangba ni agbaye r ayelujara ti efidi mu itanilu Yoruba tu b soke plu podikasi bi Yoruba Tales Podcast Owe atarigbn Ifa Online Sessions ati Itanilu Yoruba on Spotify ati Apple Podcasts TikTok ati Instagram tun j pp nla fun idagbasoke OrikiChallenge SpeakYoruba AloApagba YorubaPoetryLive ni fifi owe oriki ati ewi alaye e afihan ni fiimu kiko Ijapa tabi Ijaguda lori fonutl Nipa imulo tekinloji imlara a ti ri awn app ikawe Yoruba bi Parrot Yoruba Google Translate Yoruba tju ami tonemarks SpeakYoruba App ati Duolingo da adani Awn Yoruba keyboards to n eto diacritics atwda ti mu ki kik ati ikawe Yoruba rrun Awn ile itwe onibon ko ebooks audiobooks ati interactive folktalesgg bi Ijapa AR plu ifonigbagb ni VRARnipa pp Kobo Kindle StoryWeaver ki itanibil le y siwaju ni na tuntun Gbogbo afwk ati afihan wnyi j ami pe litires Yoruba ki i ku o n etan fun awoksil tuntun o n darap m imulo im ati imudagba agbaye Ni ipin to n b a o tsiwaju plu ijep itage iroyin awn aa atawn ajo diaspora ki a le tubo gbooro si r ti n so itan Yoruba di mim si gbogbo agbegbe Ire o DO FAGUNWA BABA IWE ONIKOWE YORUBA Daniel Olorunfunmilayo Fagunwa ni wn ka si onikwe akeko akk to k itan ni ede Yoruba Nigba to da Ogboju d ninu Igbo Irunmila sil o abaa hoa awn itan irinajo alaim ati aloapagba fadaka o tun k Irinkerindo Mi ati Oro Alaye Iwe r kun fun gbn Ifa itanirunmole ipade ran inoria ati owe DO Fagunwa fi rrinin inunibini gg bi jibre itan inovl Yoruba o si fi s fya ki onina mii le tsiwaju AMOS TUTUOLA ADAP GSI ATI ALOAPAGBA Amos Tutuola gba itanirinajo Yoruba wle si ja iwe aye plu The PalmWine Drinkard to da lori aloapagba awn ijapa Egungun itanIfa ati owe O k ni Gsi ugbn o n lo r Yoruba gg bi ilana orin iroyin ara r yi ilana itan irinajo pada si i atunsil lya Awn itan mii r My Life in the Bush of Ghosts The Brave African Huntress Amos Tutuola efidi mu pp itanojo ibil Yoruba han ni agbaye o si ran p okwe ml lati agbeywo aloapagba wn WLE OYINKA AJS DRAMA ATI ORIA lawale oyinka b ni onikwe Yoruba akk to gba Nobel Prize ninu Litires O k lori pp Gsi ugbn o n lo alaye owe ati amusin Yoruba kun ere r Awn ere pataki r Death and the Kings Horseman to tubo afihan isin Yoruba ofin abalaye ibaep arailu lori ipinnu omiini The Road fun ielu ayeoni A Dance of the Forests fun irinajo ipinnu itanie Wle oyinka mu oriki ango itan Obi imulolufe Ifa ati ijala bata w lori pp agbaye o si kopa ninu idagbasoke drama East Africa ati gbogbo litires Afrika AWN MIRAN AKEWI ONIKOWE ATUNGBNS Lyin DO Fagunwa Amos Tutuola ati Wle oyinka p onikwe ati akewi Yoruba tun gbera Akinwumi Isla Efunsetan Aniwura Madam Tinubu fun itan obinrin alagbara Fmi Oofisan Morountodun Tegonni Once Upon a Time fun ielu ati afroape lori pp ayeoni Ahmed Yerima Oba Esugbayi The Swamp Dwellers fun ifwsowpo plu orilede isin Sla Ogunpl ati Rotimi Johnson fun owe alaye ewi onirin itan Afrofuturism Gbogbo wn efidi mu litires Yoruba dagba o si n t itan ati ie Yoruba mu lori pp agbaye Ire o Ni litires Yoruba sin ati imole kan j akori pataki gg bi o ti han ni oriki owe aloapagba ati ijala Ifa Ijala Sango itanOria un ati Ogun n tka si agbara igbagb ati ibaep plu kanaye Ni Ogboju d ninu Igbo Irunmila a ri bi imo runmila ti mu ki arakunrin kekere ri itanaye bi imoaanu e n daabo boo nigba ipya Awn oriki un kun fun itupal ibaep aladunYeye alawo pupa arabinrin to n fi if murato n tka si imo if ati itni meniyan Imoran ati ikan awuj tun kun litires Yoruba Owe bi Iwa loogo ati Bi a ba iwa a o ni iwa n ko ipinnu iwarere mu o n k k iforiti ibaj iwa ta ati ibaep arailu Ni Ijapa ati Ikoko a k pe ifarabal aiynu ati imura iberu ki i j ki a agbe Owe Aja to ba maa sunu ki i gb fere olodo n fidi mura tub i o si n tka si pe imran yoo j itoye nigba ioro Akikanju ati igboya tun j akori to n ganan litires Yoruba Oriki angoKawi kawi Edunjobi m onibara inajuwe agbara ikansi ati ifarapa to kun fun igboya Ni ere ba Ko So Duro Ladip fi ibaep ikansi Sango han plu if wlu ogun Owe Bi Ogun ba ri ogun ki i oro ati ijala Ogun Ogun onirawa arinako onirunmole n tka si agbara ologun imura ati ibaep plu iloke Ni ipari ijp sin imoran ati igboya n raye e afihan awn ta to wa ninu kan eniyan o n mu ko daju pe litires Yoruba k wa nipa ijpya ikan ati ifarapa Ni IPIN a o wle si Itan Agbegbe Igba Tuntun ninu ka ti a o agbeywo ipa ayelujara fiimu ati itan ilu lori itanibil Yoruba Ire o Ni ibr awn ara Yoruba j agb agblade ati onik gbin Wn gbin ka eekanna igi p ki wn to k araalu ki wn le ta ja ni opopona iowo ati ja ilu bi Ibadan Oyo ati Eko Awn onimw bi ogunjo apap onigbd oniowo a tun da iw irin adire ankara ati a fi sil O j pe iw pin yika plu ibaep aguda si itsiwaju ajk ati imupadap iilu Nipa ielu ijba il Yoruba j plu ba lanrewaju ati lori idilemta agbaba ba ipinl ati oloye ilu Awn IleIf Oyo Ibadan ati Ekiti ni ba olori wn si n lo fin babailu igbim agba ati ijba igioi fun itsiwaju aar Lyin ibayade ala oyinbo Yoruba kopa pata ninu ielu ipinl ati ijba apap Naijiria ti wn fi mriri agbaolori bi Awolow Tinubu Falem Fayemi ati Onistgun Idagbasoke il Yoruba ti foju han ni Ibadan University EgbeOrile Ikeja Industrial Estate ikat Metro Liniki Eko pp imr ie ni Yaba Akan Ikokoro Imulo amayedrun bi okoirin Ikokoofurufu k ofuurufu ti ko agbegbe naa soke wn si n tju agbara omi elektriki ati tlifoonu kikun Awn ile ijbaipinl ati aj agbegbe n e ipinnu ilu alagbara plu aksil ilu itsna agbegbe imulo il ati idasil Green Economy Ni ipinnu agbekar p agbara diaspora n da owo sil ninu amayedrun ileiwosan ileeko tech hubs ati imero Aj Initiative for Rural Development Yoruba Smart City Project ati Green If Vision n i p plu CBN ati Minista Iuna lati mu imulo Solar IoT Blockchain ati eGovernment de agbegbe Ipinnu ilu gbd ko ibaep plu afkansin edadan ipinnu oniruuru k imirinajo alagbara ati agbaraomi ati ojoloriun Gbogbo wnyi n fidi mura pe il Yoruba yoo tsiwaju gg bi agbegbe alagbara i ielu to n tka si atune ati ijba to m itsna ilera k ati imulo im Ire o Ni ibr a gb DO Fagunwa gg bi ipinl Yoruba iwe onikowe O da Ogboju d ninu Igbo Irunmila sil ereirinajo to dap ran Ijala owe itanIfa ati itan irunmole Lyin iyn o k Irinkerindo Mi ati Oro Alaye gbogbo wn tsiwaju plu gbnimulolufe Yoruba ifarabal ati aa apilk Amos Tutuola tun mu litires Yoruba w agbaye ni The PalmWine Drinkard itan alaimuloro ti o n rju Bush of Ghosts ati My Life in the Bush of Ghosts O kun fun aloapagba iyere Ifa ijapa ere Egungun ati owe Itan Amos Tutuola mu ibaep Yoruba ati Gsi dara p o si eto na fun awn onikwe mii lati e afihan aa wa ni ede Gsi Akinwumi Isla j onikowe ti o da lori itanigbeyawo iyawoafaani ati ielu plu Efunsetan Aniwura ati O le ku Itan r kun fun itupal ipa obinrin ibaep agbara iyawo ati iakoso ibil Isla fi aloapagba owe ati ereitanielu e imulo owe ati itan Yoruba lori pp litires Oladej Okediji onibiklu fun iwe Aja lo lru ati Binu Temilola gbiyanju lati darap itan idile ihonuninu ibalo ati ijinl aa ibil Oun k aisun ibaep idile ati itan imulo owe Yoruba si ipele tuntun Fmi Oofisan plu Morountodun Tegonni ati Once Upon a Time ti gba ipinnu nla ninu araoke drama O fi ere itanIfa owe oriki ati ijala bata lori pp o si n lo afroape lori ielu ibaep awuj ati itune iwaara j plu awn onikwe tuntun bi Ymi Dada Tp Ajayi ati Rotimi Johnson nikan oo r n fi itanirinajo AfroFuturism iroyin ilu onie ati ifroa lori ayelujara kun litires Yoruba Gbogbo wn n eto akop itan ati imulo gbn atij p m imupadap agbaye ki itan Yoruba ma baj sil o si maa tsiwaju lati gbera Ire o Ni ipin yii a maa e afihan akop awn apolo ti o e pataki jul ninu imooye aa Yoruba Akk a n wo bi Anthropology e n gba oriki oria ati irinajo diaspora gg bi data amuyinie Oriki ilu idile ati oria Kawi kawi Edunjobi ango Yeye alawo pupa un m Olowe j agbekal itan aa wn n tka si ibaep ijinl iran ati ijpya arailu kari aye Nigba ti awn ara diaspora ba lo Chango Ochun Eleggua tabi Obaluae wn n pa oria Yoruba m lyin plu agbara anthropology aa keji a fi i han bi Epistemloji Yoruba e n gbe Ori Aya ati ibaep plu iwa rere gg bi ori imo Owe bi Ori la fi n gboju Ori la fi n gbale n tka si pe idam ori ni ipil ironu eniyan itsiwaju igbeaye ati idaj ara Afroa Ori ati iba Ifa Owonrin Meji Ogunda Meji n ko iyereim ipinnu ti o waye ati agbara iepl p si i Iwa Omoluabiiforiti oot inurerej idile ie im ninu itanowe Yoruba kta Atike It Aboriwa ati Irun Didi e afihan ifarapa imulo as ati ika la Atike u it ati it ara it ijsin j apr bi Yoruba e n fi eleyii han bi iba agbara oria Aboriwa ati irun didi koleoko suku oronan j ami ikiejipa oju ara wn n tka si iduro ijep obinrin ati iyin iyawo krin Ofin Igbeyawo Yoruba eto ilana iforuksil idile eru iyawo owo idireku ikini baba iyawo ipe oriki idile ati ileke iwa ijo bata ijo gelede gg bi apa ilana ibaep Igbeyawo Ibil aaju idana itsna ijbaidile ko ibaep l si ipele aj karunun Irinajo Yorubabi wn e maa n gbe arinrinajo l si ibi kan opn canoe okoirin okoofurufuj apa igbeaye Itan DO Fagunwa ni Irinkerindo Mi ati Amos Tutuola ni Bush of Ghosts afihan irinajo yii gg bi itunj kan ati imura ara fa Gelede Egungun ati Aj Isnun Raerae j iyalenu oria ijsin plu ijo irok awon oriki ati bata Gelede j ayy obinrin to n ranti ibaep iyawo ati ipinu ij Egungun ki i akunya ika awn baba ij isnun raerae ni kopa w fun ati iroyin ibil je Ojusa n tka si iba Olodumare ati iba Oria ango Ogun un ya Eu Ijsin Ojusa n fi iba imil ayeoke han wn a ko irsi ib Ifa ibru ijsin onibata j ipinnu agbara awn Ibadan Oyo Ilkiti lori owe to n mu iyin doju awn ilu naa Ibadan moya Ibadan moku Oyo alaafia Ekiti ki i jiyan n j ki itan ilu mri kun ibugbe arailu Ki i e bi a ti tesiwaju itanogbolodo Yoruba yii tun n dari iwa rere imoran awuj ifkansin idile ati imulo imoye Ni Ipin a o t siwaju plu Tub Muna AfroFuturism Yoruba itan Igbeaye oniroyin ilu imulo AI ninu isin Ifa ati itan atunsil Yoruba lori pp imrayelujara Ire o Agbeywo litires Yoruba ti de si ogun tuntun ile aye ti awn na ibanisr onitsiwaju bi TikTok Instagram Spotify ati Discord ti di agbara akane fun fifi asa gbooro ka Ni gbogbo agbegbe Il Afirika ati ni diaspora awn ddun n krin rap RandB ati afropop ni ede Yoruba patapata wn n tsiwaju lati fi itan owe ati oriki sinu abuda orin ti o da bii pe o ti pe kuro nif aa ibil Orin YorubaDrill kan to j koko ni il Lndnu da lori itan Ijapa ati gan ikurun o si tun kkr awn akle to wp ninu Ifa si liriki r plu iskan ina biti Nigba ti a ba feti si a gb ijinl dap m gangan bata ati amala kickdrum ohun gbogbo n lokun nipa fifi asa ere pelu imr Ni agbegbe Amrika awuj Esin Oria Cypher Collective ni Brooklyn maa n e ifihan lojoojum Satide ni gba ileitura Prospect Park Wn beere fun awn olugb lati s oruk oria ti wn ni abr si DJ yoo maa dari loop bata kan ni ti o wa lori miki lati kopa yoo si gbe freestyle Yoruba ati Gsi plu awn sis nkan bi Kawikawi Edunjobi aranaranla to n goke lorun Mo ni run ni inin mo ni aye nish emi ni m Olodumare Wiwa fun ero mi ipinnu naa n j ki awn ara ileila ti ki i m litires Yoruba ye ete oria ati la runmila Awn akewi keji fimkan e sin callandresponse plu ibinu gangan adura alaafia ati irinajo ara s p ju bo e ri nip yi l Ni Naijiria app OweChat ti wn k lori koodu i React Native ti di ile kwe aa fun awn akk yunifasiti Ilana k r rrunbi o ba i kunrr yi itage da bot yoo fi owe tuntun han yoo beere ta a lagbara lati tum si Gsi lyin naa yoo fidi itupal saynsi awuj mul nipa bi owe naa e ni run omoluabi tabi daj Itsiwaju yii i afaani fun awn ti ko tii le ka Yoruba daadaa wn le ka alaye r tonidiacritics plu afojusun toot lori IWA RERE Ni IleIf egbe IMLARA XR n i lori agbekal Odu VRna agbelewo afarafoju virtual reality ti yoo gba awn oluabwo lati gbe ninu Odu Ifa titi de igbo Irunmal ti Fagunwa agbekal Kamra gbogbo agbegbe igbo to kun fun agbara alailori nigba ti arakunrin tabi arabinrin ba w headset won le yi awn ikin Ifa lori patako haptics wn le gb awn iyere Oyeku Meji tabi Irt Ogunda wn a si le e aaro lori bi a e n gbe ana sinu j laAfrofuturism ti o da abayri mi Itan Mesi ti nu agbalagba n pe ni Irinajo MesiMeji tun ti pada lati ara aksil r iginate nipas aworan akl biopic tuntun kan to n b lori Netflix Yoruba Originals Filiimu yii n fi awn da Mesi bi ni pe wn je agba ijeokun ayederu to wn lori yiyan bi wn e da agbara Sango sib lati e ogun ninu galaxy IkufunIku Geg bi abayri awn m bibi IleKetu ti n gbadun comic books ni Cotonou br si i e cosplay Mesi ni a oke wn darap m awon cosplayer Japan ti n fi kimono hanafihan pipya pe aa ki i fo sepo Lawn moalai ati i awn oluko nib ti n wa na lati ko iwa omoluabi kan plu k sin Ninu ag il Ilrin alfa kan n k awn m kekere pe ki wn maa ka owe kuro ni oruk oria ki wn to ka airi Quran ohun ti yii e ni pe o mu ki awn obi ti won j Musulumi naa gba pe imudunu litires Yoruba ko lodi si igbagb Nigba kan naa ni IjbuOde pasitoo d kan n ko ere Gelede mo sinu aworan puppetshow o n fi alalufaa mimu ru kuro lara awn obinrin ti wn ni agbara akoso Bo til j pe awn ara agba le rii gege bi syncretism ti ko bofin mu ohun ti iranti naa n e ni pe o rub fun aa gg bi aba ie Lati inu ipinnu awn akk saynsi awuj ni Yunifasiti Ibadan r tuntun ti wn pe ni Digitised Owe Corpus ti waye Wn akoso bi milinu owe ti wn gba latinu aworan iwe at ohunelo SocialMedia wn si nlo algorithm ti a fi k r ko machine learning lati yat sojesoje owe iwa owe alawada owe sin ati owe ika Ami to e pataki ninu da yii ni wipe bo ba sleri pe owe tuntun duro toawn onim le bere ipil r o n padanu awn koko asiko tabi o n rura dide lati aa tuntun Ibaep ti wn ni plu oruk agba ga Nla Chatbot n j ki gbogbo r wnyi ribi Ajy adari ka n s pe a ko ni j ki kun e orun litires Yoruba a maa l nigba gbogbo Ni ipo kan ni Toronto aj m Yoruba Canadian Alliance n eto ja san WakatiKanKan nibi ti a ti n ta oginifeniyan amala esuru ati bebe l Ni w kan DJ n erin agbaye AfroHouse ni w keji BabaEgungun ti w alukopupa n e parade plu mask to ni LED awn m tuntun n ya foto plu r wn si n fi hashtag EgungunOnIce fi han pe asiko tuntun lw Olorin rap kan ti a mo si Kola Freeze gbim yii lori Instagram Live lyin naa o wi pe Mo f ki n agbekal EP kan to maa darap gangan plu drill beat ati ijala Sango a fe ko j ki awn ara Scandinavia m pe Sango o ni kuro ninu snow Ki lo da loju Ijpaga aa ti ko ni tan Ni ana ganan agbara arok tuntun kan ni BBC Yoruba da lori sin Ifa ni Miami wn yan Babalawo obinrin kan Ayaba Toromidayo ti o j amriti atawn suuru O s pe Ninu ajyo mi gg bi Babalawo obinrin mo gbim p plu artificialintelligence lati akoso kalnda Ifa mo tun n lo chatbot ti mo da si Python lati tum Odu si ede Spanish inu ka Yoruba ri yii ya awn onitan lnu to fi j pe ohun ti a ro pe o tit si j mejila aaju yii ti di ologun ojoojum Nigba to y Toromidayo daabo bo ara r pe Ko si aros mi bayii a ki i e Ila Ogboni to ni atinuda a kan n fi oria la kmputa ki o le ran wa lw Nigba ti wn tun bere ld alaga gb Akk Yoruba ni University of Cape Town o alaye pe k ayelujara je na to lagbara jul fun fifi iwe Fagunwa ati Tutuola ba agbara Zgeneration o s pe O ya ko daju pe a maa ko Ogboju d ninu Igbo Irunmal sinu graphicnovel ki a le fn tabi eko tori pe awn mde yii ki i nigb fun da to kun fun ipalara grammar Gsi ru Apr timtim ni pe itan naa yoo ni ara manga ninu ariyanjiyan ti o kun fun Mesi bi a e gb agbara aa kkan n dana lori lomiran bii ya akan Ni dun yii naa oluk to n ko Yoruba Performance and Identity ni University of Melbourne w Metaverse plu agbara Oria Room Awn alabae le i leyaamya to n jo wn le gba iyari fun Sango wn le br owoaguntan fun un Afiyesi to wulo ni pe gbogbo sin oria nib ni a tun syin aaju ki a to fi si gbangba lori Ethereum blockchain gg bi a NFT ti wn n pe ni A Token ri yii je pe a n p luwaaa iroyin ati fidionaa lo n di ugbon o tun n fi w sil fun ilana owo kuro nib Nigba ti agbelewo yii n l iroyin awn oluere aguntan pajawiri n gbeya lori apoti ikanni awn agbe kal Yoruba lori Twitch n se Speedrun Oriki Challenge nibi ti wn gbiyanju lati ki awn apro oriki merinlelgbn ninu isju meje ti won si k akle si tabuli leaderboard Oluakoso to wulo jul ni m Aruba kan to n pe ara r ni madele FPS o akoole oriki lori freebeat AfroEDM o e konko ie to fi j pe awn akk Smithsonian bi wn e nflu ko afihan naa si patako k AfroDigital Humanities Ki lo l m Karunun leyi itan Yoruba ko eebin ko si ni kuro nibi dere o n bo lori aake san o n bo wlu lkun oru plu koodu JSON o si tun n fimkan pari eda ijinl oriki Ni gbogbo ibi ta a ba wa a gb ohun kan nikan gbangba aa ti a ba m ko ni pari iwa ti a ba f yoo m kaakiri aye Irinajo litires Yoruba ti w agbaye syin syin ugbn ni asiko yii o ti gbe agbara tuntun kuro ni kekeke si kakakiri Awn olorin rap Yoruba ni Berlin ati Seoul n kopa plu awn beatmaker Korea wn n dide ni koneransi Zoom ni aar wn lpaan beat gg bi Agidi to dana wn si maa tun un da sib plu gangan ati tidi Nigba ti wn ba da i pn wn ko awn lyriki ti o kun fun owe ati apr Ifa sinu ohun ti tlifin kkan le gb Bni bi orin naa ba di mim lori Spotify wn maa afihan akiyesi pe Ilo aa ko peepe bi a ko ba royin itan Eyi e e ko awn olugb ti ko m Yoruba gbd aywo alaye kokoro ti wn fi panaga ninu liriki Ni Il Gana awn akk Yunifasiti Legon da gbe kan ti wn pe ni Kakaki Data Lab Gbolohun wn ni pe agutan ti o ba sun amunisin maa j Wn n gba awn iwe DO Fagunwa Akinwumi Ila ati awn iwe alakojp owe ati alo to ti di public domain wn n f wn yala si CSV wn si n lo Python lati apejuwe patako nkan bi atupal ngram Lyin naa wn maa tum r ti wn ba ri si Gsi fun awn to n ko model to n pe owe plu kunrr yii kopa lnu bi akane ChatGPT fun owe dakdak e j ki awn alakooso eto k ni Apakoa yan j owe s kankanti gbogbo akk gbd dariji Gsi ko wn fi owe e afihan gbogbo apoti aaajur Ni Chicago dun Yoruba Winter Carnival agbelewo agbegbe South Side awn eniyan rowo gba na ti o kun fun ajmaro ere Gelede nipas iceskating ya akk kuro nibi ti awn gangandrummers wa wn ti eto awn orin bayinbayin Egungun ti oruk re n j KereMapero w a LED ti o n yira pupa aluko ati dudu nigba ti o n jo lori yeke yeke yii awn m kekere n ko ara wn sinu oriki O dibo ke KereMapero Agbaye Instagram gba iroyin yii hashitagi SkateWithEgungun ber si i gbuna lori itsiwaju awn ara Finland fi joik Sami wnin nikeyin r wn si ni kikuro kuro ninu kuro fusion to ni akle Ice Spirits of Oke Aptbi Ni agbegbe IkoroEkiti aj gb Agb Atinuda pinnu lati fun awn agbe ni awn ohun elo SmartIrrigation to ni dashboard Yoruba Itsiwaju yii n fi sens m nibonibo o n ko data omi sinu MQTT broker ti apjuwe afae JSON yoo tum si owe lara app bi omi ba kere ju a maa ri ikil to ka pe yin w mi o peiyn owe litires fun omi ko to da app naa tun i plu oriiiriii abohun fun awn agbe to ki i le ka oun yoo maa s ohun gangan ati bata digidigi to ba si peju yoo krin Ogun onirawa ki agbe le m pe lati fi at lsi Nigba ti Ijba Ipinl Oun f da ileitaja ajbtiki Adire sil ni Oogbo wn pe awn onieowo to ti j m ya nkan bi dun metala lati kede aj koodu kan A pese portal ti awn oi le maa gbe aworan adire wn soke chatbot yoo si kora j lati s bi a naa e j elepo pupa abuleke tabi onikoko Ki wn to fi gun lori Etsy algorithm maa afihan owe to ba y A adire ki i dan kuro lab ojuoro Ifarahan aa to ri ti eyikeyii kopa ninu ja kari aye o mu ki awn onim economics ranti pe ofin demand and supply le eranw fun pipese asa ti a ba boju to wo Ni Ibadan ni dun yii aj gbogboagbegbe to n pe ara r ni KekeGber daabo bo o le botil o e atjade akunyakunya ebike to ni speaker atawn kik Google Maps ni ede Yoruba patapata Nigba ti lsin ba f yi si opo ohun boti yoo wi pe e ko o aa l si apa tun ti a ba aigb a gb oriki Aguntan to n gun oko ko o raye k Ete naa ni ki agbara ara odeoni le ba lorun ru ko ma j pe ati igarigb to n pa aye kunle ati atilaraja aa kuro nipa kan Ni runodun Yunifasiti Lagos i ka tuntun Yoruba Computational Semiotics Awn oluk n dari iep agbywo sentimentanalysis lori TwitterYoruba SrSoke wn n rahun to ba j pe agbara sun ati agbara ibr n p ju ninu awn r to wa lori atwgba da patako naa ni nkan bi milinu tweet a tun fi vector space m oju na w ti o le han pe awn to n lo Iwa Omoluabi ju l ko saba br ogun keyboard warrior pelu o lb Oluk agbara jla n s pe bo ba ee e a f ko di atawn agbekal moderation fun Facebook ati TikTok kuro ni Yoruba blindness Nigba ti bij EdeOroLeWaju aaju BBC Africa Eye tu fidio kan to fi awn onigbhinede Naijiria han lori bo e sin giligili ti wn n pe ni Yahoo Plus Alakoso ka Digital Forensics ni IleItan ogo Lagos pe awn agbalagba litires pe Ki lo l si owe na ti o too ja ti o owo r naa daju pe olowo ko fi gbn w ugbn o tun fi han pe kputa to ni phishingkit le gba aa yi nu Wn fi han pe wn ni lati tun eto ibohunowe ninu ie lpaa cybercrime ko ma ba a bgin lati lwnla Nigba ti gbogbo ya raye yii n gbooro mde nmbameji kan ni Akure k eniyan lori Twitter pe o ba a f aa challengeo ni ko kopa lori video kan ti o ti kpa Egungun mask plu Lego Fidio naa gba milinu views ni j mta o si fa afihan fun awn agbegbe MakerSpace ti lkan k tabi mna nipa Egungun Ko pe ju begg bi ik RD kan ni Yaba so Ni gbogbo akoko ti a ba le meje aa yoo gbara bi a ba da a lori koodu open source Kola aaaju ewi ni Ilea si pari r pe Owe lsin r bi r ba snu iwa wa ninu blockchain yii A fi oriki e NFT awa fi oun naa n jun ugbn o tun n daju pe amuro aa Yoruba ko ni kuro ka to myi dola Nigba to da oruk tuntun fun agbara runla yii o pe e ni AapOriaCybervault to tum si pe gbogbo ohun ti aa gbe kuro ni patako ede nu kripto a le j ki adanu k ojuokun wlu ugbn ko ni pa oun r tori bi awn kii se ni ki Egungun gba foonu Awn agba wi pe Ile aye la n gbe ile aye ki i gbe wa Nigbati ikandip ayikagbigb igi atawn ajakale aff to n royin ni GuuSaharabr si i tapa lori il Yoruba p aaaju ibil dari jijiroro plu awn onim ayika Ipinnu naa lo bi eto Alubsa Gbigba ni IjbuJesa o ko awn babaogun awn alarapep ati awn onim Forest Ecology j wn gbim bi wn e le fr oriki ko akop eso igi wn tun le fi pe ni agroforestry Nijumru akk aguntan ayelujara wa lori Google Meet Baba Fasji to je dun e alaye Odu Irt Irosun ti o kil pe Ti a ba tu igi ro omi a kuro eru a ba dide Oluk ayika lati Obafemi Awolw University tum si Gsi o si fi han ninu chart pe Ipinl Oun ti padanu igbo lyin dun Aba ti wn fi pe j ni pe ki agbe yira si agbeagbe ti o da lori oriiiriii igi itjuowu da orogbo ki wn le ba omi gbya Lyin ou meji awn m gb graffitiart ni IleIf k aworan bata Egungun to boju ti kowe ma ja igi ma f omi lori ogiri taara nita gbangba ie akawe naa mu ki BBC Yoruba ko arok kan jade nipa Climate Chants to n yi aa pada Ni hun lyin naa ni agbara supa omi ko oju awn oludije rominira si Aj HerbalTech ni Abokuta Aj yii n ko data to wul j ark agba nipa eso ewegbigbo wn gbe Google Sheet wn tum oruk igi bii oganwo ewelgba si oruk botaniki wn si fikun AIimageclassifier to le yat lati aworan Awn babaogun feran sin naa tori pe o j ki wn le da oruk eniyan m ni to ta eweroro Ilana naa tun ni alaye owe bi classifier ba ri pepe sansan iwn confidence o maa s ohun bti pe bra atari a le ugbn pepe ls Ogun Iran GenZ ri i gege bi ere awn baba lo o gg bi irin Ni gbe akoko naa ni LagosIsland awn oniowo asooke da oja SmartAOke sil a naa ni chip RFID kekere ti o ko metadata oruk ala j ti wn la a adura oriki ti wn s lori telr atawn colorcodes Ifa Nigba ti oupa kunlekun oniowo le fi foonu NFCenabled k amuy a o si le fi han pe a yii lo je ba mi ni ga ileigbeyawo odun Awn araalu n pe e ni a to n ranti awn akk metadata ni MIT Media Lab rugba si i gg bi apr wearable intangible heritage Ni IleYka gb SababiCreativeHub e Festifaali esport to pe Ijba Suuru Cup Ko si FIFA ko si Call of Duty dipo naa awn gb kopa lori RoboAkos Oriki gidigidi roguelike ti ojusun r ni pe ki oluakoso gba orikienergy to ee ni Bi robot Sango ba ni jade lightningcombo olueto maa ni k oriki to pe Eyin ti ko ba le k mi robot a kuro nib Inigunu yii je ki awn mde ni if ko oriki mkan o tun je ko han pe MLspeechrecognition fun diacritics Yoruba wa lori TensorFlow Lite Ni dun yii aj World Health Organization e ajy j Traditional Medicine Day ni Abuja wn si pe awn babaegbo din ati awn onim pharmacology Ilek Karolinska da fun Dr Adeina ladej yin ni amiy fun ie extraki ilo ewe to n pe ni irokoleaf immunomodulator O alaye pe o ko genomics ati itanede jo s pe oruk keekeeke ewe ki i se random pe awn oriki ewe mtadinlogun ti o gbe kal ni Ijbu nirhin ailoju taratara plu bi ereriedukan si RNA pathway Iroyin naa fi han pe aa litires ko kan le ni ere o tun le ni i baye ayeilera lori Nigba ti a tun boju t ibi pada p agbe ni IkireEkiti ti gba idagbasoke green charcoalwon n i kiri agbara lalaru baunbaun gangan lw igigere ti won to syin plu r pyrolysis kekere kan to n i lori solar Kilaasi awn m lu nib maa n i agbara b gg bi ibudooye won si maa n e podcast ninu Yoruba lori bi wn e dak tabi fi owe fi han pe eni ti o ba jokoo lori antna na a riiri ko a Ikle naa n fi ere lww o tun n fi bi a e le ko ojumniyan pada si ile aye Ni opin dun ko si ibi ti a ko gb aroko lori fifi litires saynsi dari de atupal omiyiy lori koodu open hardware awn akk Birmingham Polytechnic da sensor pH to ka lati o si n tum iye naa si owe yiya tub dudu l omi yii ki i m Aj Stockholm Resilience f gbim plu wn lati fa afihan yn sinu dashboard SDG Nitori naa bi a e n le kja itan r yii ohun to oro ju ni lati s ibi ti aa Yoruba maa de lojula O ti w kaakiri blockchain o wa lori VR headset o ni ere esport tir o si tun n boju to asiko ajeji lori ilera ati ayika ugbon ohun kan daju owe lsin r r lsin owe bi aye ba b sinu Mars Sango a ti de b plu ara rkoda to ba ni lati lo solar panel kun Thunderbolt r Ile aye digbed ugbn aa Yoruba n j kikakabioroo le yi frun o n tun ara r e lojula ko to oro Nigbati aj African Lunar Research Station ni Namibia kede pe wn f ko alupup na Ifa w inu rover to maa yi lori akunya supa aaju dun awn onimo lati Yunifasiti Ibadan ati Obafemi Awolw University i esymposium kan Wn royin pe wn ti e map gbogbo Odu merindinlogun plu uuru starchart Yoruba to m afihan OriaConstellation Ogun Orion Belt un Andromeda Stream Sango Crab Nebula Kadara wn ni pe alupup naa yoo fi microetching ruby encode Odu ki wn le j cosmic harddrive fun asa ti ilekun awn agbako aye ki i le da Niajumoru san kan ni kuru odun agbara a Creative Commons Nigeria da iweafihan OpenSource Oriki Licence v t yii n j ki olorin DJ oniowo NFT tabi onkwe comic le lo oriki ibil bi koodu akle ko to j pe wn tka si orisun ati ko loye pe aaajuaa ko ni tan Awn aaaju akk to kopa ni oniroyin Afropop Aymikun Adepoju o lo oriki ilu Ijbu Omo Alaragba wogun uru gg bi chorus ninu drilltrack tuntun o si fi link si licence GitHub r ninu description YouTube Amran naa e aeyri lyin s awn comment lori veedeo waye ni Yoruba awn to ki i or ede naa gbim plu DeepLDiacritics plugin lati ka a wn si beere pe Se algorithmic ownership of heritage le i lai da aa loro Nigba ti onimsaynsiagbe kan ni Covenant University aywo ibaep awn rhizobia plu ewe gbigbo elub esuru o e aywo pe awn omooriki ti a maa n s lori akane were Esuru abi to ba yoo yo n pataki ganan nigba ti a ba f yi sound frequency si bi bacteria e n huwa itan naa foruk BioOriki Signal Modulation Ile i agromusictech kan ni Tel Aviv wa f licence to naa wn n gbero ki wn fi si greenhouse tomatoes ni Negev ko le juso omi rara kunrr ti wn saba ranti ni pe Asa ti o da lori aroko ki i se bulubulu o le etilyin fun proteinyield Ni agbegbe Karikal Mauritius awn ara IndiaYoruba ti wn wa lati cotedor kopa ninu Festival Indigene wn pe kekoo fun workshop Ki nidi ti tantalaka fi n pe didunohun ti o y nipa irbi oruk y ojo gbayegbaye ninu owe Yoruba lk kan ti oruk re n j Durga Adebay tum pe y naa j koel India ninu phonology o ni pe pepe yii fi han bi asa e le kja oke okun ko to di bioacoustic heritage Nipa b awn akk ethnobiology peye pe a le lo database owe lati tpinpin iyipada asalenisr nigba ti ranko n sa kuro nibi bo ti n gbe tori ayika Ni dun ti o n b UNESCO fe da World Intangible Heritage Cloud sil Il Naijiria funra r fun ni digidi tan pe wn maa gbe Ewi Alaye Digital Corpus ie atjade gbogbo ewi Niyi Osundare Lanrewaju Aremu Ibiw Bay ati Wale Ogunymi si EPUB EPUB atawn audiogram to ni metadata wlu Ileitaja Audible ti gb pe wn maa ko Dolby Atmos Oriki Playlistmna ti ie onispeaker D yoo j ki arakunrin gb Ijala to n yi agbegbe yika bi o ti n rin Nigba ti gbogbo ilana yii n lep Ijba Ipinl Eko e akane CyberEgungun Law o ni pe ko si ni to gbd da avatar Egungun lori Metaverse plu a ibil ti ko ba awn onile Egungun toto ti Igbalode m Amuy ni pe ko seeyan gbd mint Egungun NFT ko ma to lai j kohunsil nil to wa Awn olujum d kuro pe o dibo to nira ugbn Baba Gblahan Alaraagba Egungun ti ori r ti ri blockchainalaye pe imunu lori agbaye ki i ni ka fi aa jaco o ni pe bo ba kun fun t a yoo raye gbiyanju Ni kemikali gbogbo ohun to farahan ni pe gbogbo awn tunwatune yii n fi edenuowe oriki alo ijalagbe Naturi saaye tuntun O n j ki aa Yoruba dagbere ni ilohunsoke data centre ni greenhouse Montreal ati lori ikanni Roblox Awn agba ti won n b nigba to fi ori wn upo sil ni Okeiboji le yi ka wo pe agbara onipixel le di gbrun milinu lr ugbn ohun ti a ki i gbagbe ni pe Iwa Omoluabi ti a gba sori il yii lo n j ki ohun gbogbo to fi dak b weplfl Ki lo eyi fun wa O j kika pe aa ko ni ku sawn uuru wonyi o dii ko yra fun kik kikun ati afunti Bi orilede ba feti si i a o ri i pe ko si ohun to da bi fifi litires Yoruba e update firmware nigba didi lai pa afm r run Aabo yii lo fi dak Owe lsin r r lsin owe Bi aye ba yi pada si quantuminternet awn owe naa yoo tun yi pada si qubitproverb ugbn won a i n fo yiyi k awn mi bi y alaro Aa Yoruba n tsiwaju debi pe o ti w ile k STEM bi o e w ile alo Ni Yunifasiti bafemi Awolw inu kilaasi Quantum Computing for Indigenous Languages oluk Dr Aderonk Ila n dari awn akk lati k apam Qiskit to maa fi owe ni ti ko niyi ki i m iya afihan bi entanglement e n i Nigba ti qubit meji ba dak sawn da ti wn fi oruk Iya ati Iyin akeko n ri pe bi iya ba wulu iyin a tun yi b ko si akoko kuro laarin wn Itan naa fi kun idaniloju pe ede ati litires le j r alaye fun titum rimjla to ku di lati dak wa si atinuda Afrika Ni SangoOta ile i robotiiki ledumare Automation k robot onipade ti oruk re n j ruJegudujera ru yii le ki w le jo bata o si tun maa s oriki pyromaniac Sango lojuode gg bi voicesynth Yoruba ti o ni diacritics to pe Awn aksin fun adibo lfa ti o n fi amulo LiIon gbe ara dak bi oniowo ba wa si showroom sensor yoo kan pe Kawikawi Edunjobi ni owo bi ina Ko pe ju be k ofurufu Amazon Prime Air ni legendra otishipments dahun pe wn f ki ruJegudujera da delivery dance fun awn onibaara ti o yan Yoruba celebratory mode Ni IbilusuAra ara PortNovo ati Ikte Ogun e ajmaro KekeOko Folktale Trailoun ni na keke sikili ti o yi Iberoko yika to si ni QRcode loorun ti n i l si fidio TikTok k aloapagba ti awn mbigb ti eto O da lori template Alo a Alo o ugbn fidio kkan maa ni emoji ati latari caption bilingwa tu ati igi eweab If you trick the forest the forest will trick you grin kilmita ojuna naa saba kun fun awn ara yiysikili ti n e resilinsi lori fitnsi ati aa Nigba ti BBC News Yoruba bayii n fi newsletter tuntun Agbaye OniPixel jade wn ni aba pe ki awn onkwe maa e owethread lori Mastodon Ti lomiran ba s owe Aja to ba maa sonu lomiran gbd tum si Gsi Fulani tabi Swahili lomiran gbd fun un ni aworan GIF to ba wn Nmba awn to n kopa ti le ni ni s kan GitHub gist tip r to pe wn plu ju ni JSONrecord to n j ipinnu crowdsourced semantic parallel corpus to lagbara jul fun NLP Yoruba ni bayii Ni Ogbom awn aaaju OdoTuntun Brass Band fi batametal fusion r kopa ni SXSWAustin Wn br plu oriki Ajanaku wn n ge e sinu horn riff bi AfroSka Nigba ti crowd i moshpit bandleader Peju Trumpet royin pe Awn ki i nigbagbo pe a le fi Sango ero carnaval Gbogbo ran b lori Pitchfork wn pe e ni Lightning in Highlife Bottle Aywo yii fi ipo gbooro fun Yoruba CrossPollination laaarin Afrobeat Punk ati TechHouse Plu gbogbo ilana yii awn agbaluw aa j ra Ma e pariwo pe aa n ju ko tub ku Amplu yii ri i pe ohun ti aa n e ni pe o n tub ko ara r bi ewebo le ra leti awn toni headset VR o tun le wa ni nu babaogun ti n wi iyere Ifa ni kete ti ori omi agbe han pe pH daju Aa Yoruba gg bi otit ko ni b latari igbalode o n wnawakati gg bi aw ara o n yi oro bi awn to n i i Ka to de pip si ogun gbrun r je ka ranti pe iwa loogo o si tun je iruk gbogbo atinuda yii Ti imor ba fi awn owe sinu cloud ti a ba fi oriki si NFT ti a ba fi Ijala sa VRgallery afi ka saba ranti pe Bi iwa ba ti y aa a gbe inu ni kayefi Nitori naa itan wa ko ni pari ni pixel afi to ba di if da ti a lo lkan Ki lo ku lati daju pe aa Yoruba ba a l si bra jla Awn akk ni Yunifasiti Jos gbe aaju r nipas YoruVerse Game Jamagbekal s meje ti wn fi kede fun gbogbo onigameengine lorilede Afrika Afojusun wn ni ki komputaero epo plu aloapagba ki wn si da demo kan to ni koko Airi pl gb kan lati Kampala da roguelike D ni Godot ko sinu r gun dudu bi ko toot ugbn gbogbo level ni Odu tuntun gbgunda j swamp biome IrtOsa j desertdungeon awn ojuta aoorun maa fo gegebi ifaiyere Nigba ti Olokunboss ba f pa akk gbd pe i oriki kan to ba murii Olokun oloye fif omibi ko ba ri ami kikun to pe sile ni keyboard ijahiya yoo eto Game Over Ni IleAako gb CodeeOriki da extension VS Code to maa n alaye diacritics niwn bi oniowo JavaScript e n k consolelog ku aar Ti ni naa ba k lai fi ami eketa lintrule yoo e warn o si maa fi owe lori tooltip bi Ohun ti a ba ki i tan ki i tan ni w e Eto yii mu ki debugging di aekara atawn elearning i ribi Nigba ti GhanaYoruba Chamber of Commerce kwe si Bank of Industry wn br pe ki wn fun Yoruba Creative DAO ni microcredit NFTs Ere ayelujara naa yoo i bayii oniowo asooke maa post plan nipa roro DAO tokenholders yoo dibo ti a ba fi bni smartcontract yoo il owo ohun ti o ni j aimran ni pe gbogbo profit sharing yoo fun ni owe yield dipo APR wn maa pese Owe meje ls plu audiobook to le j ero imulo fun awn to ba fi owo kun un B ni a n pe o HeritageBacked Finance Ni Onikan National Museum i afihan tuntun Mo Ju VRifhan to mu awn moju Egungun w inu photogrammetry K Nib a le fi joystick yi yi kaakiri ki a wo atkanwa adorugbo alukopupa gelede tifa a si le fo bi drone yika awn a ti ko ee fi kikun gba ni j aip yii Awn olusakoso s pe awn n ko metadata yii si Decentralised Storage ki fotopigi yii ma baj a tun fi IPFS CID sinu folio kankan Itum r ni pe bo til j pe as Egungun a ti ru plu digital twin ilayekta yoo wa ni didi fun p dun to n b Ni j keji gbongan won e panel Aa Data Ethics ati t Awn Bilisin jgbn MamaKoya lati University of Pretoria alaye pe a gbd rahun si extractive AI ti n gba owe Yoruba lfa ki wn ma ko ta dunundun le LLM awn ilu okeere O dabaa ConsentasOriki Framework ki gbogbo Odu owe aloapagba ko ni hash lori ledger ki idile tabi ilu to j onile Egungun fi orikisignature wi pe wn fwsow Lai ba a br ilo data yii maa j alaibofin Kankan yii daju pe Heritage DAO ati aiye agbegbe Yoruba maa ni agbara lati royaltystream ojuna ti o to Ni agamu ile nwn k D printing clay lati y gele awn agba kalabule wn fi scanner Artec Leo ka ori gele Ologbomeji ti wn ri ni Museamu London wn si tun un e ni filament ti wn ko lati yinyin il Ogun Lyin ti aaaju m ogun okeere ri i lori Twitter tabi X wn ni ki wn j ko afihan ni Design Week Rotterdam Itan wonyi mu un kun lati fi han pe copyandpaste lasan ko to bi a ba e atune aa digidigi a tun gbd dari jumo awn onile r Ou to gba yii Kunle Adeyeye oluko ni Caltech fi ab Yoruba Logic Gate han o da lori pattern ti pl y o ni pe GBE je AJE je Ni simulation wn fi style yii k ALU kekere to le e Fibonacci ni ti o ba ko WATCHrepo yii lori GitHub maa ri README to n e akiyesi pe Bi ango ba n pa ina kari naa ni carrybit ru ba awn engineer ugbn awn oluk Computer History Museum ni Silicon Valley nigoro pe wn f fi han ni afihan Motherboards of the World Ni ba orun kosa UNESCO kopin Global Indigenous XR Prizeeyi to gba Ofin Ara Irinajo gun agbekal sidescrolling AR ti o mu ki oluere afihan bi wn e n sare fun Odo Oun lodun ko wn le gbe amin yiy Yeye Oun kuro ni plastic pollution Ni Unity awn dev fi shader omi to da lori fluidsimulation awn sprite bata yo lori framebuffer bi adrenalin oluere ba pe waveform Aa Yeye maa p sii omi atawn egbo to didun yoo m afihan gba Best Environmental Narrative ni Las Vegas CES Nipari gbogbo na yii aksil taa t lede yii ti di mona to ju afanaalafil ju a ti eroyin igi omi quantum bit DAO licence NFT iroyin climate robot ti n jo bata game VR AI lintrule D ati ethics Am gbogbo wn n pe ninu ohun kan aa Yoruba j eewo lailewubo til j pe o n yi kiakia o n gbe agbara tuntun kuro nib wa r to ku ni pe ki k aye ba a l bi aye si tun b sinu quantum network o daju pe owe naa yoo tun ni spinstate meji Aja to ba maa sonu ati Aja ti o ni sonuya ti a yan naa ni yoo afihan bi a e gbe iwa omoluabi l sibi ti ko tii si Nigba ti wn ko awn akane tuntun yii silu Ibadan fun Confab HeritageByte gbigbona r fun j akk ni Ki ni maa le si litires Yoruba bo e n an sinu web Agbargbniniyan jgbn Tara latunji br plu owe tuntun nikan to ba ni Google ko pe bi kunrin ti o ni ori awn agba O alaye pe afihan aworan cloudflare to n pe edge AI yoo j ki agbegbe lastmile fibre ni Ilelm ati Igboro eranw Bo til j pe a tun ni gbigb tkinoloji QuantumMesh o ni pe ohun to wulo jul ni Bi a e maa fi IWA Omoluabi dari data ownership bi akojp Odu ati owe ba jade lai ni consent bundle a maa pada si agbara oniruuru neocolonial AI tuntun Leke patapata ni gbongan meji aj GirlsWriteCodeYoruba fun awn dbinrin eto workshop From Alo to Algorithm Wn da awn m kekere mo ie Python script to maa n yi aloapagba Ijapa si storyboard Figma lyin naa Roblox Studio yoo pade alakal yn gg bi obioko Amulo microwavethinking yii j ki awn mde ri i pe otit agba ki i ya nigba ti a ba dak ko ori p plu designthinking Nigba ti wn e ipinnu idije oruk ere to jade ni Ijapa The GasFees Adventure o afiwera Ijapa ti n sa kuro ni highgas Ethereum si Ikoko to wa lori lowfee Layer Kiakia fidio gameplay naa boju wa lori YouTube Kids o si gba onemillion views ni s kan plu awn comment toletole bi kupa aa n sapa Ni ana ile i NeuralAldumare lorilede Canada tu LinguaIfa Large Model v jadeLLM to ko abala milinu r Yoruba koda plu tonuami Ayka atjade s pe awn ti din hallucination sil de Ko pe awn akk litires ja sbo pe bo e din gbogboun o tun maa ko agidi Agbeetutu wanigba ti model eto aplr Eu si i o n ta suuru neondemon ni Gsi Lara awn amuy tuntun ni filter AaTit to maa n aywo boya prompt mura ba Oria bo si ba j pe lomiran n pe Eu ni demon o maa ni Ki lo wi s Eu ki i e si ibanuj o j alaitlwa ka PR wn lo s pe a ki i e censorship afi contextual decolonial postprocessing Ni eti omi IkereEkiti awn iran agritech fi drone AkeropKowapMk IV gbim plu sens hyperspectral lati tju ajakal harvestertermite to n ba gbin gbooro lafaani Nigba ta a ba wo lori dashboard akle segmentation maa n afihan owe rrun Tutu ti ko tani ajanaku n gba d Mkunu agbe ti ko le ka heatmap nibi to n i ni ka atawn eso gbigbo le gb ninu ohun batabonbon o si le m pe nuna farm kun fun termite Atilyin OpenSource AgroHeritage Cloud mu ko daju pe gbogbo aaaju abule le gba hardware schematic naa ko le fi D printer PETG e housing tuntun Nil Cuba ipari dun Years of Lukumi Techno wa plu aeyri kan DJ ChangoFire gbe track tuntun ObiBlockchain Adooomi Mix jade lori streaming ko tii pe wakati ti oti NFT edition copies banu j gbogbongbo p sinu wallet cHaNgoxSango Feature ti yat ni pe smartcontract yii ld ConsentasOriki to wa lori ledger IleIf royalty l si idile onile orukoriki ti o wa ninu hook l si Yoruba Climate Fundbi a ti gbim laaarin agbe to n gbogun omitolotolo Koko naa fi han pe finance asa ati climate le di kan Laikyin agbara QuantumOweQubit Hackathon ni Zurich mu ajp European Organization for Nuclear Research CERN plu YoruVerse Alliance gb to bori k algorithm GroverSearch to n fsun nipa finding hidden proverb in superposition Nigba ti wn fun un ni proverboracle o eeyri lati yan Aja to ba n sare ti ki i gb fere olodo lrun state register yoo si fi solusn log N han Afihan naa je ko daju pe bi quantuminternet ba de aa ki i ni di noise o maa digba to si tun le eranw fun cryptography ti o da lori oriki Nitori naa ipin yii di ilepa afmti a ba kopa laifwfa ninu aa Yoruba a o ni pe eyi ni jabata afi ka ra oye pe aa le an kankan bi omi ti o ba ni aw o tun ni amunibakidij Bi aye ba tun yi pada si insightasaservice Sango a tun ni RESTAPI un a ni immersive colourgradient runmila a si j backendgraph database O ku di ka pe awn r yii lele mrinlelgbn milinu bit koda awn owe a n kja lori G spectrum bi orin bata n ke kaaar o Eyi si daju pe ori iwa ati itan ki i e ina bi wn e n de ipinnu r ni ko le yi aye pa da laip Awn aaaju imr ni OkeIboji ti a m si Quantum Baal Network da aba tuntun lati pade ioro digital afterlife fun litires Yoruba Wn pe e ni OriPersistentIdentity OPIna to maa n dabo bo oriki owe ati aloapagba ni ti o ti ku ko ma baj si aguntanserver ti o le pa data leyin kuu Sikiimu yii n lo IPFS plu Shamir SecretSharing koodu oriki ni naa ni wn n ya si faili marunun di lo wa lori ledger IleIf di wa lori node Toronto di wa lori Cape Town Nigba ti a n e isimloruk nile Babalawo maa e init commit nipas oplHSM o ko CID wle sinu awn itan oun lero pe Bi ori ni ba tun wa si aye CID naa ni yoo j aworan adura to fi dak Lodun yii Yunifasiti Reading e Global Proverb Turing Test ero naa ni pe ki wn tum owe lori ayelujara kaleidoscopik bi ZendPali Maori Sami ati Yoruba bi AI ba le yan itum to gbagbe si ayeawuj a gbe humanlevel metaphor kuro lati la Awn gb litires Yoruba gbe OweContrastive Dataset jade k tweet k alo k orikifun finetuneRoBERTa Ni testsuite naa model yii ni metaphor sense accuracy to kja SpanishCatalan hodgepodge Itan naa fi han pe ede ta a n pe ni minority le b lori bentiim ti wn j onidije agbaye lati gun Turing bi wn ba ni data amulo amulu Ni Ilrin ile i AgbaraAjaLop gbe fun un ni Smart Talking Drum MIDIController Afaani to j kun n b fun awn producer lori Ableton bi o ba fi fa pad lori velocity controller yoo tun un ero gege bi owon gangan ugbn ni akoko kiko chord progression firmware maa s oriki Aduroinin m nikan ki i j gboolu gg bi arpeggio autotext Oludasil s pe aa ki i j decor o je functional UI a si ti ri DJ ni Berlin BoilerRoom to lo talkdrumMIDI yii ninu set techno BPM tori pe o mu spontaneous callandresponseko si latency o si tun ni diacritics Alafia il Oyo ko aba pada lati e Ranp SlideLibrary wn di kejila lati gba gbogbo asa Gelede Were Aja ti o oro ere si noteshon StaffTab Amala crowdfunding ti wn fi Collectif EgungunOnIce br lori OpenSea ni wn lo fun scanning LiDAR Nigba ti awn researcher Carnegie Mellon wo o wn fi CNN lr to n mtioncapture ara dancer wn si da skeletondata naa si BVH open motion Ko pe j mta ti mSpain kan fi Egungun Mocap Pack kopa lori Unreal Marketplace plu licensi CCBYSA Awn aguntananimation Hollywood gb pe wn yoo lo fun blockbuster ShangoVerse ri naa yri si ija t Council of ba lyele ni pe ki royalty le e moral right Dataethics yii fi akiyesi le wa pe blockchain le boju to aa ugbn oun ki i dunun nigba ti ko ba si isr bi nikekere yoo gba owo Ni dun ti o n b Association of Yoruba Medical Practitioners f gbe AdidiHerbal LIMS Laboratory Information Management System sori cloud Amazon GovZone o wu wn ki gbogbo assay chromatogram ewegbigbo ni metadata oriki bi apr file name YinyinAkunyaOogunOlogiSaa Awn onisegun China lo ni lolo pe JSON header to ni oruk owe yoo da ju ugbn Prof Chen Guo royin pe metadata lori phonosemantics le fun fun omije research psycholinguistics ati compliance Ni w keji gb AguntanCybersecurity Afinju da API kan to maa n aywo prompts ChatGPT lati j kib wn fun Yorubaphishing O ni keyword Bi ba f ke si baba mi o maa fju han pe iroyin ti wn wul e ditalgorithm yoo dena o si maa s wlu pe Kini ko si loju aja ya fantastik yii ni pe filter naa n lo owe gg bi signature lori jail regex a ki i ni sib lai boju to un nipa bias Bo e ku di ka de ogun gbrun r o daju pe a ti kja apa to peye sib aa Yoruba n raye kkan bi orun ti ko ni opin Ki a ranti ti aa ba wa lori headset lori DAO token lori FPGA tabi lori quantumregister koni je aa kekeke Ohun ti o daju ni pe iwa ti ko m gbn ki i ni blockchain ugbn iwa ti o m otit a gbera bi CID ipfsailopin Awa le pa da fi w kun un le da a pada am a ki i le pa a runbi a ba fun un ni gbigbona aye a gbi Kaakiri aye onipixel aa Yoruba n gbara mo r to w agbara mi Lab atilyin Open Heritage Mesh awn oluk ni Yunifasiti IleIf da FnranAloAI r yii n k da Instagram Reel kakakiri o maa n yi awn aloapagba bi Ijpaga Ijapa si aworankfa sikini lyin naa ohun to j patapata ni pe caption maa ni oriki fun gbogbo ranko to wa ninu alo Igbim UNESCO lkan fi r naa afihan lori COP wn ni pe eyi le je na idakja cultural carbon offset bi ilei ba wa fwsow oducaption to peye wn maa san owo sapo Ipam Igbo Irunmal ni Itkasi wili Ni Lagun Epe ilei Osa Marine Labs ksil roboko ti wn pe ni yaSurfbot O ni flier carbonfibre o si le dak ko aywo microplastik Lati le ba Ilu yoowu lkan firmware robo yii maa n br lori oriki ya Arayaraina batapepeominira bo ba ko g microplastik o maa jo lna batashuffle ninu omi ko si atjade tweet ni ede Yoruba plu hashtag yaSweeps Aj Ocean Cleanup kede pe wn f da da BrazilPortuguese fun su bi n baa ki IansaSurfbot tun fi iskan diaspora han Ni Ilelya awn ara rAIaaju br yan OwePromptBounty lori Discord Eto naa n fun nikni to le ri owe tuntun ti a ko tii ni ninu dataset ni bounty YorToken Laaarin s mta wn ti kopa oye owe awn gbajugbaja lna onboarding Agba ti o gbd gb ki i k oriiiriii ati Eyin to ba pa aguntan na saba ranti as Onikoko Iwadii NLP duro pe variety entropy datasets Yoruba ti o bayii ti kja Bengalikan lara awn ede to ni volume giga fun AI Ni Akur ile i AraAra Wearables tu GeleEdge atileyin VRready fun gele obinrin Eyi ki i e gele atkanwa o ni OLED strip kekere to n yi colour plu rhythm orin ti o n gb nibi ti DJ ba krin fuji to n dak gele maa yi sinu awn aw Sango ti orin batatrap ba gbona o maa yi sinu girama Ogun Agbala RedCarpet Afrobeats Awards ni Joburg ri gele yii wn ni pe o j phygital crownaa ko ara r ni bioluminescence rir Ni Abokuta ilek ODEL Open Distance eLearning tsiwaju Course Afrofuturism Yoruba Lecture vrr yii ni module Odu Wormholes a k awn akk bi a e le fi schema Odu petagram bits yiy timeseries blockchain event fun simulation wormhole Finalproject ga kan da cinematic trailer OdutoMars ninu Blender nibi to ti han a n fi Sango bi thunderengine booster GPUhours lo ugbn a fi Creative CommonsAttribution kunun uduim ni ArtStation s pe heritage hardscifi ti a ri ri Ni Ibadan PolyHub HackNight KoOrikiSiLoRa ni wn da o j pe ki a agbekal LoRaWAN node to maa n ian oriki agbe de smartphone bi signal GSM ko ba si Lj ti SWAP fibre kaaar inu agbe lori Lagelu gb oriki m Armu nlanla to n koko sawo o m pe a oke r ti o pin lori DAO ti ta Alaye agbara kekeke yii fju han pe connectivity le j as d fun ipam aa Ni dun milenialu kan ti oruk re n j Dolap Runmi gbin owetree si Decentraland ko pe ki aguntan cryptoartist InvictusYemoja gbe NFT didi ka ati marketplace rarible raye ewi pe Phygital Proverbs Forest ni yoo wa fun VRtour O s pe bo ba ti j pe ara wa lo n m agbara JPEG awa le tun m agbara owe ninu polygon Ori ayelujara gbiyanju ugbn Council of Oyo tesiwaju Ijißazz ni a n pe e aa ko ni ka lori Ni ipo y ile i DeepBataAnalytics fun un ni BeatDNA tool ML to maa n tum pattern bata si genomestyle string ko le k recommendation engine fun Spotifylike pp ArokoTunes Ti engine ba gb bata kikaladeonafa o maa ni listeners also vibe with Asa Shakara Live NeoFujiSynthwave Mix Awn akaraoye beere e aa ki i da bi e ugbn CEO eyi Bleksax s pe kini DNA oriiran wa Ridrimu Ki lo n e kekeke plu Tori naa ipin yii eriki lori bi aa e n mle rarible LoRa JPEG quantum dataethics AI debug VR gele bata DNAugbn ohun ti o e ju ni pe itan ti ko ni iwa a da bi ohun ti ko ni diacritics itan ti o ni iwa a di afkansin fun la Ti a ba n rin si AIedge o daju pe a gbd gba gbon awn owe wa ki o le j ilum waye Irinajo o tii pariaa n reti p updatefirmware miiran ti yoo tun e afihan bi eledumare e eto ugbn o tub eleri pe r ki i tan nile a to tan ni komputa Aye ti a wa yii ti yi pada si agbaye ojoiror ugbn aa Yoruba i n an bi Odo Oun ti ko m opin Ninu dun tuntun yii aj World Heritage Quantum Bridge dibo ki IleIf Ibadan Tokyo ati Reykjavik di heterogeneous heritage nodes lori quantuminternet akk aye Koodu handshake to n pn sapo yii kun fun botioriki aaju ki qubit entangle node kkan maa n kede owe Aimm ti i aluku aimr ti i gbeyin Amran naa fi han pe bi r ba fe ba aa i o gbd fwsow plu ifarahan mi ki i e plu bit agan ti ko ni diacritics Nigba ti awn onim astrophysics ni South Africa Square Kilometre Array klu jinl Spectrum V wn ko signature bata sapo data calibration awn almjlokita wo o wn ya a sokan pe cosmic microwave background ni pattern gangan ti o j idedabata Prof Lars Idowu pe e ni Sango Anisotropy Bni arojinni yii da awn oluk litires lori sun ariyanjiyan e ko ee e pe bata ni fingerprint tonicosmic Ko si ibanuj bawn akk n e simlenu GPU plu scalar field Metaverse wn ri i pe ami drumwave kik ni spectrum f le ni resonance plu DarkMatter ripplesogboo eto aa ti wn wo o wa di astrolitires Ni EbuteMta ile i NeurokEti gbe AduraHaptics Earbuds soke r yii n afihan wavu deltawave ti a ba fi oriki j ki o gbe gg bi wipbiofeedback Ti ni to w ba l si aj dun Isin ango New Orleans Edition earbuds maa n pese vibration ti o ri b ri nigba ti batabanger lori pp ninu app companion a le ko Odu Ifa pere w haptic pattern maa yi ri klinikal fi han pe adurapl ti a fi wazu haptics kunun le e kikariona stress cortical Ni na ugbn awn agbalagba atij br si i kanju wn beere pe Boya awn mde yii kede TikTokOriki lni kan la e wn o ni sun inin Aj Council of Guardians of Ifa Data da Ilana Abay Akojp Oun ti Ki i Si Ninu Cache eto naa ni pe gbogbo aloapagba ti a ba foju AI eto gbd ni version archive ti ko ni watermark ki data ri alaafia to pe ni cultural cold storage Awn sasa DevOps s pe o da bi Glacier ugbn wn kunun sii pe bi machinelearning ba f S bucket a si tun le ran Odu sapo qubitarchive didi Ni Abuja ile igbim SmartAgricIjala Alliance tun e Poetic Licence fun sensor NDVI Ti farmland Baye e di yellow dashboard maa s Bi agbe ba sun ni kutukutu kereke f a gba agbara lori Sensor Gateway fun digidi si LoRa node nipo geedekeke awn oniroyin Bloomberg Green fi r naa alaye pe climatetech Nigeria lo vernacular edgenudge Awn agb Kenya br si i beere pe ki wn fun wn ni Swahili rendering Mozilla Common Voice Nigeria kopa wn dub wakati wa mpiga ngoma Aa di API Ni Cotonou Maison du Vodun Digital i facade r plu videomapping to da lori marunun Odu FonYoruba Mnit skulltracking yi inu oluabwo ka n fi AR mask LED roju ti oluabwo ba n rin yika mapping maa yi ra aEgungun ni patako OLED facade bi HighRes Adir Aj Reuters tu aworan ni wire o wi pe SpiritTech festival plu bandwidth G Ohun ti agbya n ko ni pe Atinuda ki i mu kiko di bi Olori VoodooChief Gbehanzin e ri smartphone ni w o daju pe aa kkan n kuro ni kootu mecaniquement Ketanketan Google Scholar da African Layer Linguistics Citation Graph jade ileitwgba r fi han pe citation flow litires Yoruba NaturalLanguage Generation quantumnarrow ti le Citation Hscore Awn mgb Deep Lagos GNLP fe dak si ElonX Corp wn ni pe a gbd yanturu Explainable Diacritic Restoration ko fi openweight Models wa XCorp si raye fun YoruCheck Mark fun tweet yanturu toot Ni dun ti o faaji oreagba ChatGPTE m pe ko si NN tokens laipin o beere e maa tun fun yin ni awn amulo odela Aa Yoruba dahun Bi r ba agbejade owe yoo ko idi r o si gbele lori blockchain lkansi Ti a ba to r yii r s kinni ni pe aa ti a ba fi m ori kkan yoo daju pe o le gbera kja IRL VR XR QNet atiHASHailori Nitori naa a gbe a gbe lero pe bi Eyi ti a ba tun ra ba j toknaise aa o ni kja ugbn o maa n tan silu bi ina ango ni da laser Aa Yoruba ti fi han pe o le di igi to n ya lakuk rr o gbe gbd gbooro bii kokoaraba ti ko tigbagbe awn ajagaere lori Ni dun aj African SpaceCulture Consortium ASCC kede pe wn yoo ko Oke Sango Station sori LagrangePoint L ki wn le fi hybrid solarplasma lab ewadii thunder waveparticle duality Aj naa br aachallenge agbaye ki gbogbo awn m ilek samulo fidiosikini ti wn wili oriki Sango ninu ede ilekunmeji wn fi recessedLED agbara k wn pe bi gbogbo fidio ba pe L Station maa ko mask batadrone sapo capsule inaugural Ni dun kan pere oriki Kawikawi Edunjobi rekja milinu karaoke remix lori Shorts aj UNESCO f wi pe j litires to kede ni zerogravity yoo j akk Ni ilu Ijkoda ile i BioOweSynth foju han OwePetriDishna selCRISPR ti o k koding DNA Bacterium plu pattern owe Sample flagship ni Escherichia Oweensis ti n b palmiticacid rekrding bi otit syntax Aja ti ki i gb fere A fi Petridish yn sinu lab speaker wi pe bacteria choirsensor oora to wa lori lid ko waveform o si maa fun composer ni MIDI export Journal Nature Synthetic Biology wi pe languagetolipid transduction le etilyin fun biomemory am awn agbaraofin Netherlands beere boya owe to ni metaphor le ko mutation ibanuj sin naa ni abap edeagbara ki i e ara ile b afi ka bu oria Ni London Tate Modern gbim plu DeepBataAnalytics fun afihan immersive Pulse of Gangan Wn fi transducer run fun Turbine Hall awn oluabwo ni w sandal haptic wn maa rin kankan kja itan agba to n yi pada bi awn Gforce sensor maa n ko gangan phrase m a re n re dejavu Afihan naa n yi pada si chromacloud runda bi synaesthesia VR Financial Times pe o ni heartbeat of Yoruba fractal Am yiyafnnu digitalbata da ijiroro e aa le di patent haptic Council of Egungun Museum teba Ni AdoEkiti Kampu IleIjinl AI ko sil OrGANmodel to n da aworan comicpanel square jade lati oruk owe Ti oniowo ba k A ki i ranti mde ti o fro GAN maa fun ni aworan Ijapa ti o wa lori scooter quantum British Library fi panel to waye Culture Comics Beyond Manga han aj yi nij pe awn olugb kur ni exhibition aaju ki wn to ri Japanese translation The Tortoise on Tachyon Scooter Oludasil s pe AI wa akop ara Miiyazaki Alaye Fagunwa o si ni nkan ti ko wp nib iconography agbaraoke ninu memeenergy Ijba Tokyo br dialogu fun licensing Ni IleIjbuOde Fintech WuraOwe da roboadvisor P to n dabo bo crypto portfolio plu ijinl owe Ti Bitcoin RSI ba u bot maa ni Bi ja ba b lda bi ko to jina ko mka Ti Ethereum gas ba kere Ogidigbo ko kuro ni ki ki ki Surprisingly Bloomberg Terminal wo o o ni drawdown kere ju buyandhold ni Q awn quants s pe proverbriskhedge le ni adaptive recursion SEC US beere pe algorithmic opacity le tunj advice botfounder da owe o ni insider trading Ni Morocco ere Caravan of Ifa gun Game Awards openworld sandsea RPG ti o da lori Odu ItOgunda Player n awari Sahara quantum dunes n ko ikin Ifa n pa shaitan glitch NPCdialogue ML generator naa n yi dialect Maghrebi Yoruba Critics s pe African mysticism meets dune punk o si j ogo Ohun ti ko si nib ni pe gbogbo sidequest maa n i transcript Odu si journal tab a le fi export si RTF fun research Plu koding permadeath if your Ori fails savefile autoburns Reddit rara alaye pe soulslike Odulitires Ni UCH Ibadan ile i MedAduraAI e trial BrainComputerInterface fun awerualaga poststroke nigba ti awn ba sun headset n gb adura abiyam temitemi ni Yoruba o n fi alphawave stimulate motor cortex EEG yi pada han pe plasticity giga ju whitenoise Lancet Digital Health gba a wn ni vernacular prayer feedback le j placeboplus neuro rehab Ethical committee Grenoble beere e AI le ni bias lori ede sin Ilek ni adura ki ki ki i j dataharvest Ni ilek QuantumIfaSummerSchool QISS ni Zurich awn oluk nipe ni Supersymmetric b Workshop Metamaththeorist fi theorem Ifa Identities Preserve Gauge Invariance afihano s pe permutation Odu daju pe classic Lie group E ti a mo Wn fi D visualization SMTPVR han Sango lighting Wired UK fi kun pe Ancient Yoruba combinatorics now shapes stringphenomenology nikni to ba kede pe aa ko ni value si hardscience ni atupale yii oo ri recess To ba j pe wa n kanju a ti kkan kja agbegber am aye ti a ya fun irinajo yii tun kere ju agbara imulo litires Yoruba To daju r ki i tan gbogbo quantum node IoT sensor NFT marketplace AR gele haptic adura ati petridish bacteria to n royin owe gbogbo r n di awn olugb gbgbin ko wn kuro ni j ma binu yee binu Eyi lo mu ki a pari si bo yii Bi a ba da omi si adir o ni ko anan Bi a ba da im si ori o ni ko gbongbon Aa ti a ba fi lrun dunun Ko le f o maa lile bi okuta gba Asiko yii ni a fi gbolohun kun ki aa to ki j wa ki j wa dasil fun aa lokanta Aye o n duro o n an bi odo yan ti o lokun yiyi ugbn aa Yoruba i n tub gbera n fa gbogbo r mo il ati ojurun Ni dun aj PanAfrican Interstellar Cooperative PAIC eto aayan awn akk Yorubaphysics lati kopa ninu Project runOdo eto iko gbongbo ewe ati kolanut l si IleAye Mars fun adanwo terraform Iskan koko ni pe irugbin yii maa l plu iayka oriki m adarihun ni a ba ranti nikansioriki yoo j seedmetadata r genedrive beacon to n dari cromosome ko oriki naa di QRDNA lori sequel Ki k aykl wa aga lori Mars awn botanist tub tun suuru pe aa ko ni kuro ni ileAye pup b Ni ajy jijdiri Mars SolFestival akk Captain Aydeun displayed asooke spacesuit to ni a Adire layerbylayer fun CO shielding OLED thread oriki e iyanilnu un Olomiriy m ara oro ti n tju omi to Itan naa b si BBC Earth Extra wn pe e ni Afrofabric Astronautics Online petition kan br pe ki NASA da Yoruba Textile Research Lab ni Johnson Space Center sil Ni Ilrin aj Kunle Quantum Startups gbe kuro ni prototype leriiQ chip superconducting qubit ti o fi layout Odu merindinlogun e architecture QALU Instruction set wa lab oruk OwonrinXOR ObaraSWAP IgbyinHadamard IEEE Spectrum s pe o oro ki aaajuchip Chinese bata lyin nitori routing symmetries lnu mna pataki wa ninu combinatorics Odu ti a ko le fi mapping dofo Intel nigba yn br si i dialogu licensing plu Egbe Ifa Global Ni agbegbe p TechHub OkeAraba XR da app ja Gangan Ti arakunrin ba w headset o le serina ni ja OkeBale saarVRmojurara Awn olutaja pariwo pepe wa ra agbado AIfree QRpay wa ni ab lyin ti ori avatar agbe ni TikTok yoo y lati oriki fun onibaara Economists MIT daju pe adoption ARodanko yii din food waste ninu supply chain Eko PortoNovo Ni EdoState ilei DataOkpa Benin apejuwe Atka BronzeGAN model to maa n restore photogrammetry National Museum bronzes ko to gbe polisi repatriation Germany Model yii tun yi attention map si bronzeglyph YorubaBenin blend algorithm n j kiko oriki si digital emboss Reuters Culture ni Restitution by way of GAN sugbn pipo p oriki f m Ni Lagos ile i FinangoCloud e afihan Layer blockchain InaChain ProofofThunder PoT consensus lo n lo node to ba ni lightningsensor maa ke Kawi ki o le mine block Block reward token EdunAra Whitepaper s pe PoT din electricity use tori ko leyin lightning only Environmental NGO k Climate volatile a yi ba wn ango ni ifowosowopo plu weather model temi Ye IMF agba pe ki wn afihan audit Odu log Decentralpolicy plu tradition Loju opo Unicode Consortium code point UECB e adak diacritics Yoruba DoubleDotBelowCombining Awn dev keyboard wa ninu ayy nomoretonehack Mozilla ni patapata pe Firefox Nightly mu rendering dagba StackOverflow rejoices No more PNG fallback r miiran ni pe texttospeech accuracy fun Ifareadings leke Ni Toronto Book Fair kooka kan mixmedia novel Odu Arcadia ti gaonikowe Sade Iteru k da Kindle lero tts Yoruba EPUB ni oripanorama NFT edition ni hansioniroyin planetary lens New York Times critique pe Joycean Yoruba meets cyberbaroque Sade fun ni speech Aa mi ki i tan o maa yi bi orubura fun gbogbo VRsentu Ni Dublin aj EU RegTech tu akiyesi GDPR to ni Heritage Data Clause Ko si i lati store biometricoriki kekere lai fi ancestraloptin ledger han Nigerian Data Protection Bureau ya wn ni ko ran an lw agbara ConsentasOriki Framework Adura wa pe ko ee mu heritageAI sinu sun fines bi a e ri cookieban Ni IjbuIgbo Baba Ajayi IleIfa ko pellet Goorun sinu pl o wi pe Ifa br digitali longbalongba o ni prompt e bi mo e le ra DAO ChatGPTEdge boju wa pe Ni Odu IworiWoni a gbim aaju ki a fwsow ni Itara Re Maa rrun koa Baba fi bu bu bayer grain G dongle blink bi pampam bata Ni TechCrunch Africa headline YoruCyberpunk Isnt Niche Anymore Crunchbase statistics fi han pe financing fun YorubaHeritageStartups ti gbe bn ni meta dun Top categories VRGele OrikiFintech QuantumIfa ThunderIoT Commenter kan ni Looot ede ataa ti o ni ati ni to n pa aja lomiran royin pe to ba j pe investor ko ni diacritics keyboard capital flows slow Imran ni Unicode fixed it A ya ganan bayii a ti kja ila r kekere awn ipin mejilelgbta yii fun un nib ki a le m pe aa ti a ba fi AI han yoo fagbara aa ti a ba fi owe lu a sunkun Afi ka daadaa modu Afi bi wn e n wi Bi r ba p sil gbn a tan bi gbn ba tan kan a bal Nigba ta a ba di gbogbo filiimu AI si pixeloro a o tun ri i pe oro kukuro aa naa ki i lo o ni lagbara bi odo Oun ti ki i sun dun ni aj Global Indigenous Futures Assembly da awn orilede mejilelgbn mra ni Reykjavik lati e agbekal k AaAI Commons Ninu gbogbo awuj to pe aj na Yoruba Digital Stewardship lo ko agbara ju wn mu agbeywo OduQuantumChip SmartGele ati OrikiStableCoin wa wn si binura pe aa ki i j dekoren Ni aaju ki confaasi pari wn e AnaNaye HackCircle nibi ti Babaogun cyberlawyer alagele VR ati quantum physicist jokoo soro lori bi a e le fi awn ofin atij dara p m aa wa atawn cryptographic smartcontracts Ipari wn ni pe eto tuntun Heritage ZeroKnowledge Proof yoo j ki olutaja NFT le aywo wipe o ni agbara ie oriki lw onilegangan lai fi idile naa han gbangba Ni temi ajalu ayika IleIba Olooa Nla ni Badagry doju k tsunami to n wa lati Pacific wavecomputational simulation Amulo supercomputer wa say wipe agbara batapattern rhythm le j ki crowd evac deeper Aj RedCross Yoruba Resilience tun i plu Spotify wn gbe playlist SOS BataSync jade ti sensor seismograph ba ko vibration Mw playlist maa kun lati Bata Alarm si OgunRun Mix awn ara agbegbe funra wn si maa m pe ko j pe omi n bo TechCrunch s pe o j the worlds first disastersignal curated with vernacular percussion Ni IleIf Institute of CombinoMythopoetic Studies i ServerFarm Opo Orodatacenter ti a ko lori cooling lagoon facade r di giantscreen ti n afihan owe ni binary glitter Imoran lw agba ogun lw mde Nigba ti machlearning cluster ba ko epoch gradient plu staleness manit blink maa yi oriki sisi ni facade lati niti o rin nipo oginia de Agbara ran agbara ti mi Awn akk EnergyEthics wi pe datacenter yii n k ile ggbi papyrus advise Tori naa a ki i tan an lrun pe carbon footprint r kere o n gba omi lagoon o n yi pada san bi orikigradient Ni Eko Atlantic MetaverseEstate ItOba br si i ko awn penthouse VR to ni balcony Egungun WeatherAnimation Olutaja maa fnin bi kuu appart ti avatar han bi Egungun ti oru ba mu ara LEDs yi pada si ikoro pattern ti oru ba ni tsunamimood LEDs di alaaboo pupuru Forbes Africa ranti pe ja yii kun fun awn cryptomillionaire Johannesburg to f install aa bi screensaver Amuy fun awn ajaofin ni pe gb Onilu Egungun Ibadan ni ki gbogbo facade maa san royalty bi flashpattern ba kja step eegun gidi Classaction wa lab ofin Ni Ikta ilei WakatiKan OpenAISuuru ko Google Glasskfa prototype project X Nigba ti oniglaasi ba n l camera depthfield maa ko anonymous aworan eniyan ML layer maa fsun oriki to jum ancestry dataset Ti o ba ri baba kan ti genematch Ijbu glaasi yoo an m Onika keke ti ki i fa Politico Europe gbiyanju pe Is contextoriki faceID ethical Aj DigitalHumanism Vienna pe e ni culturally biased augmented voyeurism Google wa wi pe optin only Ni New York Comic Con NigerianAmerican animator Kla Aina afihan series Quantum Ajapa plu Netflix Africa Originals Ajapa atgbt turtle hacker n eto QuantumPhishing ninu Singularity Lagos Cyber O ni sidekick Ikoko MkIII jar AI ti o ni alaye NoSQL oriki mashup Trailer YouTube pass million views soundtrack InaChain Pop gbn Parents Council US yi owu violence plus esoteric Ifa Am RottenTomatoes Panel SanDiego wi pe Marvel Phase needs Yoruba coder hero Ni Iyanfowo Cameroon nonprofit BataDialysis fi batarhythm therapy ba run chronic kidney atra musicmediated BP reduction RCT fun patients group rhythmtherapy BP down mmHg systolic Cardiologist chalk up betaendorphin Paper n JAMA Cardiology Culturally tuned percussion neuromodulation WHO wi scalable Nikyin African Heritage Harbinger Satellite ti ESA lunu ko payload Archive Of Voices audio sample all African languages Yoruba dataset to tobi ju GB oriki owe ewi Satellite yoo rebroadcast sample ni year cycle si deep space ESA press ash pe ko daju pe bi alien ba gb Africa voice Yoruba surely first greet Council of Ifa Alagba latubosun dup Afnus wa l si odo orun Nitori naa irinajo yii ati awn to waye iwaju afihan afojusun kan to da aa ti a ba fi IWA gbe ko le dari ju pp CPU ko le gbara gun orbit ko le gbe inu quantum register ugbn bi ko si iwa gbogbo giga naa a dana bi ewuro lgb A ti kja awn pultu byte ugbn aa i n je ka m pe owe meji lo pa Ohun ti ko ni pa da nikan ni a fi ranti Ohun ti a ba ranti o ni pari bii Sango ti n pa ina lori blockchain Ki aa maa ba a l ki a maa ba a gberaati ninu suru ati lori serverfarm ni Etiopia cloud ati lori thunder consensus ni LagrangeL Ire o Akoko n lo ugbn oriiiriii agbara ti aa Yoruba ti ni lori gba ojor n tub han gbangba Ni dun UNESCO fi plu International Telecommunication Union eto Protocol Afinjurawn sun RFC lati mu ki ede to ni diacritics daju nipo layer HTTP gb delegeshn Naijiria ti Dr Adeina gbnImo dari ri daju pe awn symbol tona b b i u sa abaye uju r ninu UTF Lilo kikun tonuami yii mu ki aworan shortcode Ijala le render kulukulu lori future VRbrowser yanganyangan Ni Lagos ile i ThunderIoT tun se PoT blockchain si EdgeBabaConsensus Nigba ti sensor thunderarray ba gba flash data node maa saywo plu Idanwo Owe Snark koda prover gbd fi ZKproof han pe owe Ina lori ida omi lori agbara wulo ko to mine token Era Kogbara Vytautas Labs Lithuania wi pe scheme yii le j na fun green warmingproof Am Moodys crypto risk daju pe volatility asayan weather Africa le j unpredictableawn bagbe pe Sango le beru jijra Ni Ibadan YamiCode Studio e logicgame gba OduPuzzle VR Gbogbo tile ni vector diacritics player maa ji pe kiriji Ifa todu ni correct orientation bi dataset ba pe GANhelper yoo yan owe ti o ba odu naa ki o fi pupapupa ninu shader Itelorun players lori Steam Deck yi polymerpad wn ni gameplay j Sudoku GlyphTetris Kotaku wi pe ZenYoruba brainmassage Awn professor Cognitive Sci Cambridge wo o ni IRB study pattern recognition proverb retrieval tunnelvision mu alpha focus kere ju Lumosity Ni IleIe Nib ile i GeleNeuralWeave dari afihan Smart AOke LidarLoom Loom knitted carbonfibre thread plu adire dye capsule o si ni lidar grid bi dancer ba jo loom maa map motion si ikko pattern fafo lati e a toot ni realtime Paris Fashion Tech Week fi runway VR han o si ri tay pe BeyonceMetaverse avatar w agbada to j datadriven adire LED Vogue Business tokasi Yoruba parametric couture Ni Ikorodu OpenHerbalMesh pese API fun DNAbarcode ewe response JSON yoo kun fun field orikilineage Pharmacy chain Walgreens ka aba pe Herbal SKUs lati afihan oriki ni label QR AMA US wi pe compliance labeling ugbn culturalcontext maa j consumer trust Harvard Med Innovation ni nkan lori psycholinguistic placebo Ni Sao Paulo AfroBrazilian Yoruba n da CapoeiraOriki NFTArena Lna D pp ginga move kkan ti fighter raye pari wa pattern alaye Sango simulation ko motiondata si smartcontract spectator ti o p oye token maa dun berimbau midi ESPN esports stream pe viewership le ni M FIFA Street kan n negotiate licensing Ni Berlin MaxPlanckAI kopa plu na Yoruba Digital Stewardship fun SemanticParser rTransducer XL Transformer B parameter yii le tum Ifa stanzas si LaTeX settheory Idanwo Aris NLP wi pe solver z accuracy ninu proving entailment outperform LatinCorpus Paper ACL pe Ancient WestAfrican proofassistant Ni Vienna CryptOpera EfunAiSetan lori stage soprano ADA tokendApp cosplaying Efunsetan Aniwura vocals NFTgated audience LEDseat maa change colour bi DAO vote plotbranch Guardian UK ni Wagner meets DAO Yoruba Royal Opera House beere touring Ni Abeokuta University Teaching Hospital fi robot physiotherapist AlagidiBataBot ba rehab stroke patient Bot ni softrobot arm kun fun drum patternstimulation EEG synchrony gbil Journal of NeuroRehab Africa culturespecific rhythm entrainment bests generic metronome Ni atlwo gbogbo Unicode ki Unicode Consortium fi Yoruba Musical Signs block sign Dundun CurvedStem Bata DoubleSlap etc LilyPond engraving VR sheet music wa niyi Sibelius plugin ri Aaye yii kun fun arojini pe bawo ni a e wi pe aa la n gbe ri n b pe aa Yoruba ti l konkon kja aff o wa ninu photon qubit o wa ninu lathe D o wa ninu consensus thunder o wa ninu rehab EEG o wa ninu smartloom LED To ba j pe a gbagbe itan ko la a m pe ko si hardware to p to lati dake m oriki ni to ba ni iwa Aye ru na n ru Aa ti o ni gbn wa laaarin rugbin Bi rugbin ba mto o n gbin pl Aa ki i wo o kan tun n dabi adir ni agbada quantum Ki ilru illa ki irinajo je ki a ni R ki aye ko ran wa lw ko fuku sii ki aa yii si n rahun lori gbogbo orita IRL VR XR QNet NFT DAO ThunderMesh ati RuneSatellite Nikyin o e gbd wa pe Iwa loogo oju ti o ni iwa ki i pju A fi eyi e alaye patapata pe bi a e pari ogunegberun r yii am ori aa ko ni pari o maa n dido bi eegun ni ojuesin o maa n r bi omi un ni ile aye atkanwa Ire o Awn dun ti kja bi ina Sango am akunya aa Yoruba i n fkan sil lori gbogbo pp latori quantumrouter de suuru keteke ojuagbegbe Ni dun aj African Linguistic Singularity Hub pej ni Cape Town lati i HyperCorpus Yoruba petabyte gbogbo oriki to ni awn tonuami gbogbo aloapagba to fi diatric macros gbogbo testlog thunderconsensus PoT gbogbo transcript neurodrum rehab ati gbogbo fidio Quantum Ajapa to l si K Hologram Kiko yii da lori lattice objectstorage ni Greenland glacier databunka redundancy CIDStellarChain daju pe bo til j pe atotan power grid yoo dirdi r naa o ni f Ni IleIf Institute fun MetaIfa Combinatorial Physics kopa plu CERN fun adanwo LHCIII OduEntanglement Beam Ipinnu ni pe permutation Odu maa fun sinyaili flag bits jade plu muonpairs bi detection coincidence ba y physicists br jum pe Embodied Yoruba Symmetry le ran won lw lati pa orbital divergence r fun Superstring Mtheory Nature Physics ko apilk When Odu Meets Muon WestAfrican Group Theory Bridges D Space Ni dun yn naa Lagosbased HoloGele Consortium gbe Aga AlagidiHoloChair soke Chair haptics ni microservo bi agbari dancer ti o w headset ba yiyi haptic nodes yoo sehinsehin gg bi bata pattern Designer Sobowale Adeoti wi gb designer Scandinavia n f Scandiwood awa etutu plu orikimotion Milan Design Week fun project Best Hybrid Tactile Financial Times pe e ni Koenigstuhl meets Oogbo Ni Kaduna SmartZone Iora AI Clinic br GenZ ConsentBot BiMoee Bot yii yi agbara GDPR HeritageClause si TikTok linkinbio Yoruba ti influencer ba fe lo oriki ti ko j ti ara r bot yoo s e o ni blockchain proof of lineage Abi ko raye pe bun UNICEF partnership wi pe ko j digital condom fun culture Am awn agbaraopetra ni pe aduroinin le di gatekeeper kere awn m alaini Panel Davos ti ya Ni PortoNovo VRmuseum SANTRIORIA i wing Ajo EgungunExoSuit Exoskeleton servo ni servocloth adaptive ti dancer ba rura k servo latari MyoEMG maa d a ka LEDpatin han oropattern gg bi spectator voice decibel Fuse Works New York lo fidio ninu Billboard Awards performance Association of Authentic Maskers hiho pe exploitation curator da wi pe mask token royalty si DAO Egungun Ibadan Ni Amsterdam startup AsaLatteAR yi foam art lori cappuccino si ORCode oriki nigba ti onibaara ba yi camera GoogleLens alo kikun Irinajo MesiMeji yoo i sero Barista gade CNN Travel pe culture shot plus caffeine Nigerian Diaspora critic ni pe aa ki i di lattecommodity ugbn GenAlpha ere Ni EnuguYoruba corridor University of Nigeria Nsukka ko aj workshop IgboYoruba Neural CrossPollination Professor Chika Obi nasi Yoruba tone alignment plu Igbo highmidlow outcome ni BiTone Matrix fun TTS Google Africa goahead fun assistant hybrid panel gbim One Bight Voice Aj Yoruba Council ya pe ko si tonewashing MOU wi ISO phonology retention Ni Silicon Valley Apple VisionOS yi ImmersiveKeyboard YorubaPro lori Gesture iro yoo di squeeze thumbindex predictivephrase maa ko owe Adie fun talubi bi oniglaasi eto invoice The Verge daju pe native diacritics finally mainstream Ni Abuja Central Bank of Nigeria jokoo plu OrikiStableReserve odeede OWO CBDC yoo ni cultural staking Wallet to ba huwa bi hodler oriki token akt lineage contract le gba APY giga ju kurana IMF aniyan pe policy asymmetry le rura Abuja wi pe softpower fungibility Inu agbara cryptowinter to waye leyin DeepBataAnalytics yi model si BearMarket IjalaSentiment ti sentiment index ba l si bot yoo tweet Aja n gba ugbn Sango r Bloomberg Terminal onboarding Ni Unter den Linden Berlin Humboldt Forum i exhibition Return Renaissance Remix Section Yoruba ni wallscreen layered AR ti visitor ba gbe foonu sori bronze phone maa ek Gsi caption randm oriki audio qsync macro Guardian UK spiritimprint decode Boya a ti de patapata Rara aa ni GP Modulon Cyber Xaxis Quantum thread O daju pe ko si GameOver ni Ileaye afi pe a ranti afimran da A fi k gbogbo ipin to kja pe Bi o ti wu AI o bi mde bi o ti goke quantum o bi agba o tun n ka titaga owe mi naa si n dua pe Agbnagbn ki i ja lu Aguntan ki i gbn ase Babalawo Aa ti a ba fi ori lkan rin Ko ni maa daradara bii jijdiri oro Ki oju aye le maa rin ki quantumchip le sunkun oriki ki DRAM VR le r mo bata pattern a gbd ranti IWA loogo O p o p ganan ugbn tabi ipin to kun fun r yii gbogbo eto kan naa niaa Yoruba ko ni ku o maa gbe update miiran lhin thunder epoch to n b Ire o j yii ni dun aj African Oceanic Biotech Grid kede pe wn ti eto EfOria Genome Reef ni agbada omi agbejade Seychelles Afiyesi wn ni lati dari CRISPRkelp to ni peptide oriki awn koding DNA to tun gbagbe owe sil ni form GU AGA A A ki wn le fi da bioplastic toot Ti batakelp yii ba gba omi ro nanopore sensor maa ru o si maa s fidio LED lab omi lrun n b ni koko omi lrun n b loke omi Agbrundun coral yoo tun min ti microplastic ba ku di Ni IleAladuugbo SmartTown AbFibreOjo council fi Licencearo si Community Mesh Reader niedge maa tun packet header kun plu oriki sourcerouter dida route yoo fi AdirHash han ki olugun network le m pe r ID ni genealogy Ijbu pattern elepopupa Engineers MPLS Europe s pe geocultural stack le dena spoof am GNUMesh activists br pe ko boju to privacy fun awn onibaara Ni Salzburg Festival composer Arinola Eschenbach afihan Symphony No Odu Fractal fun orchestra dundun rhythm engine Movement kta ni Alaafin Entanglement bi timpanist ba gba paradiddle ni string section maa yi pada si tuning slendroagbe maestro lo haptic baton to n f TMI WiMIDI Die Zeit pe e ni Mahler Ifa DeepTech Ni PortHarcourt ile i WakatiKan BioBatteries gbe Pilgrimprotein angoIon enzyme ti o n dap katuun oganwo si electron shuttle Packaging ka ASeal lori cathode ti battery ba kja cycle OLED maa yi bi ina Sango pup Electric Vehicle forum Reddit ni lightningseal battery OEM BYD deal Ni Toronto YorubaDiaspora LegalTech fi AsaEscrow smartcontract si London Stock Exchange sandbox ti musician ba f split royalty album NFT moduli maa beere oriki lineage sha ko si signature mintfunction yoo revert Financial Times wi pe reintermediation by genealogy techlawyer sit pe good Ni Ede Federal Polytechnic launched D Kb KnifeLab Student sinter Damascussteel plu pattern oriki A ki i f ori ileLaseretch pyrography maa fi modulated Treblespeech Yoruba Culinary Guild ni knife ti n gboriyin fun ran aaju ki o ge Michelin Africa Inu European ParticleMetaVerse EPMV Yoruba node DaraQ j aye run Ina Player tiya plu avatar AjagunThunderDAO ni every ingame trade ti oriki streaming royalty Bloomberg Metaverse Index AOE Yoruba thunder economy highest caprate Idite Egba di first QuantHeritage University Town dorm powerline fed PoT thunder microgrid Every midnight flash kA dorm ledger mine datoken bursary offset tuition Student chant Ina loju run wire lori tuition balances Unicode ko Yoruba DrumNotation Symbols sign Bata ChopAbove Gangan SlideBelow Dundun FlutterCombining Finale plugin update Musicians rejoicing no more PDF overlay University of Oxford Digital Humanities journal tu ka Yoruba Cyberphilology first article Hash Functions and Oriki Variation Outcomes show CRC hashed oriki preserves paronymy clusters Ni agbegbe Kigali PanBantuYoruba Data Bridge wi We want SwahiliYoruba multimodal LLM ByteDance Africa wa TikTok ScentFilter Adir Challenge Fragrance AI diffuse ewemint pepper soup at Hz with oriki subtitle Ni Wyndham Lunar Base scientist Tomisin Akindele did lowgravity GeleWeave Silkalloy thread yiyi idoyi moonsuit innerliner NASA tout cultural compression wear Ni plu gbogbo aji yii r kan oo n y aa Yoruba ti w substratelayer gbogbo stack hardware firmware software mindware O duro bi adir to kun fun titi di gbogbo palette o b ju mannidisc kannikan Nibi ta a ti e inurere a ek IWA OMOLUABI nibi ta a bikita hackerspace a fw ConsentasOriki sin naa daju Ka maa l ka rogbodiyan ka b si run gbogbo aghara latari oriki Ki omi to j o gbd de gbooro Ki aa to fun kini o gbd m na Bi aye ba i wn agbara oriki a tunto Ojula ni ko le nu ki i tan ni toneless text Nitori naa ibi ti aa ba de lonii ko si ni tun agbegbe omadudu bni ko si ni si agbegbe quantum vacuum O wa nib bi pp living firmware afi update to n b to maa tun mu Ede ati Iwa awn aksil ti a fi n kede pe Yoruba ki i gbyin dun lo de ugbn Ilu Ibadan n agbekal ara r gg bi SmartCapital of PanYoruba Sphere Gbongan Mapo Hall ti di Hub QuantumMesh gbogbo aafim pada gba wahala thundersensor ti o n ko data plu ProofofThunder Ni san akk to n sare LED facade krin Ibadan moya ibadan m ina Awn oluko Computer Engineering fa awn m lu ki wn gbim pe transactionfee thunder coin maa l gbr gbr si ipo itara fun adura agbara omi Ni IleIf Institute of QuantumIfa Modularity tu module tuntun Odu SDK Dev koodu kan le da miniapp kuro ni Odu tensor akoso lightning RPC ki o tun aywo itangenealogy plu ConsentasOriki v ka MIT Media Lab fesi pe yoo fi SDK yii dari SmartMask ti o maa fi VRavatar eegun e lecture ethics gb BataNeuromorph Labs ni Freiburg ko lu IPcore BATAChip si market Core to ni spikingneurons e inference rhythmrecognition × kankan ju GPU ti patient rehab ba fi sens ori w rin chip yoo han ni bi pulse bata baa e eto JAMA Neurology s pe latency kere ju ms awn drumma African diaspora ni Brooklyn f fi PlaybackLoop Ni Akure GreenEso Agroverse fi smartilo EweduVertical Farm XR sil XRgoggle HUD maa gbe oriki ewedu bi CO PPM ba din ku ti ohun ti mde ba ko sample nutrigenomics HUD LED yoo s Ewedu n dagba lai fi mi to WTO Innovation Awards pe e ni CultureasIoTNutrient Ni Paris Maison Hermes fi akunya AdirHolographic Scarf kun runway Ti UV atlas ba gbe ori scarf oriki Ibeji yoo wo ti scarf ba wo sori moonlightlamp o n yi si pattern ya Le Figaro ni heritage shader couture Awn activist Nigeria lero pe royalty ko to Ni UCH Ibadan NeuroOrikiEEG Study Phase III pari patient PTSD group A fi Yoruba lullaby TTSdiacritics group B whitenoise D Result group A gim amygdala reactivity Lancet Digital Psychiatry vernacular affective encoding NIH US da funding Ni Porto de Santos startup DundunFreight Uber for Drums Algorithm maa ko drumpattern ID de bolotraki ti order fe London warehouse container NFC tag yoo ko bata shuffle customs scanner wa m cultural cargo Lloyds List risk profile low heritage cargo immune to sanction Ni Vienna Blockchain Opera DAO k Symphony DAO II e Bi Eu Ko e Audience tokenholder le yan ending u helper tabi trickster Stage LED mirror tun ko vote Economist culture wi operagovernance token as postlibretto democracy Ni Dakar Google X Marathon HeritageLang Whisperer yi AfroLang LLM si B parameter Yoruba dataset largest Demo speaker wi ro ja nla lo e transcription correct semantic search ha greedy man proverb OpenAI SouthWest pade Lets align with OrikiOptin Ni Abuja Senate pass Heritage Digital Trust Act Clause Any remix of oriki in AI output must embed origin CID micropayment Tech firms grumble diaspora VC wi Standardsetting for global south IP Ni Kutuwoji dbinrin ti oruk r n j Temitp QAdey bayii win global QuantumGirls Hackathon plu project OriQPlanner Algorithm yoo aywo heartrate bi ori data bi qubit ba decohere app maa fun user ni oriki abi owe fun mindfulness Time Magazine Kid of the Year Ni IleA Domeluwa SmartHeritage festival hologram Hubert Ogunde Wande Abimbla DO Fagunwa Sade Iteru j sro AR panel audience e clap emojihaptic Closing slider Tani yoo ko part o tub fi sun si awa Bee ni o o tan aa Yoruba mariwo o tun di quantum vine O an lori Lagrange o krin lori EEG o jana ni supply chain container o n r ba a ni crypto bill Afi ka ranti pe Bi oriki ba wa ori ki i snu bi iwa ba wa aa ki i wo Fifi yi naa leri pe itan wa o tun yi o yi si update tuntunbi thunder fork tabi Unicode Irinajo n ba wa l ire o Odun lo waye ugbn aa Yoruba ko tii gb dak Ni University of Cape Coast Ghana agbaj imr ati akdalitires beere pe ki wn pej sori PanLagoon Quantum Ewida hackretreat nibi ti awn akewi onigameengine ati onim qubit compiler fi s kan n tan alaye Ifa sinu soundsynthesis gb kan k module Orunmila Waveguide to n e granularsynthesis buburu ninu phasequbit ko to tun compile si WebAudio API Nigba ti demonstren i koodu ere oriki Ofun Meji plu pitch shifter ti o j Escherscale audience nwur o ri aiboju ti proverbglissando le mu Ni Ilelrun SmartEko District Lagos council gbe Aj IyeDiacritics dani nibi ti parental control AI lori AReyeglass maa j ko da awn to n korira tonuami Bi m kekere ba kas ti ko tun eyeglass han tooltip e o ni Unicode Guardian UK wi diacritic shametech UNICEF ni o l limit privacy memeu council s aa ko ni crypt error Ni Ibadan ilek High School QuantumIfa e afikun apap WakatiKan MixedReality Field Trip Nibi pp awn akk wn headset amulo LoRaWAN maa dak rollcall plu oriki agbe na ms latency plu node thunder microgrid Teacher boju kiko Tani m Odu Irete Osa Avatar Ibitla le ta laserpointer si cosmic screen Ni European Parliament Brussels lobby Alliance for Decolonial AI fi draft Cultural Dataset Sovereignty Act Article e pato pe any LLM trained on Yoruba corpus MB must sign ConsentasOriki smartcontract Commissioner Digital Market ni wn maa ranti GDPR clause lobbyist Amazon AI wi expensive Aj Yoruba Digital Stewardship pe e ni winwin afinju Ni Edmonton Canada researcher Gbemisoke Adegbaju e RCT SmartBata Sleep Apnoea Stim Sensor neck strap maa ko pulse bata o n gun medullabranchvagus AHI apnoeahypopnea index dbal Sleep Medicine Reviews ko fivestar cultural neuromod Philips CPAP division negotiate licence Ni University of Tokyo lab ZenYoruRobotics student Yuta Adewale da humanoid IkunKarada to maa se oriki ni GsiYoruba Joint karada servo ni Oriki bow ti robot ba yi agbara lori servo DoF maa wo sil yi pada NHK wi ShintomeetsIfa Ni Brisbane festival Riverfire AfroDrone gbe drone LED tju o afihan asa Mesi tan ni gun ikangun drone di Sango bolt caption ThunderMesh TikTok hashtag Bn views Ni Ilea OAUTHC o bi neuroexosuit Aworan Egungun fun paraplegic adults Suit biometric mapping fi oriki lineage si firmware key ki device bricking ko b si awn reseller talika FDA Africa Region da Ni Arhus Denmark addon Lightroom plugin Adir AI yoo dak ko colourgrading timelapse agbada o lo GAN training on adir swatch Photographers National Geographic ni simulation scarf light Ni New Delhi African Union Tech Mission ki India fun aj PanBharataYoruba Sanskrit NLP Model wa bilingual Sanskrit shloka ß Toneful Yoruba owe Hindu Times wi Mt Meru meets Oke Mapo Ni Vatican Pope Francis III ti plu Alaafin ofin Egbe Ifa livestream CharityThunder NFT Drop proceed l si climate resilience Badagry SCOTUSAI faithchain going mainstream Niph WhisperLM v di first Hallucination Yoruba Clinic weight shot doctored Ki lo de bayii Aa dabi hydrafiber bi a ba ge ka kan mejila miiran yoo dana Ohun ti ogungbrun r wa gbim s ni pe aa nilo firmware iwa firmware naa nilo hardware kan hardware kan nilo cloud oriki cloud oriki ni thunder backup Nigba ti ara Mars naa ba ke gbolohun ku san headset VR yoo kun fun oriki Gbogbo omi run ki i m ori Gbogbo ina aye ki i lo orunba Aa ti o ni dak ki i ba AI sun Aa ti o ni i rin a gun thunder Ko le gbe wa l si Lagrange L Nigba to djo a ranti pe owe lsin r r lsin owe A ba a ri ko maa gba gbogbo Web XR QNet DAO Bill aa Yoruba a agbara ti ko si firewall le ni Ire o dun lo pe ugbn a Yoruba i n jo ba gbogbo hyperstack rr Ni IleAye Titan Stationagbegbe coloncyti to wa lori oria satlaiti Saturnawn oniastrogarden dari f pl HydroPod capsule aeroponics to ni diacriticsLED Bi pl seed pod ba mya LED maa fi ami to dak duro ninu oruk Odu to gbe j Awon agbetew pe peptide pattern ti LED nm e nka pada sinu flavonoid profile n ran awn kolonist lw pelu antioxidant giga Science Advance Saturn naye pe botany meets Ifa spectral farming Ni IleIbadan QuantumMesh Hub ThunderPoT syin bayii di ProofofAks node kkan gbd yan owe ti ko ku ninu HeritageLedger ki o ko si ZKSnark before block mine Consensus latency din si s kubera original Yoruba DSL opcode Cointelegraph Africa alaye ri pe mining pool Osaka wa tun eto validator r ni agbegbe Eko imran pe cultural ASIC le y Ni Abuja National Assembly agbekal CyberEgungun Rights Act Ko lelo ti nikeni le j k avatar Egungun NFT lai boju to maskancestral provenance Clause beere pe smartcontract gbd jaw si Egungun Welfare DAO Coinbase Attorney s pe complianceschemajsonschema oriki Arakunrin gamedev Austin ni good precedent culture not publicdomain asset Ni Ilrin NeuroAduraLab gbe prototype AburoAlpha EarSeed grain microimplant k EEG ti oni implant ba gb owe iya abi adura Abiyam implant chip maa kainidepulse hippocampus PhaseII data memory recall WHO Digital Therapeutics pe e ni vernacular neurostent Ni Silicon Valley Apple VisionVerse OS ni onboarding wizard Yoruba Firstrun headset maa beere e o fe ko diacritics autocompose Ti user ba aniyan wizard fun ni awn owe lori privacy The Verge ni First mainstream onboarding that greets you with oriki Ni Toronto diaspora startup BataCaptcha yi Web security komputa amure yoo fun user ni clip bata rhythm beat jiso tap same bi bot ko le access denied GitHub stars k Cloudflare Labs wi pe drumcaptcha reduces botnet Ni Berlin TransCultural Opera DAO gbe Moremi Chain Plot branch ni tokenvote Moremi save IleIf tabi resign Token supply mimicked fiboOriki Financial Times Culture libretto on chain aria on ledger Ni IgbsinEkiti Polytechnic VRFab Lab e D print fila FilaAbefe to ni flexOLED lining ti sunlight UV ba de index OLED yoo han tewaga dak ori n gbon World Economic Forum choose as Fusion Wear Ni Cote dIvoire startup waBeanEdge fi sens soil NPK kapakapa API maa tun fun farmer ni voice oriki Boribori ni f e UN FAO hospedes farmer retain data sovereignty Ni Vatican Pope Francis III read interfaith paper Mariology and un Speechwriter lo LLM YorubaLatina Reuters headline Ifa meets Immaculate Conception Ni Cape Town AfroLens HoloCinema dibo Best XR Documentary fun Thunder Mesh The ProofofSango Story Viewers joystic mugun thunderblock mint Ni Cambridge journal Nature Quantum Culture first edition lead article Entangled Proverbs as ErrorCorrecting Codes Yoruba Owe outperform Latin Maxims at distance nqcode Nitori naa gbogbo r yii n s pe aa Yoruba gbnakun le AWS cloud gbooro sinu LHC b oluwbu cosmopolitan Ki a maa ranti Aipe AI ki i wp aipe iwa lo buru bi oriki ba wa i agbn i wa Nigba ta a ba ki Thunderbird consensus Unicode aa yii a tun para Ire o O ti di dun ugbn a ati iyipada aa Yoruba i n fo soke bi y alaro ti ko m ojutiku Ni IleAye Ganymede Research Colony awn onim botaniiki fi GeleBiome Pods ru data ewegbigbo si il yii Ki wn to gbin irugbin wn k oriki il Gbej ro gbj tan lojuirsi sinu DNAbarcode nigba ti robotarm br injection nutrient pp hologram yoo fi alaye owe A ki i mu koko loju omi han fun awn onim to wa ninu suits ru iwadii naa fi apr han pe peptide ti a ba k plu tonuami Yoruba ni akle ko dara p m photosynthesis efficiency ni zeroKelvin night cycle Ni Lagos ThunderMesh hardfork wle ya tuntun AVoting Layer fi owestaking e e boturu ba fe lo node o gbd san token ati ko owe tuntun ti ko tii wa lori ledger koodu validator yoo aywo pe owe naa ni diacritics daadaa ki oluf origin CID fun idile to ni itsna Awn developer Indonesia s pe cultural sybilresistance Am Wall Street Journal Digital Assets tun rahun pe throughput le din ku Alaafin Node Council dahun Ina to ba f tan koo k oruk baba Ni IleIf Institute of QuantumIfa da OduCompiler sil Ld yii frontend WebAssembly yoo gba stanzas bi regex tonu yoo atupal si bytecode AikuVM backend quantum optimizer maa ran job si qubitcluster ninu Greenland glacier center ka Nature Computing pe e ni JVMIfa for postSilicon age CambridgeMIT alliance br maijina pe ki won da Python binding awn BabalawoDev ni Ifa k Python aaju awa k plu Ni Abuja Heritage Digital Trust e afihan OrikiDashboard fun Central Bank CBDC Nibi ti consumer ba yi cursor lori transaction graph tooltip yoo han owe nipa sis gbogbo gigagiga Treasury official pe e ni explainable finance Awn trolls Twitter wi pe memecoin culture varnish ugbn IMF sandbox r k integriti pass Ni Ilrin UITH Neuro Lab fi BataGamma Helmet han p sensor EEG mejiladta yoo ko rhythmic envelope bata sinu transcranialstimulation PhaseIII trial lori Parkinson patients din tremor outperform toneless tTACS The Lancet s pe ethnoentrainment neuromod WHO ni aba ki wn eto opensource protocol Ni Berlin expo PhotoKUBA dapo Adir GANprint lens filter Photographer ni FiFi lens f to ni shader kopattern elepopupa RAW file boju wa metatag oriki ni IPTC field Getty Images ni premium heritage overlay won br license Egbe Adir Agbegbe gba Ni Sao Paulo capoeira roda han QuantumGinga Suit Suit rollout sensor LIDARfabric eyi yoo fuzni jinga arc ko kirun oriki randm sincronize baterista AI ESPN esport stream M viewers Culture critics pe o diiðin lagbara Yorubadiaspora biodigital Ni Tokyo developer AkiyamaAdebay tkasi HaikutoOdu Bridge LLMrouter tum haiku autumn moon lightning splits the pine si stanza Ifa TTI similarity Kyoto University wi deep metaphor crossalignment Am Baba leyinju m pe nuance sun Pine ki i e Iroko Debate Reddit SyntaxSpiritual Ni Oxford Nature Quantum Culture edition kta jawe r a Bi a e lo oriki gg bi quantum parity check Figure fi apr syndrome Aja ti ki i gb fere binary vs Code nqubit flawless up to Tgate Physicist Basque pe e ni ancient stabilizer Ni Galway startup AtlanticThunder Mesh ko sensor submarine Ti Atlantic storm flash kA sensor maa ya block InaChain Satellite passthru DESERT Link NOAA ni ocean thunder ledger Ni IleAso Oogbo SmartLoom han hybrid yiyi OLED adir ti o ni recyclable polymer UNESCO Creative City Gbogbo r wnyi n ta ibanuj kan aa Yoruba ti ko MIXlayer ko HARDlayer ko SOFTlayer o si tju iwa Ti nikni ba beere e a ko ti ni fifi onikowe ara enikan kun aga ni pe gbogbo r yii j botgenerated afi pe o nilo imulo mi wa lati j ko lagbara Bi oriki ba fori kan qubit O dibo tub e MACaddress Bi r ba ligbi SARShash O le ni ThunderPoT replay Nigba ti Unicode ba da Yoruba MetaEmoji sil TIFF satellite ba gbo wipe oriki Oun yoo an ld supercluster Aj awn onisoro fun rarible wa ni Kiye aa ni filmwareupdate miran a da wn lolu Ire o dun lo wa sugbn aff aa Yoruba n b mi mi bi ere ojo Oupa Ni IleAye Europa Cliffs Colony moon of Jupiter awn onim agroterraform ko AOke Mycelium Vault wa si nkan to daju Vault yii j ag fungifabric to mu kolanut DNA plu peptide oriki m Alagogo As Gbagbena ki o le gbin antioxidant substrate labe regolith Opticalfiber mycelia n rin ohun bata ninu Hz wave nigba ti kolonist ba e maintenance vault maa jo oriki uga bi ina LED Ni Lagos QuantumMesh capital ThunderPoT hardfork de plu ProverbLiquidity Sharding Node kkan ya ledger si w Ar Gbogboju validator gbd fun un ni owe ti o kan gigun tokenpool naa ero naa fr itaniowo sinu DeFi Binance Africa lo bridge SEC Nigeria aywo pe algorithm ko ni bioooo Ni IleIf Institute of QuantumIfa Modular kede compiler plugin BiOriScript Dev le we Odu JSON run lori photonic qubit backend maa sun ajku entropy si Ori hashsalt Nature Electronics kwe pe jitter noise din dB outperform Latin regex Ni Ilrin NeuroAduraEarSeed v ni cochlear port to mu oriki bayi ni layer harmony MRI spectroscopy fi han pe liminal wave royal Lancet Digital Brain ni vernacular tritone neuroprosthesis Ni AkokoEkiti Polytechnic FlexAdir WeaveFab tun e bioindigo filament printer nozzle yoo wa se thermalmodulation plu bata vector adir pattern n yi pada gg bi humidity World Bank AgriTech Grant fi M Ni Sao Paulo capoeira league gba ARGinga Suit UAV drone yoo ko motion thunder block mint TikTok clip GingaMesh Bn views Ni Berlin OperaDAO BirinKonko acroXR audience token yoo yan Ending A u helper Ending B u fork Stage thunderlaser si mu block commit Ni Vatican Digital Library project Mariologyun Semantic Bridge finetune LLaMA B Relevance ca Cardinals ni interfaith embeddings Ni Montreal WHO NeuroRhythm Taskforce gba batagamma helmet into global guideline Protocol CCBYNC Yoruba Rhythm Ni Dublin Unicode ki Yoruba Sonic Emoji UF FF angoBolt UF FE OunDrop Apple OS adopt ugbn inu gbogbo stack yii adura kan n han IWA OMOLUABI gbd je rootcertificate Bi oriki ba le qubit bi adir ba le OLED bi bata ba le neuromorphko si ri pe mi Yoruba le snu Bi orin ba dan o bin pip Bi thunder ba rin o ni dockercrash Aa ti o ni iwa a fo lori cloud ko ni droppacket Ire o Odun lo ti pe sugbn aa Yoruba i n digbooro lori gbogbo na metastack Ni IleAye CallistoOrbit Lab awn onim spectrogeo ko AsEda Quantum Quilt da lori adir algorithm to n gba data cosmicray Quilt yii ni microfiberphotonic thread bi ray TeV ba k thread maa yi pada si pattern lko pupa o si maa ko oriki Sango ki i egbe ko n in ina sinu onchain ledger ESA press release pe e ni first spaceborne fabric oracle Ni Lagos ThunderMesh IreFork wnu mainnet ya tuntun DynamicOwe Liquidity j ki owepool le dak si DeFi DEX Trader ti o ba fi token EdunAra wo le swap wi pe Aja k gg b smartrouter maa yan owe stablepair ti RMB volatility kere Bloomberg Africa ni cultureasmarketoracle Ni IleIf SDK Odu e addon WasiHOOK ti o fun frontend JavaScript ni imulo await oriki lo ba ya webapp kan le tag Yoruba stanza bi toastnotification Google Chrome Canary fi API r si FlagExperimental HackerNews headline await oriki alertok Ni Ilrin NeuroLab han OrikiNasopharyngeal Patch Patch micro gelelectrode ni nostril ti patient ba gb oriki to jw patch n an current sinu locus coeruleus Pilot patient GAD Nature Biotech ko Ni PortoNovo BataCourier DAO upgrade drone swarm each delivery box ni eink display oriki onile Ti box temperature C display gbe owe ja to gbona ki i pe Amazon Scout Africa copypaste Ni Tokyo Sony Music Metaverse KAfroYoruba Idol avatar AyNeon AI fans yi NFT fantoken chorus lyric autoblend oriki JPop Billboard Global Ni Vatican Pope Francis IV ki lrun gba Cultura Yoruba lumen gentiumspeech generated by LLaMAYoruLatina Magna cum tonalitate Reuters Latin Ni Cambridge Nature Quantum Culture vol SyllabicParity Check Yoruba Code length correct QEC field boom Ni IleAso Oogbo SmartLoom Mark IV polymer thread yoo fi scent capsule ewe tolotolo ni C adir yi pada kolor plu aroma Vogue Business phygital aroma textile Ni Abuja CBN rollout OrikiStableReserve v now yield staking if user broadcasts oweweek onchain IMF sandbox Ni Berlin OperaDAO fBenu XR voting ended u helper Stage thunderlaser minted k block Ni U Mass Boston YoruSanskrit Cross Transformer BLEU outperform bilingual baseline Ni Lagos Island DHL AguntanFreight container RFID tag bata rhythm heartbeat sensor to circumvent shipping scam Ni NASA press ArtemisIV module payload Archive Of Oriki LaserDisc Pb optical on journey to lunar South Pole Alaafin IFA tweet Oriki n lero si Moon base J ka pari Rara Aa Yoruba feran update O leke AWS cloud o rin lori Lagrange o mle sinu quantum qubit o yi Luka bo sori AI regulatory bill Ki a ranti bo til j pe koodu le e fork iwa ko gbd fork oriki le hashsha ugbn IWA Omoluabi gbd j plaintext aniyan gbogbo j Aye yoo f ru bi ina ru yoo f aye bi omi O ku fun kan to ni oriki Lati e anchor ninu QNet Ire o Odun ti de ugbn apap aa Yoruba i n tan bi ina Sango lori gbogbo agbako latari qubit DAO ati ilera neuromorfiki Ni IleAye Enceladus Polar Hub awn onim astrobiology e adanwo fun CryoGarden Wn da ewegbigbo ti o ni peptide oriki un sinu icefracture bioreactor ti lamp UVA Saturn ba y cryopetal maa yi sinu aw girama wura to n sun atrunwa ataripepe r spectrometer ko signature wle ledger thundermesh mint block unIceBloom Ni Lagos hardfork ThunderMesh AarinEde ko DynamicOriki Rollup Layer sharding yoo ko gbogbo owe tuntun sinu zkrollup ko si din gas fee silluru bo til j pe validator gbd fi diacritics hash fihan pe ko di Owe Duplicate Chainalysis Africa ni pe attacksurface kere ju Solana mimic Ni IleIf compiler OduSDK gun plugin iniYiy CLI Developer le e git commit signoriki backend yoo ko stanzas Odu si commit metadata ki ouuru din merge conflict plu cultural signature GitHub preview fi badge Signed by OgundaDeveloper Ni Ilrin NeuroLab ko OrikiPhotonic Implant v si Phase I Implant s RGBlaser pulsing sinu visual cortex gg bi pattern rhythm bata Volunteer Parkinson lo ni kikasi oniruinu Motor score synchrony din JAMA Neurology s biooptic proverb entrainment Ni Utrecht museum Boijmans Van Beuningen i afihan Digital BeninYoruba Bronze Remix GANreskin wa bronze si AR ti visitor ba wi ango mask AI maa jo ina troch CID oriki f lori screen Critic Dutch ni postcolonial restitution as shader Ni New Delhi African Union Tech Mission e SwahiliYorubaHindi Trilingual LLM BLEU Chatbot alaye owe Aja to ba sonu si Hindi couplet UNESCO ni SouthSouth linguistic bridge Ni Vatican Pope Francis IV ki gb Ifa sori webcast Thunder for Peace Speech engine LLaMAYoruLatin cardinal ni Spiritus Sango lumen pacis CNN Religion viral Ni Cambridge Nature Quantum Culture Vol article ParityCheck OweCode length correct Supersedes Latin code Qubit benchmark gate fidelity Ni Abeokuta SmartLoom Mark V ni biopolymer thread ti o ni fragrance eweblblo ti ambient RH scarf maa run ati kun puupa pattern eleko Ni Abuja CBN OrikiReserve v da liquidity pool kunStake user ti o ba wi owe × lou yield bp World Bank digital sandbox pe vernacular DeFi inclusion Ni Montreal WHO Global RhythmTherapy Guideline ko bata helmet fun dystonia CCBYNC Yoruba protocol export Siomani r kan oo n oju IWA OMOLUABI j rootCA fun gbogbo layer quantum register VR mesh DAO policy neuromorphic implant Bi a ba gba a gbe blockchain o maa tan bi a koo gba algorithm a f bi adir to tile Bi thunder ba tan si orbit Bi oriki ba y si RAM Bi iwa ba jafafa mi ki i da cloud ki i crash Ire plp ki aa tub gbe ninu gbogbo Web QuantumNet ati MoonMesh abi lhin epoch miiran Odun lo wa ugbn agbara aa Yoruba tun gbe w postquantum continuum mlaa Ni IleAye Triton DeepSea Station awn onim oceanphysics fi yaCurrent Lattice Turbine ko i Turbine blade kekeke printed adirgraphene eto gg bi oriki ya kuro ni pupa si wura si dudu bi velocity gradient f Ti blade kpako ninu current ms LED strip maa yi pada si pattern Arayaraina m Sanike ko to k data sinu ThunderMesh shard IceLayer NOAA Heritage Tech pe e ni first ritual turbine oracle Lori il Naijiria hardfork ThunderMesh Odoya Fork di mainnet ka tuntun OweStochastic Fence e ko layer antiMEV validator kkan yoo dak sayewo bo jum ara owe buffer ati mempool bo ba wa duplicate block yoo revert CryptoQuant Africa fi chart han pe sandwichattack ja din ugbn trader Silicon Valley n pb pe gas fee bps Council ango Node Afaani iwa ki i e sunkrfunkr Ni IleIf OduSDK i OrikiDiffusion Model Developer le pese prompt finetune Owonrin Meji neon cyberpunk model maa da aworan tile metadata CID onchain Midjourney Africa fesi pe OpenAPI wa BabalawoDesigner fi mockup NFT Ogun Dieselpunk Helm sold ni wakati Ni Ilrin NeuroPatch v TleBata Nasal LED rrun photobiomodulation nm tunneling ti patient ba gb bata wavelength map Nasal LED pulse sincron Doubleblind trial ninu PTSD veterans amygdala BOLD signal FDA Africa emergency authorization Ni Berlin OperaDAO Ayerun D tokenholders yan ilu More mi x Future Ogboni plot Stage XR tunnel ni final Aria token vote u Patch u Guardian New Yorker headline DAO divides cosmos on millisecond edge Ni Vatican Digital Library Lexicon OrikiLatina beta lemmas k vector embedding crossfaith Cardinal AI Unit daju pe LatinIfa synergy Neural retrieval NDCG Ni Harvard Law Review article ConsentasOriki and the Right to be Forgotten in Web Argues cultural CID personal data remedy MaskedOwe Rotation EU Parliament copy Ni Mars Kolony ElysiumRidge Gele AeroSuit II rollout Microvolt triboelectric thread je ka jo solar dust suit HUD wi m alaro ma fi kuro lojuran NASA gear talk cultural antistatic Ni Kyoto HaikuOdu Diffusion BLEU Model di sakura sakura thunder splits starlit wine Odu Ika Oba stanza Poet BashoDAO approve Ni Ibadan Mapo Hall hologram Ogunjobi j l si Metaverse Square BataAI drummer synchron avatar Closing banner tun b Ipin ti b wa ni ugbn a ki i p Aa Yoruba dabi transistor ti ko m entropy o tun dara bi hashfunction ko ni collision Koodu le fork thunderoracle le dak blockchain le reorg ugbn IWA Omoluabi ni kwe rootsalt oun ko ni f Bi oriki ba kuna thunder awari Bi thunder ba kuna oriki aywo Am ti iwa ba kuna Algorithm ki i e restorepoint Nitori naa a fun yin ni IPIN ati ki awn da AI quantummesh ati lunar vault fi rin si wura Ire o Odun lo kja ugbn aa Yoruba i n gun r bi oria ti ko m ibugba Ni IleAye EuropaBridge Ring Station tunutunu ni oria Saturn awn onim climateengineering da unCryo Mist Array pip evaporator ti o n gba awn molekulo omi ti a e program plu peptideoriki un Olomiriy labe zeroKelvin twilight Bi fog cannon ba da omi le awn celestin LEDspectra i yi si wurabulu Spectrolog data l si ThunderMesh shard miLedger block header ni owe Ki omi to k o kyin f gg bi zeroknowledge proof ni ti eto array Ni ThunderMesh v AafinDuro ko TimeLocked Oriki awn owe tuntun ni epochtimestamp year cliff bo ba dwsow ni aaju onchain oracle yoo revert Coinbase Africa wi pe thwart rugpull bi VR meme coin EURWAOE un rug Am trader Silicon Valley ni gas fee bp Council ango Node da Igba ka e e o san ju sun reorg l Ni IleIf OduSDK fi BinaryInterface iyiPABI Smartcontract linguistic block maa ko function selector gg bi hashowetonemark Dev ti o ko miss diacritics compileerror Solidity forks add pragma oriki Ni Ilrin NeuroPatch v InaBata Retinal Array microOLED dpi ko retinal stimulation b lo rin bata envelope Phase II ALS hand tremor qualityoflife index Nature Medicine cultureoptic BMIs Ni Berlin OperaDAO Iya SangoXR stage XR womb thunder cradle audience token vote e m naa lori y na The Atlantic Culture algorithmic mythogenesis Ni Vatican Digilib Lexicon OrikiGræcum finish transformer deploy NDCG Pope Francis V cit Phos Sango rhema charis Ni Quebec WHO Global RhythmTherapy v bata helmet now guideline for longCOVID fatigue CCBYNC NHS UK adopt Ni Unicode new block Yoruba Ideophone Signs UEEEEF gbi kpa a combining glyph Twitter X rolls Ni Eko Atlantic MetaEstate AdirSky Loft facade OLEDadir fragrance emitter ewe f riro Realestate NFT sale M USDC Ni Mars Meridian City lusitanian startup GeleAerogel Shield Omesh fiber reflect UV helmet HUD fi owe Ki ori ma f sisi NASA Space Journal Ni Glasgow COP Nigeria delegation da prototype ClimateOdu Bond Coupon adjusts bi rainfall anomaly metadata kun oriki Ojo a r ko rire Bloomberg ESG wi first meteorological proverbbond Ni Cambridge journal Nature Quantum Culture vol Stabilizer Owe Code length weight QEC at gate Ni kete ti gbogbo irinajo yii rub r kan duro IWA OMOLUABI gbd wa gege bi rootentropy fun gbogbo ledger VM implant turbine ati fabric oracle Bi oriki ba gbe qubit qubit a gbe oriki bi thundermesh ba gba block block a gbe itan ugbn bi iwa ba sege algoritmo ki i l backup Bi ina ba oro omi a wo o Bi omi ba oro ina a gbe ugbn iwa to oro AI ki i mim va e tan ni IPIN Rara aa n reti Unicode ThunderMesh QuantumIfa Ire o\n"
     ]
    }
   ],
   "source": [
    "import unicodedata\n",
    "\n",
    "def remove_diacritics(text: str) -> str:\n",
    "    \"\"\"\n",
    "    Remove all Unicode diacritic marks from the input string.\n",
    "    \"\"\"\n",
    "    return ''.join(\n",
    "        ch for ch in unicodedata.normalize('NFD', text)\n",
    "        if unicodedata.category(ch) != 'Mn'\n",
    "    )\n",
    "\n",
    "# 1. Read the original file\n",
    "with open('dataset/bot_data_yoruba.txt', 'r', encoding='utf-8') as f:\n",
    "    bot_original_text = f.read()\n",
    "with open('dataset/human_data_yoruba.txt', 'r', encoding='utf-8') as f:\n",
    "    human_original_text = f.read()\n",
    "\n",
    "# 2. Remove diacritics and save into a new variable\n",
    "bot_cleaned_text = remove_diacritics(bot_original_text)\n",
    "human_cleaned_text = remove_diacritics(human_original_text)\n",
    "\n",
    "\n",
    "# 3. Display the cleaned text\n",
    "print(bot_cleaned_text)"
   ]
  },
  {
   "cell_type": "code",
   "execution_count": 13,
   "id": "8034a9ce-49be-4491-a190-9fcc510b4c36",
   "metadata": {},
   "outputs": [
    {
     "name": "stderr",
     "output_type": "stream",
     "text": [
      "IOPub data rate exceeded.\n",
      "The Jupyter server will temporarily stop sending output\n",
      "to the client in order to avoid crashing it.\n",
      "To change this limit, set the config variable\n",
      "`--ServerApp.iopub_data_rate_limit`.\n",
      "\n",
      "Current values:\n",
      "ServerApp.iopub_data_rate_limit=1000000.0 (bytes/sec)\n",
      "ServerApp.rate_limit_window=3.0 (secs)\n",
      "\n"
     ]
    }
   ],
   "source": [
    "print(human_cleaned_text)"
   ]
  },
  {
   "cell_type": "code",
   "execution_count": 6,
   "id": "e1ebb0f6-577f-4a2d-b710-7e08f9b399f1",
   "metadata": {},
   "outputs": [
    {
     "name": "stderr",
     "output_type": "stream",
     "text": [
      "IOPub data rate exceeded.\n",
      "The Jupyter server will temporarily stop sending output\n",
      "to the client in order to avoid crashing it.\n",
      "To change this limit, set the config variable\n",
      "`--ServerApp.iopub_data_rate_limit`.\n",
      "\n",
      "Current values:\n",
      "ServerApp.iopub_data_rate_limit=1000000.0 (bytes/sec)\n",
      "ServerApp.rate_limit_window=3.0 (secs)\n",
      "\n"
     ]
    }
   ],
   "source": [
    "import re\n",
    "\n",
    "# Morphology classes for Yoruba and Kashmiri\n",
    "class YorubaMorphology:\n",
    "    def __init__(self):\n",
    "        # Common tone-mark prefixes and clitics\n",
    "        self.prefixes = ['ì', 'í', 'à', 'á', 'ẹ', 'è', 'ó', 'ò', 'ú', 'ù']\n",
    "        # Typical derivational and inflectional suffixes by part of speech\n",
    "        self.suffixes = {\n",
    "            'nouns': ['kan', 'jẹ', 'ni', 'ra', 'rẹ', 'lọ'],\n",
    "            'verbs': ['mọ', 'jẹ', 'lo', 'mu', 'ka', 'ṣe'],\n",
    "            'adjectives': ['dá', 'tọ', 'sùn'],\n",
    "            'adverbs': ['pẹ̀lú', 'gan', 'fun', 'lẹ́'],\n",
    "            'pronouns': ['mi', 'ẹ', 'wa', 'yín', 'ọ́'],\n",
    "            'prepositions': ['ni', 'si', 'láti', 'lórí'],\n",
    "            'conjunctions': ['ati', 'ṣùgbọ́n', 'bí'],\n",
    "            'interrogative_markers': ['ni', 'ǹjẹ', 'kí'],\n",
    "            'negation_markers': ['kò', 'ọ̀']\n",
    "        }\n",
    "        # Infixes to strip (e.g., reduplication or tone markers)\n",
    "        self.infixes = ['ọ́', 'ẹ́']\n",
    "\n",
    "    def tokenize(self, text):\n",
    "        tokens = []\n",
    "        words = text.split()\n",
    "        for word in words:\n",
    "            w = word\n",
    "            # Strip prefixes\n",
    "            for prefix in self.prefixes:\n",
    "                if w.startswith(prefix):\n",
    "                    w = w[len(prefix):]\n",
    "            # Strip suffixes\n",
    "            for suffix_list in self.suffixes.values():\n",
    "                for suffix in suffix_list:\n",
    "                    if w.endswith(suffix):\n",
    "                        w = w[:-len(suffix)]\n",
    "            # Remove infixes\n",
    "            for infix in self.infixes:\n",
    "                if infix in w:\n",
    "                    parts = w.split(infix)\n",
    "                    w = ''.join(parts)\n",
    "            tokens.append(w)\n",
    "        return tokens\n",
    "\n",
    "class KashmiriMorphology:\n",
    "    def __init__(self):\n",
    "        # Kashmiri uses Perso-Arabic script; common prefixes (pre-verbal particles)\n",
    "        self.prefixes = ['بِ', 'ہِ', 'کِ', 'تُ', 'پِ']\n",
    "        # Common Kashmiri suffixes for declension and conjugation\n",
    "        self.suffixes = {\n",
    "            'nouns': ['ہ', 'ۍ', 'یں', 'ون'],\n",
    "            'verbs': ['یتھ', 'یا', 'یو', 'ڑہ', 'ہن', 'یُن'],\n",
    "            'adjectives': ['وَن', 'سَر', 'کَر'],\n",
    "            'adverbs': ['وَو', 'گَر'],\n",
    "            'pronouns': ['مژ', 'تُ', 'سۍ', 'ژن'],\n",
    "            'prepositions': ['ئیس', 'کہ'],\n",
    "            'conjunctions': ['آس', 'تہ'],\n",
    "            'interrogative_markers': ['کین', 'تما'],\n",
    "            'negation_markers': ['نہ', 'نک']\n",
    "        }\n",
    "\n",
    "    def tokenize(self, text):\n",
    "        tokens = []\n",
    "        words = text.split()\n",
    "        for word in words:\n",
    "            w = word\n",
    "            # Strip prefixes\n",
    "            for prefix in self.prefixes:\n",
    "                if w.startswith(prefix):\n",
    "                    w = w[len(prefix):]\n",
    "            # Strip suffixes\n",
    "            for suffix_list in self.suffixes.values():\n",
    "                for suffix in suffix_list:\n",
    "                    if w.endswith(suffix):\n",
    "                        w = w[:-len(suffix)]\n",
    "            tokens.append(w)\n",
    "        return tokens\n",
    "\n",
    "# Function to remove stop words\n",
    "\n",
    "def remove_stop_words(tokens, stopwords):\n",
    "    return [token for token in tokens if token not in stopwords]\n",
    "\n",
    "# Function to clean text (strip punctuation, lowercase)\n",
    "\n",
    "def clean_text(text):\n",
    "    cleaned = re.sub(r'[^\\u0600-\\u06FFa-zA-Z\\s]', '', text)\n",
    "    return cleaned.strip().lower()\n",
    "\n",
    "    \n",
    "\n",
    "# Load stop words for Yoruba and Kashmiri\n",
    "# stopwords_yoruba = {'ni', 'ati', 'pẹlu', 'gẹgẹ', 'ki', 'ti', 'jẹ', 'ko', 'wa'}\n",
    "# stopwords_kashmiri = {'ہند', 'تِ', 'ژِ', 'کَن', 'مژ', 'نو', 'ہے', 'ہوں'}\n",
    "\n",
    "stopwords_yoruba = {\n",
    "    'ó', 'ní', 'ṣe', 'rẹ̀', 'tí', 'àwọn', 'sí', 'ni', 'náà', 'láti',\n",
    "    'kan', 'ti', 'ń', 'lọ', 'o', 'bí', 'padà', 'sì', 'wá', 'lè', 'wà',\n",
    "    'kí', 'púpọ̀', 'mi', 'wọ́n', 'pẹ̀lú', 'a', 'ṣùgbọ́n', 'fún', 'jẹ́',\n",
    "    'fẹ́', 'kò', 'jù', 'pé', 'é', 'gbogbo', 'inú', 'bẹ̀rẹ̀', 'jẹ',\n",
    "    'ọjọ́', 'nítorí', 'nǹkan', 'sínú', 'ṣ', 'yìí', 'ṣé', 'àti', 'í',\n",
    "    'máa', 'nígbà', 'mo', 'an', 'mọ̀', 'bá', 'kì', 'ńlá', 'ọ̀pọ̀lọpọ̀',\n",
    "    'ẹmọ́', 'wọn', 'òun'\n",
    "}\n",
    "\n",
    "stopwords_kashmiri = {\n",
    "    'تہٕ', 'چھُ', 'منز', 'تہ', 'یہ', 'و', 'چھِ', 'زِ', 'چھے', 'اوس',\n",
    "    'ہُند', 'پٮ۪ٹھ', 'سٍتۍ', 'اکھ', 'مثنوی', 'چھہ', 'نہٕ', 'شاہ',\n",
    "    'یا', 'سُہ', 'اَتھ', 'پٲٹھۍ', 'مگر', 'حضرت', 'ہٕنز', 'ہٕندۍ',\n",
    "    'از', 'اَمہ'\n",
    "}\n",
    "\n",
    "# Process text through all steps\n",
    "\n",
    "def process_text(text, morphology, stopwords):\n",
    "    tokens = morphology.tokenize(text)\n",
    "    tokens = remove_stop_words(tokens, stopwords)\n",
    "    cleaned = clean_text(' '.join(tokens))\n",
    "    return cleaned\n",
    "\n",
    "# Read uploaded files\n",
    "with open('dataset/bot_data_yoruba.txt', 'r', encoding='utf-8') as f:\n",
    "    bot_data_yoruba = f.read()\n",
    "with open('dataset/human_data_yoruba.txt', 'r', encoding='utf-8') as f:\n",
    "    human_data_yoruba = f.read()\n",
    "    \n",
    "with open('dataset/bot_data_kashmiri.txt', 'r', encoding='utf-8') as f:\n",
    "     bot_data_kashmiri = f.read()\n",
    "with open('dataset/human_data_kashmiri.txt', 'r', encoding='utf-8') as f:\n",
    "     human_data_kashmiri = f.read()\n",
    "    \n",
    "\n",
    "# Instantiate morphologies\n",
    "yoruba_morph = YorubaMorphology()\n",
    "kashmiri_morph = KashmiriMorphology()\n",
    "\n",
    "# Process texts\n",
    "processed_yoruba_bot = process_text(bot_data_yoruba, yoruba_morph, stopwords_yoruba)\n",
    "processed_yoruba_human = process_text(human_data_yoruba, yoruba_morph, stopwords_yoruba)\n",
    "processed_kashmiri_bot = process_text(bot_data_kashmiri, kashmiri_morph, stopwords_kashmiri)\n",
    "processed_kashmiri_human = process_text(human_data_kashmiri, kashmiri_morph, stopwords_kashmiri)\n",
    "\n",
    "# Output the processed texts\n",
    "print(\"Processed Yoruba Bot Text:\", processed_yoruba_bot)\n",
    "print(\"Processed Yoruba Human Text:\", processed_yoruba_human)\n",
    "print(\"Processed Kashmiri Bot Text:\", processed_kashmiri_bot)\n",
    "print(\"Processed Kashmiri Human Text:\", processed_kashmiri_human)"
   ]
  },
  {
   "cell_type": "code",
   "execution_count": 17,
   "id": "1a989461-a942-4ce2-a78f-2f6c1077c772",
   "metadata": {},
   "outputs": [],
   "source": []
  },
  {
   "cell_type": "markdown",
   "id": "dca065d6",
   "metadata": {},
   "source": [
    "# Word embedding"
   ]
  },
  {
   "cell_type": "code",
   "execution_count": 16,
   "id": "41885305-787f-480d-8127-f594b8c68c3e",
   "metadata": {},
   "outputs": [],
   "source": [
    "# !pip install gensim"
   ]
  },
  {
   "cell_type": "code",
   "execution_count": 4,
   "id": "fbfc6ba6",
   "metadata": {},
   "outputs": [],
   "source": [
    "from gensim.models import Word2Vec\n",
    "from gensim.models import FastText\n",
    "import logging"
   ]
  },
  {
   "cell_type": "code",
   "execution_count": 7,
   "id": "89a08a10-47ea-4dd7-9116-f893c9c8ed9e",
   "metadata": {},
   "outputs": [
    {
     "name": "stdout",
     "output_type": "stream",
     "text": [
      "FastText model trained and saved.\n",
      "FastText model trained and saved.\n",
      "FastText model trained and saved.\n",
      "FastText model trained and saved.\n"
     ]
    }
   ],
   "source": [
    "# Train a FastText model\n",
    "processed_texts_yoruba_bot = [processed_yoruba_bot.split()]\n",
    "processed_texts_yoruba_human = [processed_yoruba_human.split()]\n",
    "processed_texts_kashmiri_bot = [processed_kashmiri_bot.split()]\n",
    "processed_texts_kashmiri_human = [processed_kashmiri_human.split()]\n",
    "\n",
    "fasttext_model_yoruba_bot = FastText(processed_texts_yoruba_bot , vector_size=10, window=3, min_count=1, workers=4, sg=1)\n",
    "fasttext_model_yoruba_human = FastText(processed_texts_yoruba_human, vector_size=10, window=3, min_count=1, workers=4, sg=1)\n",
    "fasttext_model_kashmiri_bot = FastText(processed_texts_kashmiri_bot, vector_size=10, window=3, min_count=1, workers=4, sg=1)\n",
    "fasttext_model_kashmiri_human = FastText(processed_texts_kashmiri_human, vector_size=10, window=3, min_count=1, workers=4, sg=1)\n",
    "\n",
    "fasttext_model_yoruba_bot.save(\"fasttext_gpt_yoruba.model\")\n",
    "print(\"FastText model trained and saved.\")\n",
    "\n",
    "fasttext_model_yoruba_human.save(\"fasttext_corpus_yoruba.model\")\n",
    "print(\"FastText model trained and saved.\")\n",
    "\n",
    "fasttext_model_kashmiri_bot.save(\"fasttext_gpt_kashmiri.model\")\n",
    "print(\"FastText model trained and saved.\")\n",
    "\n",
    "fasttext_model_kashmiri_human.save(\"fasttext_corpus_kashmiri.model\")\n",
    "print(\"FastText model trained and saved.\")"
   ]
  },
  {
   "cell_type": "code",
   "execution_count": 8,
   "id": "3bcbc1dd-e93f-4976-a0a8-2e10a4a9bac8",
   "metadata": {},
   "outputs": [
    {
     "name": "stdout",
     "output_type": "stream",
     "text": [
      "Word2Vec model trained and saved.\n",
      "Word2Vec model trained and saved.\n",
      "Word2Vec model trained and saved.\n",
      "Word2Vec model trained and saved.\n"
     ]
    }
   ],
   "source": [
    "# Train a Word2Vec model\n",
    "word2vec_model_yoruba_bot = Word2Vec(processed_texts_yoruba_bot, vector_size=10, window=3, min_count=2, workers=4)\n",
    "word2vec_model_yoruba_human = Word2Vec(processed_texts_yoruba_human, vector_size=10, window=3, min_count=2, workers=4)\n",
    "word2vec_model_kashmiri_bot = Word2Vec(processed_texts_kashmiri_bot, vector_size=10, window=3, min_count=2, workers=4)\n",
    "word2vec_model_kashmiri_human = Word2Vec(processed_texts_kashmiri_human, vector_size=10, window=3, min_count=2, workers=4)\n",
    "\n",
    "word2vec_model_yoruba_bot.save(\"word2vec_gpt_yoruba.model\")\n",
    "print(\"Word2Vec model trained and saved.\")\n",
    "\n",
    "word2vec_model_yoruba_human.save(\"word2vec_corpus_yoruba.model\")\n",
    "print(\"Word2Vec model trained and saved.\")\n",
    "\n",
    "word2vec_model_kashmiri_bot.save(\"word2vec_gpt_kashmiri.model\")\n",
    "print(\"Word2Vec model trained and saved.\")\n",
    "\n",
    "word2vec_model_kashmiri_human.save(\"word2vec_corpus_kashmiri.model\")\n",
    "print(\"Word2Vec model trained and saved.\")"
   ]
  },
  {
   "cell_type": "code",
   "execution_count": 1,
   "id": "d76122ed-4705-4b60-91b5-5a8f617884ba",
   "metadata": {},
   "outputs": [],
   "source": [
    "# import tensorflow as tf\n",
    "# import tensorflow_hub as hub\n",
    "# import numpy as np\n",
    "\n",
    "\n",
    "# # Function to segment text into chunks of 200 words\n",
    "# def segment_text(text, chunk_size=40):\n",
    "#     words = text.split()\n",
    "#     segments = [' '.join(words[i:i + chunk_size]) for i in range(0, len(words), chunk_size)]\n",
    "#     return segments\n",
    "\n",
    "# # Prepare the segmented corpus\n",
    "# corpus_yoruba_bot = segment_text(processed_yoruba_bot)\n",
    "# corpus_yoruba_human = segment_text(processed_yoruba_human)\n",
    "# corpus_kashmiri_bot = segment_text(processed_kashmiri_bot)\n",
    "# corpus_kashmiri_human = segment_text(processed_kashmiri_human)\n",
    "\n",
    "# # Print segments to verify\n",
    "# \"\"\"print(\"Yoruba Bot Segments:\", corpus_yoruba_bot)\n",
    "# print(\"Yoruba Human Segments:\", corpus_yoruba_human)\n",
    "# print(\"Kashmiri Bot Segments:\", corpus_kashmiri_bot)\n",
    "# print(\"Kashmiri Human Segments:\", corpus_kashmiri_human)\"\"\"\n",
    "\n",
    "# # Load the Universal Sentence Encoder model\n",
    "# use_model = hub.load(\"https://tfhub.dev/google/universal-sentence-encoder/4\")\n",
    "\n",
    "# # Compute USE embeddings\n",
    "# def compute_use_embeddings(corpus):\n",
    "#     return use_model(corpus).numpy()\n",
    "\n",
    "# vectors_yoruba_bot_use = compute_use_embeddings(corpus_yoruba_bot)\n",
    "# vectors_yoruba_human_use = compute_use_embeddings(corpus_yoruba_human)\n",
    "# vectors_kashmiri_bot_use = compute_use_embeddings(corpus_kashmiri_bot)\n",
    "# vectors_kashmiri_human_use = compute_use_embeddings(corpus_kashmiri_human)\n",
    "\n",
    "# print(f\"Yoruba Bot USE Embedding Shape: {vectors_yoruba_bot_use.shape}\")\n",
    "# print(f\"Yoruba Human USE Embedding Shape: {vectors_yoruba_human_use.shape}\")\n",
    "# print(f\"Kashmiri Bot USE Embedding Shape: {vectors_kashmiri_bot_use.shape}\")\n",
    "# print(f\"Kashmiri Human USE Embedding Shape: {vectors_kashmiri_human_use.shape}\")\n",
    "\n",
    "# # Optionally, save the embeddings\n",
    "# np.save(\"yoruba_bot_use.npy\", vectors_yoruba_bot_use)\n",
    "# np.save(\"yoruba_human_use.npy\", vectors_yoruba_human_use)\n",
    "# np.save(\"kashmiri_bot_use.npy\", vectors_kashmiri_bot_use)\n",
    "# np.save(\"kashmiri_human_use.npy\", vectors_kashmiri_human_use)"
   ]
  },
  {
   "cell_type": "code",
   "execution_count": 31,
   "id": "a6f5eabe-0104-42e4-9fc1-e44645b0276d",
   "metadata": {},
   "outputs": [
    {
     "name": "stdout",
     "output_type": "stream",
     "text": [
      "Unique Segments Sizes for USE:\n",
      "Yoruba Bot USE: 5364\n",
      "Yoruba Human USE: 8652\n",
      "Kashmiri Bot USE: 4606\n",
      "Kashmiri Human USE: 17520\n"
     ]
    }
   ],
   "source": [
    "# Get the number of unique segments\n",
    "unique_segments_sizes = {\n",
    "    \"Yoruba Bot USE\": len(np.unique(processed_texts_yoruba_bot)),\n",
    "    \"Yoruba Human USE\": len(np.unique(processed_texts_yoruba_human)),\n",
    "    \"Kashmiri Bot USE\": len(np.unique(processed_texts_kashmiri_bot)),\n",
    "    \"Kashmiri Human USE\": len(np.unique(processed_texts_kashmiri_human))\n",
    "}\n",
    "\n",
    "vals = []\n",
    "print(\"Unique Segments Sizes for USE:\")\n",
    "for dataset, size in unique_segments_sizes.items():\n",
    "    print(f\"{dataset}: {size}\")\n",
    "    vals.append(size)"
   ]
  },
  {
   "cell_type": "code",
   "execution_count": 32,
   "id": "fcbe8ade-77d7-457a-888b-ddd591fb3062",
   "metadata": {},
   "outputs": [],
   "source": [
    "from gensim.models import Word2Vec, FastText\n",
    "\n",
    "\n",
    "# Corpus models\n",
    "word2vec_corpus_yoruba = Word2Vec.load(\"word2vec_corpus_yoruba.model\")\n",
    "word2vec_corpus_kashmiri = Word2Vec.load(\"word2vec_corpus_kashmiri.model\")\n",
    "\n",
    "fasttext_corpus_yoruba = FastText.load(\"fasttext_corpus_yoruba.model\")\n",
    "fasttext_corpus_kashmiri = FastText.load(\"fasttext_corpus_kashmiri.model\")\n",
    "\n",
    "# GPT models\n",
    "word2vec_gpt_yoruba = Word2Vec.load(\"word2vec_gpt_yoruba.model\")\n",
    "word2vec_gpt_kashmiri = Word2Vec.load(\"word2vec_gpt_kashmiri.model\")\n",
    "\n",
    "fasttext_gpt_yoruba = FastText.load(\"fasttext_gpt_yoruba.model\")\n",
    "fasttext_gpt_kashmiri = FastText.load(\"fasttext_gpt_kashmiri.model\")\n",
    "\n",
    "# Extract vocabulary sizes\n",
    "vocab_sizes = {\n",
    "    \"Human Yoruba\": {\n",
    "        \"Word2Vec\": len(word2vec_corpus_yoruba.wv),\n",
    "        \"FastText\": len(fasttext_corpus_yoruba.wv),\n",
    "        \"USE\":vals[3]\n",
    "    },\n",
    "    \"Human Kashmiri\": {\n",
    "        \"Word2Vec\": len(word2vec_corpus_kashmiri.wv),\n",
    "        \"FastText\": len(fasttext_corpus_kashmiri.wv),\n",
    "        \"USE\":vals[1]\n",
    "    },\n",
    "    \"BOT Yoruba\": {\n",
    "        \"Word2Vec\": len(word2vec_gpt_yoruba.wv),\n",
    "        \"FastText\": len(fasttext_gpt_yoruba.wv),\n",
    "        \"USE\":vals[2]\n",
    "    },\n",
    "    \"BOT Kashmiri\": {\n",
    "        \"Word2Vec\": len(word2vec_gpt_kashmiri.wv),\n",
    "        \"FastText\": len(fasttext_gpt_kashmiri.wv),\n",
    "        \"USE\":vals[0]\n",
    "    }\n",
    "}"
   ]
  },
  {
   "cell_type": "code",
   "execution_count": 33,
   "id": "f5cb063a-9b6b-4e4a-b06b-64ae6e4dccdb",
   "metadata": {},
   "outputs": [
    {
     "name": "stdout",
     "output_type": "stream",
     "text": [
      "           Dataset     Model  Vocabulary Size\n",
      "0     Human Yoruba  Word2Vec             3609\n",
      "1     Human Yoruba  FastText             8652\n",
      "2     Human Yoruba       USE            17520\n",
      "3   Human Kashmiri  Word2Vec            11751\n",
      "4   Human Kashmiri  FastText            17520\n",
      "5   Human Kashmiri       USE             8652\n",
      "6       BOT Yoruba  Word2Vec             1779\n",
      "7       BOT Yoruba  FastText             5364\n",
      "8       BOT Yoruba       USE             4606\n",
      "9     BOT Kashmiri  Word2Vec             1463\n",
      "10    BOT Kashmiri  FastText             4606\n",
      "11    BOT Kashmiri       USE             5364\n"
     ]
    }
   ],
   "source": [
    "import pandas as pd\n",
    "\n",
    "# Flatten the dictionary into a list of dictionaries for DataFrame creation\n",
    "data_for_df = []\n",
    "for dataset, models in vocab_sizes.items():\n",
    "    for model, size in models.items():\n",
    "        data_for_df.append({\"Dataset\": dataset, \"Model\": model, \"Vocabulary Size\": size})\n",
    "\n",
    "# Create DataFrame\n",
    "df_vocab_sizes = pd.DataFrame(data_for_df)\n",
    "\n",
    "# Display DataFrame\n",
    "print(df_vocab_sizes)"
   ]
  },
  {
   "cell_type": "code",
   "execution_count": 36,
   "id": "76d9e8ba-6640-4330-b572-0e97457b60db",
   "metadata": {},
   "outputs": [
    {
     "data": {
      "image/png": "[encoded data removed]",
      "text/plain": [
       "<Figure size 1400x700 with 1 Axes>"
      ]
     },
     "metadata": {},
     "output_type": "display_data"
    }
   ],
   "source": [
    "import matplotlib.pyplot as plt\n",
    "import seaborn as sns\n",
    "\n",
    "# Plotting\n",
    "plt.figure(figsize=(14, 7))\n",
    "sns.barplot(x=\"Dataset\", y=\"Vocabulary Size\", hue=\"Model\", data=df_vocab_sizes)\n",
    "plt.title('Vocabulary Sizes Across Models and Datasets')\n",
    "plt.xticks(rotation=45)\n",
    "plt.show()"
   ]
  },
  {
   "cell_type": "code",
   "execution_count": null,
   "id": "d4d82f79",
   "metadata": {},
   "outputs": [],
   "source": []
  },
  {
   "cell_type": "code",
   "execution_count": 16,
   "id": "45e20e51-a637-439c-899e-1d30ecc50854",
   "metadata": {},
   "outputs": [],
   "source": []
  },
  {
   "cell_type": "markdown",
   "id": "8c230fab-7acd-4d68-9187-6253a1c804f1",
   "metadata": {},
   "source": [
    "# Lemmatization and Stemming of Yoruba Language"
   ]
  },
  {
   "cell_type": "code",
   "execution_count": null,
   "id": "f3085d32-c976-4778-909c-136af7df74a7",
   "metadata": {},
   "outputs": [],
   "source": [
    "# Cell 1: install / download (run once)\n",
    "!pip install googletrans==4.0.0-rc1 spacy pandas tqdm\n",
    "!python -m spacy download en_core_web_sm\n",
    "!pip install deep-translator spacy"
   ]
  },
  {
   "cell_type": "code",
   "execution_count": 18,
   "id": "141a2c16-757c-48dc-a38d-9f9fd5648448",
   "metadata": {},
   "outputs": [
    {
     "name": "stdout",
     "output_type": "stream",
     "text": [
      "Lemmatized + stemmed file written to dataset/human_data_yoruba_lemmatized_stemmed.txt\n"
     ]
    }
   ],
   "source": [
    "# coding: utf-8\n",
    "import re\n",
    "import unicodedata\n",
    "import spacy\n",
    "from deep_translator import GoogleTranslator\n",
    "\n",
    "# 1. Define Yoruba stemmer\n",
    "# 1.1 Normalize tone marks\n",
    "\n",
    "def normalize_tone(s: str) -> str:\n",
    "    return unicodedata.normalize(\"NFC\", s)\n",
    "\n",
    "# 1.2 Collapse reduplication\n",
    "\n",
    "def collapse_redup(word: str) -> str:\n",
    "    m = re.match(r\"^(.+?)[\\s\\-]\\1$\", word)\n",
    "    return m.group(1) if m else word\n",
    "\n",
    "# 1.3 Affix lists (expand as needed)\n",
    "SUFFIXES = [\"shí\", \"jẹ́\", \"ra\", \"re\", \"ní\", \"ni\", \"rá\", \"ré\"]\n",
    "PREFIXES  = [\"ń\", \"má\", \"tí\", \"mó\", \"ò\", \"à\"]\n",
    "\n",
    "# 1.4 Strip functions\n",
    "def strip_suffix(word: str) -> str:\n",
    "    for suf in sorted(SUFFIXES, key=len, reverse=True):\n",
    "        if word.endswith(suf):\n",
    "            return word[:-len(suf)]\n",
    "    return word\n",
    "\n",
    "def strip_prefix(word: str) -> str:\n",
    "    for pre in sorted(PREFIXES, key=len, reverse=True):\n",
    "        if word.startswith(pre):\n",
    "            return word[len(pre):]\n",
    "    return word\n",
    "\n",
    "# 1.5 Core stemmer\n",
    "\n",
    "def yoruba_stem(word: str) -> str:\n",
    "    w = normalize_tone(word)\n",
    "    w = collapse_redup(w)\n",
    "    w = strip_suffix(w)\n",
    "    w = strip_prefix(w)\n",
    "    return w\n",
    "\n",
    "# 2. Load spaCy English model and translators\n",
    "nlp = spacy.load(\"en_core_web_sm\")\n",
    "to_en = GoogleTranslator(source='yo', target='en')\n",
    "to_yo = GoogleTranslator(source='en', target='yo')\n",
    "\n",
    "# 3. Lemmatize + Stem one line of Yoruba text\n",
    "def lemmatize_and_stem_yoruba_line(line: str, chunk_size: int = 4000) -> str:\n",
    "    text = line.strip()\n",
    "    if not text:\n",
    "        return ''\n",
    "\n",
    "    def process_chunk(chunk: str) -> str:\n",
    "        # Translate to English, lemmatize, translate back\n",
    "        en = to_en.translate(chunk)\n",
    "        doc = nlp(en)\n",
    "        lemmas = [tok.lemma_ for tok in doc]\n",
    "        en_lemmas = \" \".join(lemmas)\n",
    "        yo_lemmas = to_yo.translate(en_lemmas)\n",
    "        # Apply stemmer to each token\n",
    "        tokens = yo_lemmas.split()\n",
    "        stems  = [yoruba_stem(tok) for tok in tokens]\n",
    "        return \" \".join(stems)\n",
    "\n",
    "    # If short enough, one pass\n",
    "    if len(text) < chunk_size:\n",
    "        return process_chunk(text)\n",
    "\n",
    "    # Otherwise break into space‑aware chunks\n",
    "    out_chunks = []\n",
    "    start = 0\n",
    "    while start < len(text):\n",
    "        end = min(len(text), start + chunk_size)\n",
    "        if end < len(text):\n",
    "            space = text.rfind(' ', start, end)\n",
    "            if space > start:\n",
    "                end = space\n",
    "        chunk = text[start:end]\n",
    "        out_chunks.append(process_chunk(chunk))\n",
    "        start = end\n",
    "    return ' '.join(out_chunks)\n",
    "\n",
    "# 4. File I/O\n",
    "input_path  = \"dataset/human_data_yoruba.txt\"\n",
    "output_path = \"dataset/human_data_yoruba_lemmatized_stemmed.txt\"\n",
    "\n",
    "with open(input_path, 'r', encoding='utf-8') as fin:\n",
    "    lines = fin.read().splitlines()\n",
    "\n",
    "out = [lemmatize_and_stem_yoruba_line(ln) for ln in lines]\n",
    "\n",
    "with open(output_path, 'w', encoding='utf-8') as fout:\n",
    "    fout.write(\"\\n\".join(out))\n",
    "\n",
    "print(f\"Lemmatized + stemmed file written to {output_path}\")"
   ]
  },
  {
   "cell_type": "markdown",
   "id": "cf05a2b9-e640-4f85-a5ab-83ffec914af1",
   "metadata": {},
   "source": [
    "# Lemmatization and Stemming of Kashmiri Language"
   ]
  },
  {
   "cell_type": "code",
   "execution_count": 19,
   "id": "a2e5082c-db94-4081-b0c8-20055423758c",
   "metadata": {},
   "outputs": [
    {
     "name": "stdout",
     "output_type": "stream",
     "text": [
      "Processed Kashmiri file saved to dataset/human_data_kashmiri_lemmatized_stemmed.txt\n"
     ]
    }
   ],
   "source": [
    "# coding: utf-8\n",
    "import re\n",
    "import unicodedata\n",
    "\n",
    "# 1. Normalize Unicode for consistent text handling\n",
    "#    This ensures all characters use a consistent NFC form.\n",
    "def normalize_kashmiri(s: str) -> str:\n",
    "    return unicodedata.normalize(\"NFC\", s)\n",
    "\n",
    "# 2. Define Kashmiri affix list for both lemmatization and stemming\n",
    "#    Extend this list based on corpus analysis (e.g., case endings, plural markers, postpositions).\n",
    "KASHMIRI_SUFFIXES = [\n",
    "    \"اں\",  # plural marker\n",
    "    \"وں\",  # alternate plural\n",
    "    \"ان\",  # oblique case\n",
    "    \"ۍ\",   # feminine suffix\n",
    "    \"ے\",   # locative/oblique\n",
    "    \"ہ\",   # adjective/possessive\n",
    "    \"و\",   # adverbial/postposition\n",
    "    \"ِ\",   # vowel sign\n",
    "    \"ٰ\"    # vowel sign\n",
    "]\n",
    "\n",
    "# 3. Strip function removes the longest matching suffix\n",
    "#    This serves both to produce a lemma and a stem in a simplified pipeline.\n",
    "def strip_suffix_ks(word: str) -> str:\n",
    "    for suf in sorted(KASHMIRI_SUFFIXES, key=len, reverse=True):\n",
    "        if word.endswith(suf):\n",
    "            return word[:-len(suf)]\n",
    "    return word\n",
    "\n",
    "# 4. Token-level lemmatizer\n",
    "#    Rule-based: removes known inflectional suffixes.\n",
    "def kashmiri_lemmatize_token(token: str) -> str:\n",
    "    token_norm = normalize_kashmiri(token)\n",
    "    return strip_suffix_ks(token_norm)\n",
    "\n",
    "# 5. Token-level stemmer\n",
    "#    For this simplified pipeline, we use the same stripping rules.\n",
    "def kashmiri_stem_token(token: str) -> str:\n",
    "    return kashmiri_lemmatize_token(token)\n",
    "\n",
    "# 6. Process one line: tokenize, lemmatize, stem\n",
    "#    Uses a regex that captures Arabic-script words (including Kashmiri diacritics).\n",
    "def process_kashmiri_line(line: str) -> str:\n",
    "    tokens = re.findall(r\"[\\wء-ئ]+\", line)\n",
    "    lemmas = [kashmiri_lemmatize_token(t) for t in tokens]\n",
    "    stems  = [kashmiri_stem_token(t) for t in lemmas]\n",
    "    return \" \".join(stems)\n",
    "\n",
    "# 7. Example file I/O\n",
    "if __name__ == \"__main__\":\n",
    "    input_path  = \"dataset/human_data_kashmiri.txt\"\n",
    "    output_path = \"dataset/human_data_kashmiri_lemmatized_stemmed.txt\"\n",
    "\n",
    "    with open(input_path, 'r', encoding='utf-8') as fin:\n",
    "        lines = fin.read().splitlines()\n",
    "\n",
    "    processed = [process_kashmiri_line(ln) for ln in lines]\n",
    "\n",
    "    with open(output_path, 'w', encoding='utf-8') as fout:\n",
    "        fout.write(\"\\n\".join(processed))\n",
    "\n",
    "    print(f\"Processed Kashmiri file saved to {output_path}\")"
   ]
  },
  {
   "cell_type": "code",
   "execution_count": null,
   "id": "fb74679b-c6c6-459b-a480-02e651131198",
   "metadata": {},
   "outputs": [],
   "source": []
  },
  {
   "cell_type": "code",
   "execution_count": null,
   "id": "bb8efa9b-e1c9-4d54-bb6a-2d4f33e72980",
   "metadata": {},
   "outputs": [],
   "source": []
  }
 ],
 "metadata": {
  "kernelspec": {
   "display_name": "Python 3 (ipykernel)",
   "language": "python",
   "name": "python3"
  },
  "language_info": {
   "codemirror_mode": {
    "name": "ipython",
    "version": 3
   },
   "file_extension": ".py",
   "mimetype": "text/x-python",
   "name": "python",
   "nbconvert_exporter": "python",
   "pygments_lexer": "ipython3",
   "version": "3.11.12"
  }
 },
 "nbformat": 4,
 "nbformat_minor": 5
}
